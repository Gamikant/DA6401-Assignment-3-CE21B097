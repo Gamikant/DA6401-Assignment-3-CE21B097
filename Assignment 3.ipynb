{
 "cells": [
  {
   "cell_type": "code",
   "execution_count": 1,
   "id": "c2f02508",
   "metadata": {},
   "outputs": [],
   "source": [
    "# Cell 1: Install Libraries (if not already installed)\n",
    "# !pip install wandb tensorflow numpy pandas scikit-learn\n",
    "\n",
    "# Import necessary libraries\n",
    "import numpy as np\n",
    "import pandas as pd\n",
    "import tensorflow as tf\n",
    "from tensorflow import keras # Ensures keras is from tensorflow\n",
    "from tensorflow.keras.layers import Input, Embedding, LSTM, GRU, Dense, Dropout # Removed Bidirectional, AdditiveAttention, Attention as not used in Q2 model\n",
    "from tensorflow.keras.models import Model\n",
    "from tensorflow.keras.callbacks import EarlyStopping # Removed ModelCheckpoint as WandbModelCheckpoint is used\n",
    "from tensorflow.keras.preprocessing.sequence import pad_sequences\n",
    "from sklearn.model_selection import train_test_split # Not strictly used in the sweep, but good for general use\n",
    "import wandb\n",
    "from wandb.integration.keras import WandbMetricsLogger, WandbModelCheckpoint\n",
    "\n",
    "\n",
    "import os\n",
    "import re\n",
    "import time\n",
    "import unicodedata"
   ]
  },
  {
   "cell_type": "code",
   "execution_count": 2,
   "id": "d8b52170",
   "metadata": {},
   "outputs": [
    {
     "name": "stdout",
     "output_type": "stream",
     "text": [
      "Training samples: 44202\n",
      "Validation samples: 4358\n",
      "Test samples: 4502\n",
      "\n",
      "Sample training data:\n",
      "Input: an, Target: अं\n",
      "Input: ankganit, Target: अंकगणित\n",
      "Input: uncle, Target: अंकल\n"
     ]
    }
   ],
   "source": [
    "# Cell 3: Data Loading and Initial Parsing\n",
    "\n",
    "def load_data(filepath):\n",
    "    \"\"\"Loads data from a TSV file.\"\"\"\n",
    "    try:\n",
    "        df = pd.read_csv(filepath, sep='\\t', header=None, on_bad_lines='skip', names=['native', 'roman', 'count'])\n",
    "        # The problem statement is romanized (input) to native (target)\n",
    "        # e.g., \"ajanabee अजनबी\" -> x = \"ajanabee\", y = \"अजनबी\"\n",
    "        # The Dakshina dataset lexicon format is: native_word, romanization, count\n",
    "        # So, for our task: input_texts = df['roman'], target_texts = df['native']\n",
    "        \n",
    "        # Handle cases where lines might not have 3 columns or have NaN values\n",
    "        df.dropna(subset=['native', 'roman'], inplace=True)\n",
    "        \n",
    "        input_texts = df['roman'].astype(str).tolist()\n",
    "        target_texts = df['native'].astype(str).tolist()\n",
    "        return input_texts, target_texts\n",
    "    except Exception as e:\n",
    "        print(f\"Error loading data from {filepath}: {e}\")\n",
    "        return [], []\n",
    "\n",
    "# --- Define file paths ---\n",
    "# Make sure these paths are correct for your local project structure\n",
    "# Assuming dakshina_dataset_v1.0 is in the same directory as the notebook\n",
    "dataset_base_dir = 'dakshina_dataset_v1.0' \n",
    "language = 'hi' # Hindi\n",
    "\n",
    "train_file = os.path.join(dataset_base_dir, language, 'lexicons', f'{language}.translit.sampled.train.tsv')\n",
    "dev_file = os.path.join(dataset_base_dir, language, 'lexicons', f'{language}.translit.sampled.dev.tsv')\n",
    "test_file = os.path.join(dataset_base_dir, language, 'lexicons', f'{language}.translit.sampled.test.tsv')\n",
    "\n",
    "# Load data\n",
    "input_texts_train_full, target_texts_train_full = load_data(train_file)\n",
    "input_texts_val, target_texts_val = load_data(dev_file)\n",
    "input_texts_test, target_texts_test = load_data(test_file) # Test set for final evaluation after sweep\n",
    "\n",
    "# For faster sweep iterations, you might want to use a subset of the training data\n",
    "# For now, let's use the full training data. If sweeps are too slow, consider sampling.\n",
    "input_texts_train, target_texts_train = input_texts_train_full, target_texts_train_full\n",
    "\n",
    "print(f\"Training samples: {len(input_texts_train)}\")\n",
    "print(f\"Validation samples: {len(input_texts_val)}\")\n",
    "print(f\"Test samples: {len(input_texts_test)}\")\n",
    "\n",
    "if len(input_texts_train) > 0 and len(target_texts_train) > 0:\n",
    "    print(\"\\nSample training data:\")\n",
    "    for i in range(min(3, len(input_texts_train))):\n",
    "        print(f\"Input: {input_texts_train[i]}, Target: {target_texts_train[i]}\")\n",
    "else:\n",
    "    print(\"No training data loaded. Please check file paths and content.\")\n",
    "\n",
    "if len(input_texts_val) == 0:\n",
    "    print(\"No validation data loaded. Sweeps will not work correctly without validation data.\")\n",
    "\n"
   ]
  },
  {
   "cell_type": "code",
   "execution_count": 3,
   "id": "aee76a5b",
   "metadata": {},
   "outputs": [
    {
     "name": "stdout",
     "output_type": "stream",
     "text": [
      "\n",
      "Number of unique input tokens: 26\n",
      "Number of unique output tokens: 65\n",
      "Max sequence length for inputs: 20\n",
      "Max sequence length for outputs: 21\n",
      "\n",
      "Shape of encoder_input_train: (44202, 20)\n",
      "Shape of decoder_input_train: (44202, 21)\n",
      "Shape of decoder_target_train: (44202, 21, 65)\n"
     ]
    }
   ],
   "source": [
    "# Cell 4: Data Preprocessing - Vocabulary, Tokenization, Padding\n",
    "\n",
    "# --- Character sets and tokenization ---\n",
    "input_characters = set()\n",
    "target_characters = set()\n",
    "\n",
    "for text in input_texts_train:\n",
    "    for char in text:\n",
    "        if char not in input_characters:\n",
    "            input_characters.add(char)\n",
    "\n",
    "for text in target_texts_train:\n",
    "    for char in text: # Add SOS and EOS tokens\n",
    "        if char not in target_characters:\n",
    "            target_characters.add(char)\n",
    "\n",
    "# Add special tokens\n",
    "SOS_TOKEN = '\\t' # Start Of Sequence\n",
    "EOS_TOKEN = '\\n' # End Of Sequence\n",
    "# Ensure target characters include SOS and EOS, even if not in training data explicitly for some reason\n",
    "target_characters.add(SOS_TOKEN)\n",
    "target_characters.add(EOS_TOKEN)\n",
    "\n",
    "\n",
    "input_char_list = sorted(list(input_characters))\n",
    "target_char_list = sorted(list(target_characters))\n",
    "\n",
    "num_encoder_tokens = len(input_char_list)\n",
    "num_decoder_tokens = len(target_char_list)\n",
    "\n",
    "# Create char-to-index and index-to-char mappings\n",
    "input_token_index = {char: i for i, char in enumerate(input_char_list)}\n",
    "target_token_index = {char: i for i, char in enumerate(target_char_list)}\n",
    "\n",
    "reverse_input_char_index = {i: char for char, i in input_token_index.items()}\n",
    "reverse_target_char_index = {i: char for char, i in target_token_index.items()}\n",
    "\n",
    "# Determine max sequence lengths\n",
    "max_encoder_seq_length = max(len(text) for text in input_texts_train + input_texts_val)\n",
    "max_decoder_seq_length = max(len(text) for text in target_texts_train + target_texts_val) + 2 # +2 for SOS and EOS\n",
    "\n",
    "print(f\"\\nNumber of unique input tokens: {num_encoder_tokens}\")\n",
    "print(f\"Number of unique output tokens: {num_decoder_tokens}\")\n",
    "print(f\"Max sequence length for inputs: {max_encoder_seq_length}\")\n",
    "print(f\"Max sequence length for outputs: {max_decoder_seq_length}\")\n",
    "\n",
    "\n",
    "# --- Vectorize the data ---\n",
    "def vectorize_data(input_texts, target_texts, is_training=True):\n",
    "    encoder_input_data = np.zeros((len(input_texts), max_encoder_seq_length), dtype=\"float32\")\n",
    "    decoder_input_data = np.zeros((len(target_texts), max_decoder_seq_length), dtype=\"float32\")\n",
    "    decoder_target_data = np.zeros((len(target_texts), max_decoder_seq_length, num_decoder_tokens), dtype=\"float32\") # For sparse_categorical_crossentropy, this should be integers\n",
    "\n",
    "    for i, (input_text, target_text) in enumerate(zip(input_texts, target_texts)):\n",
    "        for t, char in enumerate(input_text):\n",
    "            if char in input_token_index: # Handle chars not in vocab if any (should not happen if vocab from train)\n",
    "                 encoder_input_data[i, t] = input_token_index[char]\n",
    "            # else: ignore unknown char or map to a special <UNK> token if defined\n",
    "        \n",
    "        # Decoder target data is ahead of decoder input data by one timestep\n",
    "        # and includes the start token.\n",
    "        # Decoder input: <SOS> char1 char2 ...\n",
    "        # Decoder target: char1 char2 ... <EOS>\n",
    "        \n",
    "        processed_target_text = SOS_TOKEN + target_text + EOS_TOKEN\n",
    "        for t, char in enumerate(processed_target_text):\n",
    "            if t < max_decoder_seq_length:\n",
    "                if char in target_token_index:\n",
    "                    decoder_input_data[i, t] = target_token_index[char]\n",
    "                    if t > 0: # decoder_target_data will be one timestep ahead\n",
    "                        # For sparse_categorical_crossentropy, target should be (batch, seq_len) with token indices\n",
    "                        # However, standard Keras examples use one-hot for TimeDistributed(Dense)\n",
    "                        # If using sparse_categorical_crossentropy, decoder_target_data should be integer indices\n",
    "                        decoder_target_data[i, t - 1, target_token_index[char]] = 1.0 # One-hot\n",
    "            # else: sequence is longer than max_decoder_seq_length, truncate\n",
    "    \n",
    "    # If using sparse_categorical_crossentropy, decoder_target_data should be:\n",
    "    # decoder_target_data_sparse = np.zeros((len(target_texts), max_decoder_seq_length), dtype=\"float32\")\n",
    "    # ... loop ...\n",
    "    # if t > 0 and char in target_token_index:\n",
    "    #    decoder_target_data_sparse[i, t-1] = target_token_index[char]\n",
    "    # return encoder_input_data, decoder_input_data, decoder_target_data_sparse\n",
    "    \n",
    "    return encoder_input_data, decoder_input_data, decoder_target_data\n",
    "\n",
    "\n",
    "encoder_input_train, decoder_input_train, decoder_target_train = vectorize_data(input_texts_train, target_texts_train)\n",
    "encoder_input_val, decoder_input_val, decoder_target_val = vectorize_data(input_texts_val, target_texts_val)\n",
    "\n",
    "print(\"\\nShape of encoder_input_train:\", encoder_input_train.shape)\n",
    "print(\"Shape of decoder_input_train:\", decoder_input_train.shape)\n",
    "print(\"Shape of decoder_target_train:\", decoder_target_train.shape)\n"
   ]
  },
  {
   "cell_type": "code",
   "execution_count": 4,
   "id": "dbdb2dd4",
   "metadata": {},
   "outputs": [],
   "source": [
    "# Cell 5: Model Building Function\n",
    "\n",
    "def build_seq2seq_model(config):\n",
    "    \"\"\"Builds the Encoder-Decoder model based on wandb config.\"\"\"\n",
    "    \n",
    "    # Encoder\n",
    "    encoder_inputs = Input(shape=(None,), name=\"encoder_inputs\") # None allows variable sequence length for encoder input\n",
    "    emb_enc = Embedding(num_encoder_tokens, config.input_embedding_size, name=\"encoder_embedding\")(encoder_inputs)\n",
    "    \n",
    "    # Select RNN cell type\n",
    "    if config.cell_type == \"LSTM\":\n",
    "        RNNCell = LSTM\n",
    "    elif config.cell_type == \"GRU\":\n",
    "        RNNCell = GRU\n",
    "    else: # Default to Vanilla RNN\n",
    "        RNNCell = keras.layers.SimpleRNN # Corrected SimpleRNN layer access\n",
    "\n",
    "    encoder_rnn_output = emb_enc\n",
    "    encoder_states_list = []\n",
    "\n",
    "    for i in range(config.encoder_layers):\n",
    "        is_last_layer = (i == config.encoder_layers - 1)\n",
    "        rnn_layer = RNNCell(config.hidden_size, \n",
    "                            return_sequences=not is_last_layer, # Only last layer returns just state\n",
    "                            return_state=True, \n",
    "                            dropout=config.dropout_rate if config.encoder_layers > 1 and i < config.encoder_layers-1 else 0.0, # Dropout between layers\n",
    "                            name=f\"encoder_{config.cell_type}_{i}\")\n",
    "        \n",
    "        if config.cell_type == \"LSTM\":\n",
    "            encoder_rnn_output, state_h, state_c = rnn_layer(encoder_rnn_output)\n",
    "            encoder_states = [state_h, state_c]\n",
    "        else: # GRU or SimpleRNN\n",
    "            encoder_rnn_output, state_h = rnn_layer(encoder_rnn_output)\n",
    "            encoder_states = [state_h]\n",
    "        \n",
    "        if is_last_layer: # We need the states from the last encoder layer for the decoder\n",
    "            encoder_states_list = encoder_states\n",
    "        else: # If intermediate layer, its output is sequence for next layer\n",
    "             encoder_rnn_output = Dropout(config.dropout_rate)(encoder_rnn_output) if config.dropout_rate > 0 else encoder_rnn_output\n",
    "\n",
    "\n",
    "    # Decoder\n",
    "    decoder_inputs = Input(shape=(None,), name=\"decoder_inputs\")\n",
    "    # For decoder embedding, we can use a separate one or share with encoder if vocabularies were merged.\n",
    "    # Here, using a separate embedding layer for the decoder.\n",
    "    emb_dec = Embedding(num_decoder_tokens, config.input_embedding_size, name=\"decoder_embedding\")(decoder_inputs) # Using same embedding dim as input\n",
    "    \n",
    "    decoder_rnn_output = emb_dec\n",
    "    \n",
    "    for i in range(config.decoder_layers):\n",
    "        rnn_layer = RNNCell(config.hidden_size, \n",
    "                            return_sequences=True, \n",
    "                            return_state=True, \n",
    "                            dropout=config.dropout_rate if config.decoder_layers > 1 and i < config.decoder_layers-1 else 0.0,\n",
    "                            name=f\"decoder_{config.cell_type}_{i}\")\n",
    "        \n",
    "        # Initialize decoder with encoder's final states\n",
    "        # For the first decoder layer, initialize with encoder_states_list\n",
    "        # For subsequent decoder layers, they will initialize with their own previous states (Keras handles this)\n",
    "        initial_state_arg = encoder_states_list if i == 0 else None \n",
    "        \n",
    "        if config.cell_type == \"LSTM\":\n",
    "            decoder_rnn_output, _, _ = rnn_layer(decoder_rnn_output, initial_state=initial_state_arg)\n",
    "        else: # GRU or SimpleRNN\n",
    "            decoder_rnn_output, _ = rnn_layer(decoder_rnn_output, initial_state=initial_state_arg)\n",
    "        \n",
    "        if i < config.decoder_layers - 1: # Apply dropout between decoder layers\n",
    "             decoder_rnn_output = Dropout(config.dropout_rate)(decoder_rnn_output) if config.dropout_rate > 0 else decoder_rnn_output\n",
    "\n",
    "    # Final output layer\n",
    "    decoder_dense = Dense(num_decoder_tokens, activation=\"softmax\", name=\"decoder_output_dense\")\n",
    "    decoder_outputs = decoder_dense(decoder_rnn_output)\n",
    "\n",
    "    # Define the model\n",
    "    model = Model([encoder_inputs, decoder_inputs], decoder_outputs)\n",
    "\n",
    "    # Compile the model\n",
    "    # Optimizer can also be part of the sweep\n",
    "    optimizer_choice = tf.keras.optimizers.Adam(learning_rate=config.learning_rate)\n",
    "    if hasattr(config, 'optimizer'):\n",
    "        if config.optimizer == 'rmsprop':\n",
    "            optimizer_choice = tf.keras.optimizers.RMSprop(learning_rate=config.learning_rate)\n",
    "        elif config.optimizer == 'sgd':\n",
    "            optimizer_choice = tf.keras.optimizers.SGD(learning_rate=config.learning_rate)\n",
    "            \n",
    "    model.compile(optimizer=optimizer_choice, loss=\"categorical_crossentropy\", metrics=[\"accuracy\"])\n",
    "    # If decoder_target_data was integer indices, use \"sparse_categorical_crossentropy\"\n",
    "    \n",
    "    return model\n"
   ]
  },
  {
   "cell_type": "code",
   "execution_count": 5,
   "id": "cd8f932b",
   "metadata": {},
   "outputs": [],
   "source": [
    "# Cell 6: Inference Models and Beam Search Decode Function\n",
    "\n",
    "def build_inference_models(training_model, config):\n",
    "    # --- Encoder Model for Inference ---\n",
    "    # Fix: Create Input layer instead of getting it from training model\n",
    "    encoder_inputs_inf = Input(shape=(None,), name=\"encoder_inputs_inf\") \n",
    "    \n",
    "    # Get encoder embedding layer output through the layer's weights\n",
    "    encoder_embedding_layer = training_model.get_layer(\"encoder_embedding\")\n",
    "    encoder_embedding_inf = encoder_embedding_layer(encoder_inputs_inf)\n",
    "    \n",
    "    current_encoder_output = encoder_embedding_inf\n",
    "    encoder_states_inf_list = []\n",
    "\n",
    "    # Rest of the encoder model building...\n",
    "    for i in range(config.encoder_layers):\n",
    "        encoder_rnn_layer_inf = training_model.get_layer(f\"encoder_{config.cell_type}_{i}\")\n",
    "        if config.cell_type == \"LSTM\":\n",
    "            current_encoder_output, state_h_enc, state_c_enc = encoder_rnn_layer_inf(current_encoder_output)\n",
    "            if i == config.encoder_layers - 1:\n",
    "                 encoder_states_inf_list = [state_h_enc, state_c_enc]\n",
    "        else: # GRU or SimpleRNN\n",
    "            current_encoder_output, state_h_enc = encoder_rnn_layer_inf(current_encoder_output)\n",
    "            if i == config.encoder_layers - 1:\n",
    "                encoder_states_inf_list = [state_h_enc]\n",
    "\n",
    "    # Create encoder model with the new input\n",
    "    encoder_model_inf = Model(encoder_inputs_inf, encoder_states_inf_list)\n",
    "    # --- Decoder Model for Inference ---\n",
    "    decoder_state_input_h_list = []\n",
    "    decoder_state_input_c_list = [] # Only for LSTM\n",
    "    decoder_states_inputs_inf_list = []\n",
    "\n",
    "    for i in range(config.decoder_layers):\n",
    "        state_h = Input(shape=(config.hidden_size,), name=f\"decoder_state_input_h_{i}\")\n",
    "        decoder_state_input_h_list.append(state_h)\n",
    "        decoder_states_inputs_inf_list.append(state_h)\n",
    "        if config.cell_type == \"LSTM\":\n",
    "            state_c = Input(shape=(config.hidden_size,), name=f\"decoder_state_input_c_{i}\")\n",
    "            decoder_state_input_c_list.append(state_c)\n",
    "            decoder_states_inputs_inf_list.append(state_c)\n",
    "\n",
    "\n",
    "    decoder_inputs_inf_single_step = Input(shape=(1,), name=\"decoder_inputs_single_step\") # Input is one char at a time\n",
    "    decoder_embedding_inf = training_model.get_layer(\"decoder_embedding\")(decoder_inputs_inf_single_step)\n",
    "\n",
    "    current_decoder_output_inf = decoder_embedding_inf\n",
    "    decoder_states_output_inf_list = []\n",
    "\n",
    "    # The initial states for the *first* decoder layer during inference come from the encoder.\n",
    "    # However, the inference decoder model needs to be general and accept states for *all its layers*.\n",
    "    # For the first step, we pass encoder_states to the first decoder layer.\n",
    "    # For subsequent steps, we pass the output states of the previous step.\n",
    "    \n",
    "    # We need to reconstruct the state inputs for each decoder layer carefully\n",
    "    # Keras layers expect a list of states if stateful, or if return_state=True\n",
    "    \n",
    "    temp_decoder_states_inputs_inf = []\n",
    "    if config.cell_type == \"LSTM\":\n",
    "        for i in range(config.decoder_layers):\n",
    "            temp_decoder_states_inputs_inf.extend([decoder_state_input_h_list[i], decoder_state_input_c_list[i]])\n",
    "    else: # GRU/SimpleRNN\n",
    "        for i in range(config.decoder_layers):\n",
    "            temp_decoder_states_inputs_inf.append(decoder_state_input_h_list[i])\n",
    "\n",
    "    idx = 0\n",
    "    for i in range(config.decoder_layers):\n",
    "        decoder_rnn_layer_inf = training_model.get_layer(f\"decoder_{config.cell_type}_{i}\")\n",
    "        \n",
    "        # Prepare initial_state for this specific layer from the input states list\n",
    "        if config.cell_type == \"LSTM\":\n",
    "            layer_initial_states = [temp_decoder_states_inputs_inf[idx], temp_decoder_states_inputs_inf[idx+1]]\n",
    "            idx += 2\n",
    "            current_decoder_output_inf, state_h_dec, state_c_dec = decoder_rnn_layer_inf(\n",
    "                current_decoder_output_inf, initial_state=layer_initial_states\n",
    "            )\n",
    "            decoder_states_output_inf_list.extend([state_h_dec, state_c_dec])\n",
    "        else: # GRU or SimpleRNN\n",
    "            layer_initial_states = [temp_decoder_states_inputs_inf[idx]]\n",
    "            idx += 1\n",
    "            current_decoder_output_inf, state_h_dec = decoder_rnn_layer_inf(\n",
    "                current_decoder_output_inf, initial_state=layer_initial_states\n",
    "            )\n",
    "            decoder_states_output_inf_list.append(state_h_dec)\n",
    "            \n",
    "    decoder_dense_inf = training_model.get_layer(\"decoder_output_dense\")\n",
    "    decoder_outputs_inf = decoder_dense_inf(current_decoder_output_inf)\n",
    "    \n",
    "    decoder_model_inf = Model(\n",
    "        [decoder_inputs_inf_single_step] + temp_decoder_states_inputs_inf, \n",
    "        [decoder_outputs_inf] + decoder_states_output_inf_list\n",
    "    )\n",
    "    \n",
    "    return encoder_model_inf, decoder_model_inf\n",
    "\n",
    "\n",
    "def decode_sequence_beam_search(input_seq_vectorized, encoder_model, decoder_model, beam_width, config):\n",
    "    # Encode the input as state vectors.\n",
    "    states_value_list = encoder_model.predict(input_seq_vectorized, verbose=0)\n",
    "    \n",
    "    if not isinstance(states_value_list, list):\n",
    "        states_value_list = [states_value_list]  # Convert to list if single state\n",
    "    \n",
    "    # Initialize decoder states\n",
    "    current_states_for_decoder_model = []\n",
    "    \n",
    "    # Populate initial states for the first decoder layer from encoder\n",
    "    current_states_for_decoder_model.extend(states_value_list)\n",
    "    \n",
    "    # Populate zero states for subsequent decoder layers (if any)\n",
    "    batch_size = 1  # For single sequence decoding\n",
    "    num_states_per_layer = 2 if config.cell_type == \"LSTM\" else 1\n",
    "    for _ in range(1, config.decoder_layers):\n",
    "        for _ in range(num_states_per_layer):\n",
    "            current_states_for_decoder_model.append(np.zeros((batch_size, config.hidden_size)))\n",
    "\n",
    "    # Start with the SOS token\n",
    "    target_seq = np.array([[target_token_index[SOS_TOKEN]]])\n",
    "    \n",
    "    # Initial beam: (sequence_indices, log_probability, states_for_decoder_model)\n",
    "    initial_beam = [([target_token_index[SOS_TOKEN]], 0.0, current_states_for_decoder_model)]\n",
    "    live_hypotheses = initial_beam\n",
    "\n",
    "    for _ in range(max_decoder_seq_length):\n",
    "        new_hypotheses = []\n",
    "        for seq_indices, score, current_states in live_hypotheses:\n",
    "            if seq_indices[-1] == target_token_index[EOS_TOKEN] and len(seq_indices) > 1:\n",
    "                new_hypotheses.append((seq_indices, score, current_states))\n",
    "                continue\n",
    "\n",
    "            # Predict next token\n",
    "            last_token_idx = np.array([[seq_indices[-1]]])\n",
    "            \n",
    "            # Make sure all inputs have batch_size=1 and correct shapes\n",
    "            decoder_model_inputs = [last_token_idx] + [\n",
    "                np.reshape(state, (1, -1)) if state.shape[0] != 1 else state \n",
    "                for state in current_states\n",
    "            ]\n",
    "            \n",
    "            output_tokens_probs_list = decoder_model.predict(decoder_model_inputs, verbose=0)\n",
    "            \n",
    "            output_tokens_probs = output_tokens_probs_list[0]  # Shape should be (1, 1, num_decoder_tokens)\n",
    "            new_states_list = output_tokens_probs_list[1:]\n",
    "\n",
    "            # Calculate log probabilities for all tokens\n",
    "            log_probs = np.log(output_tokens_probs[0, 0] + 1e-9)  # Get probabilities for the first (and only) timestep\n",
    "            top_k_indices = np.argsort(log_probs)[-beam_width:]  # Get indices of top k probabilities\n",
    "            \n",
    "            for token_idx in top_k_indices:\n",
    "                if token_idx < len(log_probs):  # Add bounds check\n",
    "                    new_seq_indices = seq_indices + [token_idx]\n",
    "                    new_score = score + log_probs[token_idx]\n",
    "                    new_hypotheses.append((new_seq_indices, new_score, new_states_list))\n",
    "\n",
    "        # Sort and keep top beam_width hypotheses\n",
    "        if new_hypotheses:  # Only sort if we have new hypotheses\n",
    "            live_hypotheses = sorted(new_hypotheses, key=lambda x: x[1], reverse=True)[:beam_width]\n",
    "        else:\n",
    "            break  # No valid hypotheses, end decoding\n",
    "\n",
    "        if all(h[0][-1] == target_token_index[EOS_TOKEN] for h in live_hypotheses if len(h[0]) > 1):\n",
    "            break\n",
    "\n",
    "    # Choose best hypothesis and convert to text\n",
    "    if not live_hypotheses:  # Handle the case where we have no valid hypotheses\n",
    "        return \"\"\n",
    "        \n",
    "    best_hypothesis = max(live_hypotheses, key=lambda x: x[1]/len(x[0]) if len(x[0]) > 1 else x[1])\n",
    "    decoded_sentence_indices = best_hypothesis[0]\n",
    "    \n",
    "    decoded_sentence = \"\"\n",
    "    for token_idx in decoded_sentence_indices:\n",
    "        if token_idx == target_token_index[SOS_TOKEN]:\n",
    "            continue\n",
    "        if token_idx == target_token_index[EOS_TOKEN]:\n",
    "            break\n",
    "        if token_idx in reverse_target_char_index:\n",
    "             decoded_sentence += reverse_target_char_index[token_idx]\n",
    "    return decoded_sentence\n"
   ]
  },
  {
   "cell_type": "code",
   "execution_count": 6,
   "id": "f70d932c",
   "metadata": {},
   "outputs": [],
   "source": [
    "# Cell 7: Training and Evaluation Function (train_evaluate) (Modified)\n",
    "from tqdm import tqdm\n",
    "def train_evaluate():\n",
    "    keras.backend.clear_session() # <<< --- ADD THIS LINE TO CLEAR KERAS SESSION\n",
    "    \n",
    "    # The agent (wandb.agent) calls this function.\n",
    "    # It sets up wandb.config. We initialize W&B to connect to this run.\n",
    "    run = wandb.init() # Project and entity are typically inherited from the sweep environment.\n",
    "                       \n",
    "    config = wandb.config # This is populated by the W&B agent\n",
    "\n",
    "    # Build the training model\n",
    "    print(f\"--- Building model for run {run.id if run else 'N/A'} with config: {dict(config)} ---\")\n",
    "    training_model = build_seq2seq_model(config)\n",
    "    # training_model.summary() # Optional: for debugging model structure\n",
    "    \n",
    "    # Callbacks\n",
    "    early_stopping = EarlyStopping(monitor='val_loss', \n",
    "                                   patience=config.early_stopping_patience, \n",
    "                                   restore_best_weights=True, \n",
    "                                   verbose=1)\n",
    "    wandb_metrics_logger = WandbMetricsLogger(log_freq=\"epoch\")\n",
    "\n",
    "    # Train the model\n",
    "    print(f\"--- Starting training for run {run.id if run else 'N/A'} ---\")\n",
    "    history = training_model.fit(\n",
    "        [encoder_input_train, decoder_input_train],\n",
    "        decoder_target_train,\n",
    "        batch_size=config.batch_size,\n",
    "        epochs=config.epochs, \n",
    "        validation_data=([encoder_input_val, decoder_input_val], decoder_target_val),\n",
    "        callbacks=[early_stopping, wandb_metrics_logger],\n",
    "        verbose=1 \n",
    "    )\n",
    "    \n",
    "    wandb.log({\"val_exact_match_accuracy\": history.history['val_accuracy'][-1]})\n",
    "    # # --- Evaluation with Beam Search ---\n",
    "    # # Build inference models from the *trained* training_model weights\n",
    "    # print(f\"--- Building inference models for run {run.id if run else 'N/A'} ---\")\n",
    "    # encoder_model_inf, decoder_model_inf = build_inference_models(training_model, config)\n",
    "\n",
    "    # correct_predictions = 0\n",
    "    # total_predictions = encoder_input_val.shape[0] \n",
    "    \n",
    "    # if total_predictions == 0:\n",
    "    #     print(\"No validation data to evaluate.\")\n",
    "    #     wandb.log({\"val_exact_match_accuracy\": 0.0})\n",
    "    #     # wandb.finish() # Agent handles finishing the run\n",
    "    #     return\n",
    "\n",
    "    # eval_table_data = []\n",
    "    # print(f\"--- Starting evaluation for run {run.id if run else 'N/A'} ---\")\n",
    "    # for i in tqdm(range(total_predictions)):\n",
    "    #     current_input_vector = encoder_input_val[i:i+1] \n",
    "    #     original_input_text = input_texts_val[i] \n",
    "    #     original_target_text = target_texts_val[i]\n",
    "        \n",
    "    #     decoded_sentence = decode_sequence_beam_search(\n",
    "    #         current_input_vector, \n",
    "    #         encoder_model_inf, \n",
    "    #         decoder_model_inf, \n",
    "    #         config.beam_size,\n",
    "    #         config \n",
    "    #     )\n",
    "        \n",
    "    #     if decoded_sentence == original_target_text:\n",
    "    #         correct_predictions += 1\n",
    "            \n",
    "    #     if i < 5: \n",
    "    #         eval_table_data.append([original_input_text, original_target_text, decoded_sentence])\n",
    "\n",
    "    # if eval_table_data:\n",
    "    #     try: # Add try-except for wandb logging as a precaution\n",
    "    #         wandb.log({\"eval_examples\": wandb.Table(data=eval_table_data,\n",
    "    #                                                columns=[\"Input\", \"True Target\", \"Predicted Target\"])})\n",
    "    #     except Exception as e:\n",
    "    #         print(f\"Error logging eval_examples to W&B: {e}\")\n",
    "\n",
    "\n",
    "    # val_exact_match_accuracy = correct_predictions / total_predictions if total_predictions > 0 else 0.0\n",
    "    \n",
    "    # try:\n",
    "    #     wandb.log({\"val_exact_match_accuracy\": val_exact_match_accuracy}) \n",
    "    # except Exception as e:\n",
    "    #     print(f\"Error logging val_exact_match_accuracy to W&B: {e}\")\n",
    "\n",
    "    \n",
    "    # print(f\"Run {run.id if run else 'Unknown'} | Validation Exact Match Accuracy (Beam Size {config.beam_size}): {val_exact_match_accuracy:.4f}\")\n",
    "    # print(f\"--- Finished evaluation for run {run.id if run else 'N/A'} ---\")\n",
    "    # # The W&B agent calling this function will handle wandb.finish()\n"
   ]
  },
  {
   "cell_type": "code",
   "execution_count": 7,
   "id": "44e0aadf",
   "metadata": {},
   "outputs": [],
   "source": [
    "# Cell 8: Wandb Sweep Configuration\n",
    "\n",
    "sweep_config = {\n",
    "    'method': 'bayes',  # Bayesian optimization, or 'random', 'grid'\n",
    "    'metric': {\n",
    "        'name': 'val_exact_match_accuracy', # Custom metric from beam search eval\n",
    "        'goal': 'maximize'   \n",
    "    },\n",
    "    'parameters': {\n",
    "        'input_embedding_size': {\n",
    "            'values': [32, 64, 128] \n",
    "        },\n",
    "        'hidden_size': {\n",
    "            'values': [64, 128, 256] \n",
    "        },\n",
    "        'encoder_layers': {\n",
    "            'values': [1, 2]\n",
    "        },\n",
    "        'decoder_layers': {\n",
    "            'values': [1, 2]\n",
    "        },\n",
    "        'cell_type': {\n",
    "            'values': ['RNN', 'GRU', 'LSTM']\n",
    "        },\n",
    "        'dropout_rate': {\n",
    "            'values': [0.2, 0.3]\n",
    "        },\n",
    "        'learning_rate': {\n",
    "            'values': [0.001, 0.0001]\n",
    "        },\n",
    "        'batch_size': {\n",
    "            'values': [64, 128, 256]\n",
    "        },\n",
    "        'epochs': { # Max epochs, early stopping will handle actual duration\n",
    "            'values': [50] # Reduced for quicker sweep, increase for final model\n",
    "        },\n",
    "        'early_stopping_patience': {\n",
    "            'values': [5]\n",
    "        },\n",
    "        'beam_size': { # This is for evaluation\n",
    "            'values': [1, 3, 5] # 1 is greedy\n",
    "        },\n",
    "        'optimizer': {\n",
    "            'values': ['adam', 'nadam']\n",
    "        }\n",
    "    }\n",
    "}\n",
    "\n",
    "# Add a note about sweep strategy:\n",
    "# Smart strategies:\n",
    "# 1. Bayesian optimization (`method: 'bayes'`) is generally more efficient than random or grid search.\n",
    "# 2. Early Stopping: Already implemented to stop unpromising runs early, saving compute.\n",
    "# 3. Iterative Sweeps: Start with broader ranges and fewer epochs/smaller dataset subset.\n",
    "#    Analyze results (parallel coordinates, correlation plots from W&B) to identify promising regions.\n",
    "#    Then, conduct a more focused sweep with narrowed ranges, more epochs, or the full dataset.\n",
    "#    (For this assignment, a single comprehensive sweep as configured might be sufficient if time permits,\n",
    "#     otherwise, reduce `epochs` or `count` for the agent initially).\n",
    "# 4. Prioritize parameters: Learning rate, cell type, and hidden size are often critical.\n",
    "#    Dropout and number of layers can be fine-tuned once a good base is found.\n",
    "# 5. Reduce `count` for `wandb.agent` for initial testing of the pipeline.\n"
   ]
  },
  {
   "cell_type": "code",
   "execution_count": null,
   "id": "942f835a",
   "metadata": {},
   "outputs": [
    {
     "name": "stdout",
     "output_type": "stream",
     "text": [
      "Create sweep with ID: hfsy1nxv\n",
      "Sweep URL: https://wandb.ai/ce21b097-indian-institute-of-technology-madras/CE21B097%20-%20DA6401%20-%20Assignment%203/sweeps/hfsy1nxv\n"
     ]
    },
    {
     "name": "stderr",
     "output_type": "stream",
     "text": [
      "wandb: Agent Starting Run: idrjp6sm with config:\n",
      "wandb: \tbatch_size: 256\n",
      "wandb: \tbeam_size: 3\n",
      "wandb: \tcell_type: GRU\n",
      "wandb: \tdecoder_layers: 1\n",
      "wandb: \tdropout_rate: 0.2\n",
      "wandb: \tearly_stopping_patience: 5\n",
      "wandb: \tencoder_layers: 1\n",
      "wandb: \tepochs: 50\n",
      "wandb: \thidden_size: 256\n",
      "wandb: \tinput_embedding_size: 64\n",
      "wandb: \tlearning_rate: 0.001\n",
      "wandb: \toptimizer: adam\n",
      "wandb: Currently logged in as: ce21b097 (ce21b097-indian-institute-of-technology-madras) to https://api.wandb.ai. Use `wandb login --relogin` to force relogin\n"
     ]
    },
    {
     "data": {
      "text/html": [
       "Tracking run with wandb version 0.19.11"
      ],
      "text/plain": [
       "<IPython.core.display.HTML object>"
      ]
     },
     "metadata": {},
     "output_type": "display_data"
    },
    {
     "data": {
      "text/html": [
       "Run data is saved locally in <code>C:\\Users\\prana\\Downloads\\DA6401 Assignment 3\\wandb\\run-20250520_172256-idrjp6sm</code>"
      ],
      "text/plain": [
       "<IPython.core.display.HTML object>"
      ]
     },
     "metadata": {},
     "output_type": "display_data"
    },
    {
     "data": {
      "text/html": [
       "Syncing run <strong><a href='https://wandb.ai/ce21b097-indian-institute-of-technology-madras/CE21B097%20-%20DA6401%20-%20Assignment%203/runs/idrjp6sm' target=\"_blank\">exalted-sweep-1</a></strong> to <a href='https://wandb.ai/ce21b097-indian-institute-of-technology-madras/CE21B097%20-%20DA6401%20-%20Assignment%203' target=\"_blank\">Weights & Biases</a> (<a href='https://wandb.me/developer-guide' target=\"_blank\">docs</a>)<br>Sweep page: <a href='https://wandb.ai/ce21b097-indian-institute-of-technology-madras/CE21B097%20-%20DA6401%20-%20Assignment%203/sweeps/hfsy1nxv' target=\"_blank\">https://wandb.ai/ce21b097-indian-institute-of-technology-madras/CE21B097%20-%20DA6401%20-%20Assignment%203/sweeps/hfsy1nxv</a>"
      ],
      "text/plain": [
       "<IPython.core.display.HTML object>"
      ]
     },
     "metadata": {},
     "output_type": "display_data"
    },
    {
     "data": {
      "text/html": [
       " View project at <a href='https://wandb.ai/ce21b097-indian-institute-of-technology-madras/CE21B097%20-%20DA6401%20-%20Assignment%203' target=\"_blank\">https://wandb.ai/ce21b097-indian-institute-of-technology-madras/CE21B097%20-%20DA6401%20-%20Assignment%203</a>"
      ],
      "text/plain": [
       "<IPython.core.display.HTML object>"
      ]
     },
     "metadata": {},
     "output_type": "display_data"
    },
    {
     "data": {
      "text/html": [
       " View sweep at <a href='https://wandb.ai/ce21b097-indian-institute-of-technology-madras/CE21B097%20-%20DA6401%20-%20Assignment%203/sweeps/hfsy1nxv' target=\"_blank\">https://wandb.ai/ce21b097-indian-institute-of-technology-madras/CE21B097%20-%20DA6401%20-%20Assignment%203/sweeps/hfsy1nxv</a>"
      ],
      "text/plain": [
       "<IPython.core.display.HTML object>"
      ]
     },
     "metadata": {},
     "output_type": "display_data"
    },
    {
     "data": {
      "text/html": [
       " View run at <a href='https://wandb.ai/ce21b097-indian-institute-of-technology-madras/CE21B097%20-%20DA6401%20-%20Assignment%203/runs/idrjp6sm' target=\"_blank\">https://wandb.ai/ce21b097-indian-institute-of-technology-madras/CE21B097%20-%20DA6401%20-%20Assignment%203/runs/idrjp6sm</a>"
      ],
      "text/plain": [
       "<IPython.core.display.HTML object>"
      ]
     },
     "metadata": {},
     "output_type": "display_data"
    },
    {
     "name": "stdout",
     "output_type": "stream",
     "text": [
      "--- Building model for run idrjp6sm with config: {'batch_size': 256, 'beam_size': 3, 'cell_type': 'GRU', 'decoder_layers': 1, 'dropout_rate': 0.2, 'early_stopping_patience': 5, 'encoder_layers': 1, 'epochs': 50, 'hidden_size': 256, 'input_embedding_size': 64, 'learning_rate': 0.001, 'optimizer': 'adam'} ---\n",
      "--- Starting training for run idrjp6sm ---\n",
      "Epoch 1/50\n",
      "173/173 [==============================] - 8s 16ms/step - loss: 1.1998 - accuracy: 0.0635 - val_loss: 1.1070 - val_accuracy: 0.0661\n",
      "Epoch 2/50\n",
      "173/173 [==============================] - 2s 13ms/step - loss: 1.1340 - accuracy: 0.0732 - val_loss: 1.0274 - val_accuracy: 0.0757\n",
      "Epoch 3/50\n",
      "173/173 [==============================] - 2s 12ms/step - loss: 1.0095 - accuracy: 0.0902 - val_loss: 0.9298 - val_accuracy: 0.0882\n",
      "Epoch 4/50\n",
      "173/173 [==============================] - 2s 12ms/step - loss: 0.9384 - accuracy: 0.1006 - val_loss: 0.8866 - val_accuracy: 0.0950\n",
      "Epoch 5/50\n",
      "173/173 [==============================] - 2s 12ms/step - loss: 0.8993 - accuracy: 0.1074 - val_loss: 0.8503 - val_accuracy: 0.1025\n",
      "Epoch 6/50\n",
      "173/173 [==============================] - 2s 12ms/step - loss: 0.8607 - accuracy: 0.1162 - val_loss: 0.8093 - val_accuracy: 0.1135\n",
      "Epoch 7/50\n",
      "173/173 [==============================] - 2s 12ms/step - loss: 0.8093 - accuracy: 0.1304 - val_loss: 0.7522 - val_accuracy: 0.1297\n",
      "Epoch 8/50\n",
      "173/173 [==============================] - 2s 12ms/step - loss: 0.7503 - accuracy: 0.1437 - val_loss: 0.6939 - val_accuracy: 0.1426\n",
      "Epoch 9/50\n",
      "173/173 [==============================] - 2s 13ms/step - loss: 0.6888 - accuracy: 0.1584 - val_loss: 0.6324 - val_accuracy: 0.1590\n",
      "Epoch 10/50\n",
      "173/173 [==============================] - 2s 13ms/step - loss: 0.6211 - accuracy: 0.1771 - val_loss: 0.5699 - val_accuracy: 0.1752\n",
      "Epoch 11/50\n",
      "173/173 [==============================] - 2s 12ms/step - loss: 0.5603 - accuracy: 0.1927 - val_loss: 0.5158 - val_accuracy: 0.1885\n",
      "Epoch 12/50\n",
      "173/173 [==============================] - 2s 12ms/step - loss: 0.5066 - accuracy: 0.2064 - val_loss: 0.4706 - val_accuracy: 0.2001\n",
      "Epoch 13/50\n",
      "173/173 [==============================] - 2s 13ms/step - loss: 0.4600 - accuracy: 0.2186 - val_loss: 0.4321 - val_accuracy: 0.2107\n",
      "Epoch 14/50\n",
      "173/173 [==============================] - 2s 13ms/step - loss: 0.4205 - accuracy: 0.2289 - val_loss: 0.3982 - val_accuracy: 0.2195\n",
      "Epoch 15/50\n",
      "173/173 [==============================] - 2s 13ms/step - loss: 0.3860 - accuracy: 0.2382 - val_loss: 0.3705 - val_accuracy: 0.2264\n",
      "Epoch 16/50\n",
      "173/173 [==============================] - 2s 13ms/step - loss: 0.3560 - accuracy: 0.2469 - val_loss: 0.3480 - val_accuracy: 0.2328\n",
      "Epoch 17/50\n",
      "173/173 [==============================] - 3s 15ms/step - loss: 0.3306 - accuracy: 0.2542 - val_loss: 0.3275 - val_accuracy: 0.2383\n",
      "Epoch 18/50\n",
      "173/173 [==============================] - 3s 15ms/step - loss: 0.3089 - accuracy: 0.2606 - val_loss: 0.3113 - val_accuracy: 0.2425\n",
      "Epoch 19/50\n",
      "173/173 [==============================] - 2s 13ms/step - loss: 0.2901 - accuracy: 0.2660 - val_loss: 0.2970 - val_accuracy: 0.2469\n",
      "Epoch 20/50\n",
      "173/173 [==============================] - 2s 13ms/step - loss: 0.2756 - accuracy: 0.2703 - val_loss: 0.2862 - val_accuracy: 0.2501\n",
      "Epoch 21/50\n",
      "173/173 [==============================] - 2s 13ms/step - loss: 0.2622 - accuracy: 0.2738 - val_loss: 0.2786 - val_accuracy: 0.2514\n",
      "Epoch 22/50\n",
      "173/173 [==============================] - 2s 13ms/step - loss: 0.2655 - accuracy: 0.2728 - val_loss: 0.2742 - val_accuracy: 0.2524\n",
      "Epoch 23/50\n",
      "173/173 [==============================] - 2s 14ms/step - loss: 0.2442 - accuracy: 0.2789 - val_loss: 0.2652 - val_accuracy: 0.2545\n",
      "Epoch 24/50\n",
      "173/173 [==============================] - 3s 18ms/step - loss: 0.2348 - accuracy: 0.2816 - val_loss: 0.2597 - val_accuracy: 0.2567\n",
      "Epoch 25/50\n",
      "173/173 [==============================] - 2s 13ms/step - loss: 0.2257 - accuracy: 0.2847 - val_loss: 0.2561 - val_accuracy: 0.2564\n",
      "Epoch 26/50\n",
      "173/173 [==============================] - 2s 13ms/step - loss: 0.2180 - accuracy: 0.2868 - val_loss: 0.2519 - val_accuracy: 0.2583\n",
      "Epoch 27/50\n",
      "173/173 [==============================] - 2s 14ms/step - loss: 0.2118 - accuracy: 0.2886 - val_loss: 0.2503 - val_accuracy: 0.2578\n",
      "Epoch 28/50\n",
      "173/173 [==============================] - 2s 13ms/step - loss: 0.2056 - accuracy: 0.2907 - val_loss: 0.2461 - val_accuracy: 0.2581\n",
      "Epoch 29/50\n",
      "173/173 [==============================] - 2s 13ms/step - loss: 0.1989 - accuracy: 0.2925 - val_loss: 0.2428 - val_accuracy: 0.2601\n",
      "Epoch 30/50\n",
      "173/173 [==============================] - 2s 14ms/step - loss: 0.1937 - accuracy: 0.2941 - val_loss: 0.2417 - val_accuracy: 0.2602\n",
      "Epoch 31/50\n",
      "173/173 [==============================] - 2s 14ms/step - loss: 0.1887 - accuracy: 0.2956 - val_loss: 0.2384 - val_accuracy: 0.2613\n",
      "Epoch 32/50\n",
      "173/173 [==============================] - 2s 13ms/step - loss: 0.1839 - accuracy: 0.2970 - val_loss: 0.2376 - val_accuracy: 0.2619\n",
      "Epoch 33/50\n",
      "173/173 [==============================] - 2s 14ms/step - loss: 0.1788 - accuracy: 0.2987 - val_loss: 0.2369 - val_accuracy: 0.2613\n",
      "Epoch 34/50\n",
      "173/173 [==============================] - 3s 15ms/step - loss: 0.1740 - accuracy: 0.3003 - val_loss: 0.2345 - val_accuracy: 0.2616\n",
      "Epoch 35/50\n",
      "173/173 [==============================] - 2s 14ms/step - loss: 0.1708 - accuracy: 0.3012 - val_loss: 0.2339 - val_accuracy: 0.2622\n",
      "Epoch 36/50\n",
      "173/173 [==============================] - 2s 14ms/step - loss: 0.1662 - accuracy: 0.3028 - val_loss: 0.2350 - val_accuracy: 0.2622\n",
      "Epoch 37/50\n",
      "173/173 [==============================] - 3s 15ms/step - loss: 0.1633 - accuracy: 0.3034 - val_loss: 0.2335 - val_accuracy: 0.2625\n",
      "Epoch 38/50\n",
      "173/173 [==============================] - 2s 14ms/step - loss: 0.1593 - accuracy: 0.3049 - val_loss: 0.2319 - val_accuracy: 0.2633\n",
      "Epoch 39/50\n",
      "173/173 [==============================] - 2s 13ms/step - loss: 0.1559 - accuracy: 0.3062 - val_loss: 0.2347 - val_accuracy: 0.2621\n",
      "Epoch 40/50\n",
      "173/173 [==============================] - 2s 14ms/step - loss: 0.1535 - accuracy: 0.3068 - val_loss: 0.2310 - val_accuracy: 0.2625\n",
      "Epoch 41/50\n",
      "173/173 [==============================] - 2s 13ms/step - loss: 0.1505 - accuracy: 0.3078 - val_loss: 0.2337 - val_accuracy: 0.2620\n",
      "Epoch 42/50\n",
      "173/173 [==============================] - 2s 14ms/step - loss: 0.1471 - accuracy: 0.3089 - val_loss: 0.2317 - val_accuracy: 0.2620\n",
      "Epoch 43/50\n",
      "173/173 [==============================] - 2s 14ms/step - loss: 0.1443 - accuracy: 0.3098 - val_loss: 0.2308 - val_accuracy: 0.2629\n",
      "Epoch 44/50\n",
      "173/173 [==============================] - 2s 14ms/step - loss: 0.1418 - accuracy: 0.3107 - val_loss: 0.2304 - val_accuracy: 0.2639\n",
      "Epoch 45/50\n",
      "173/173 [==============================] - 2s 14ms/step - loss: 0.1384 - accuracy: 0.3116 - val_loss: 0.2291 - val_accuracy: 0.2632\n",
      "Epoch 46/50\n",
      "173/173 [==============================] - 2s 13ms/step - loss: 0.1364 - accuracy: 0.3124 - val_loss: 0.2296 - val_accuracy: 0.2639\n",
      "Epoch 47/50\n",
      "173/173 [==============================] - 2s 14ms/step - loss: 0.1343 - accuracy: 0.3130 - val_loss: 0.2319 - val_accuracy: 0.2632\n",
      "Epoch 48/50\n",
      "173/173 [==============================] - 2s 14ms/step - loss: 0.1326 - accuracy: 0.3134 - val_loss: 0.2306 - val_accuracy: 0.2638\n",
      "Epoch 49/50\n",
      "173/173 [==============================] - 2s 14ms/step - loss: 0.1290 - accuracy: 0.3147 - val_loss: 0.2304 - val_accuracy: 0.2636\n",
      "Epoch 50/50\n",
      "172/173 [============================>.] - ETA: 0s - loss: 0.1273 - accuracy: 0.3152Restoring model weights from the end of the best epoch: 45.\n",
      "173/173 [==============================] - 2s 14ms/step - loss: 0.1273 - accuracy: 0.3152 - val_loss: 0.2314 - val_accuracy: 0.2633\n",
      "Epoch 50: early stopping\n"
     ]
    },
    {
     "data": {
      "text/html": [],
      "text/plain": [
       "<IPython.core.display.HTML object>"
      ]
     },
     "metadata": {},
     "output_type": "display_data"
    },
    {
     "data": {
      "text/html": [
       "<br>    <style><br>        .wandb-row {<br>            display: flex;<br>            flex-direction: row;<br>            flex-wrap: wrap;<br>            justify-content: flex-start;<br>            width: 100%;<br>        }<br>        .wandb-col {<br>            display: flex;<br>            flex-direction: column;<br>            flex-basis: 100%;<br>            flex: 1;<br>            padding: 10px;<br>        }<br>    </style><br><div class=\"wandb-row\"><div class=\"wandb-col\"><h3>Run history:</h3><br/><table class=\"wandb\"><tr><td>epoch/accuracy</td><td>▁▁▂▂▂▃▄▄▅▅▆▆▆▆▇▇▇▇▇▇▇▇▇▇▇███████████████</td></tr><tr><td>epoch/epoch</td><td>▁▁▁▁▂▂▂▂▂▂▃▃▃▃▃▄▄▄▄▄▄▅▅▅▅▅▆▆▆▆▆▆▇▇▇▇▇███</td></tr><tr><td>epoch/learning_rate</td><td>▁▁▁▁▁▁▁▁▁▁▁▁▁▁▁▁▁▁▁▁▁▁▁▁▁▁▁▁▁▁▁▁▁▁▁▁▁▁▁▁</td></tr><tr><td>epoch/loss</td><td>██▇▆▆▅▅▅▄▄▃▃▃▂▂▂▂▂▂▂▂▂▂▁▁▁▁▁▁▁▁▁▁▁▁▁▁▁▁▁</td></tr><tr><td>epoch/val_accuracy</td><td>▁▁▂▂▂▃▄▄▅▅▆▆▇▇▇█████████████████████████</td></tr><tr><td>epoch/val_loss</td><td>█▇▇▆▆▅▅▄▄▃▂▂▂▂▂▁▁▁▁▁▁▁▁▁▁▁▁▁▁▁▁▁▁▁▁▁▁▁▁▁</td></tr><tr><td>val_exact_match_accuracy</td><td>▁</td></tr></table><br/></div><div class=\"wandb-col\"><h3>Run summary:</h3><br/><table class=\"wandb\"><tr><td>epoch/accuracy</td><td>0.31524</td></tr><tr><td>epoch/epoch</td><td>49</td></tr><tr><td>epoch/learning_rate</td><td>0.001</td></tr><tr><td>epoch/loss</td><td>0.12727</td></tr><tr><td>epoch/val_accuracy</td><td>0.26329</td></tr><tr><td>epoch/val_loss</td><td>0.23139</td></tr><tr><td>val_exact_match_accuracy</td><td>0.26329</td></tr></table><br/></div></div>"
      ],
      "text/plain": [
       "<IPython.core.display.HTML object>"
      ]
     },
     "metadata": {},
     "output_type": "display_data"
    },
    {
     "data": {
      "text/html": [
       " View run <strong style=\"color:#cdcd00\">exalted-sweep-1</strong> at: <a href='https://wandb.ai/ce21b097-indian-institute-of-technology-madras/CE21B097%20-%20DA6401%20-%20Assignment%203/runs/idrjp6sm' target=\"_blank\">https://wandb.ai/ce21b097-indian-institute-of-technology-madras/CE21B097%20-%20DA6401%20-%20Assignment%203/runs/idrjp6sm</a><br> View project at: <a href='https://wandb.ai/ce21b097-indian-institute-of-technology-madras/CE21B097%20-%20DA6401%20-%20Assignment%203' target=\"_blank\">https://wandb.ai/ce21b097-indian-institute-of-technology-madras/CE21B097%20-%20DA6401%20-%20Assignment%203</a><br>Synced 5 W&B file(s), 0 media file(s), 0 artifact file(s) and 0 other file(s)"
      ],
      "text/plain": [
       "<IPython.core.display.HTML object>"
      ]
     },
     "metadata": {},
     "output_type": "display_data"
    },
    {
     "data": {
      "text/html": [
       "Find logs at: <code>.\\wandb\\run-20250520_172256-idrjp6sm\\logs</code>"
      ],
      "text/plain": [
       "<IPython.core.display.HTML object>"
      ]
     },
     "metadata": {},
     "output_type": "display_data"
    },
    {
     "name": "stderr",
     "output_type": "stream",
     "text": [
      "wandb: Agent Starting Run: px0ty78m with config:\n",
      "wandb: \tbatch_size: 256\n",
      "wandb: \tbeam_size: 5\n",
      "wandb: \tcell_type: RNN\n",
      "wandb: \tdecoder_layers: 1\n",
      "wandb: \tdropout_rate: 0.3\n",
      "wandb: \tearly_stopping_patience: 5\n",
      "wandb: \tencoder_layers: 1\n",
      "wandb: \tepochs: 50\n",
      "wandb: \thidden_size: 64\n",
      "wandb: \tinput_embedding_size: 32\n",
      "wandb: \tlearning_rate: 0.0001\n",
      "wandb: \toptimizer: adam\n"
     ]
    },
    {
     "data": {
      "text/html": [
       "Tracking run with wandb version 0.19.11"
      ],
      "text/plain": [
       "<IPython.core.display.HTML object>"
      ]
     },
     "metadata": {},
     "output_type": "display_data"
    },
    {
     "data": {
      "text/html": [
       "Run data is saved locally in <code>C:\\Users\\prana\\Downloads\\DA6401 Assignment 3\\wandb\\run-20250520_172510-px0ty78m</code>"
      ],
      "text/plain": [
       "<IPython.core.display.HTML object>"
      ]
     },
     "metadata": {},
     "output_type": "display_data"
    },
    {
     "data": {
      "text/html": [
       "Syncing run <strong><a href='https://wandb.ai/ce21b097-indian-institute-of-technology-madras/CE21B097%20-%20DA6401%20-%20Assignment%203/runs/px0ty78m' target=\"_blank\">usual-sweep-2</a></strong> to <a href='https://wandb.ai/ce21b097-indian-institute-of-technology-madras/CE21B097%20-%20DA6401%20-%20Assignment%203' target=\"_blank\">Weights & Biases</a> (<a href='https://wandb.me/developer-guide' target=\"_blank\">docs</a>)<br>Sweep page: <a href='https://wandb.ai/ce21b097-indian-institute-of-technology-madras/CE21B097%20-%20DA6401%20-%20Assignment%203/sweeps/hfsy1nxv' target=\"_blank\">https://wandb.ai/ce21b097-indian-institute-of-technology-madras/CE21B097%20-%20DA6401%20-%20Assignment%203/sweeps/hfsy1nxv</a>"
      ],
      "text/plain": [
       "<IPython.core.display.HTML object>"
      ]
     },
     "metadata": {},
     "output_type": "display_data"
    },
    {
     "data": {
      "text/html": [
       " View project at <a href='https://wandb.ai/ce21b097-indian-institute-of-technology-madras/CE21B097%20-%20DA6401%20-%20Assignment%203' target=\"_blank\">https://wandb.ai/ce21b097-indian-institute-of-technology-madras/CE21B097%20-%20DA6401%20-%20Assignment%203</a>"
      ],
      "text/plain": [
       "<IPython.core.display.HTML object>"
      ]
     },
     "metadata": {},
     "output_type": "display_data"
    },
    {
     "data": {
      "text/html": [
       " View sweep at <a href='https://wandb.ai/ce21b097-indian-institute-of-technology-madras/CE21B097%20-%20DA6401%20-%20Assignment%203/sweeps/hfsy1nxv' target=\"_blank\">https://wandb.ai/ce21b097-indian-institute-of-technology-madras/CE21B097%20-%20DA6401%20-%20Assignment%203/sweeps/hfsy1nxv</a>"
      ],
      "text/plain": [
       "<IPython.core.display.HTML object>"
      ]
     },
     "metadata": {},
     "output_type": "display_data"
    },
    {
     "data": {
      "text/html": [
       " View run at <a href='https://wandb.ai/ce21b097-indian-institute-of-technology-madras/CE21B097%20-%20DA6401%20-%20Assignment%203/runs/px0ty78m' target=\"_blank\">https://wandb.ai/ce21b097-indian-institute-of-technology-madras/CE21B097%20-%20DA6401%20-%20Assignment%203/runs/px0ty78m</a>"
      ],
      "text/plain": [
       "<IPython.core.display.HTML object>"
      ]
     },
     "metadata": {},
     "output_type": "display_data"
    },
    {
     "name": "stdout",
     "output_type": "stream",
     "text": [
      "--- Building model for run px0ty78m with config: {'batch_size': 256, 'beam_size': 5, 'cell_type': 'RNN', 'decoder_layers': 1, 'dropout_rate': 0.3, 'early_stopping_patience': 5, 'encoder_layers': 1, 'epochs': 50, 'hidden_size': 64, 'input_embedding_size': 32, 'learning_rate': 0.0001, 'optimizer': 'adam'} ---\n",
      "--- Starting training for run px0ty78m ---\n",
      "Epoch 1/50\n",
      "173/173 [==============================] - 9s 47ms/step - loss: 1.3715 - accuracy: 0.0410 - val_loss: 1.2612 - val_accuracy: 0.0529\n",
      "Epoch 2/50\n",
      "173/173 [==============================] - 8s 45ms/step - loss: 1.3054 - accuracy: 0.0595 - val_loss: 1.2406 - val_accuracy: 0.0618\n",
      "Epoch 3/50\n",
      "173/173 [==============================] - 7s 43ms/step - loss: 1.2896 - accuracy: 0.0662 - val_loss: 1.2275 - val_accuracy: 0.0673\n",
      "Epoch 4/50\n",
      "173/173 [==============================] - 7s 41ms/step - loss: 1.2773 - accuracy: 0.0702 - val_loss: 1.2154 - val_accuracy: 0.0705\n",
      "Epoch 5/50\n",
      "173/173 [==============================] - 8s 44ms/step - loss: 1.2665 - accuracy: 0.0725 - val_loss: 1.2077 - val_accuracy: 0.0709\n",
      "Epoch 6/50\n",
      "173/173 [==============================] - 7s 42ms/step - loss: 1.2556 - accuracy: 0.0744 - val_loss: 1.1958 - val_accuracy: 0.0726\n",
      "Epoch 7/50\n",
      "173/173 [==============================] - 7s 40ms/step - loss: 1.2572 - accuracy: 0.0720 - val_loss: 1.1994 - val_accuracy: 0.0704\n",
      "Epoch 8/50\n",
      "173/173 [==============================] - 7s 40ms/step - loss: 1.2482 - accuracy: 0.0740 - val_loss: 1.1912 - val_accuracy: 0.0720\n",
      "Epoch 9/50\n",
      "173/173 [==============================] - 7s 40ms/step - loss: 1.2411 - accuracy: 0.0754 - val_loss: 1.1855 - val_accuracy: 0.0736\n",
      "Epoch 10/50\n",
      "173/173 [==============================] - 8s 47ms/step - loss: 1.2354 - accuracy: 0.0771 - val_loss: 1.1791 - val_accuracy: 0.0752\n",
      "Epoch 11/50\n",
      "173/173 [==============================] - 7s 40ms/step - loss: 1.2483 - accuracy: 0.0722 - val_loss: 1.1880 - val_accuracy: 0.0724\n",
      "Epoch 12/50\n",
      "173/173 [==============================] - 7s 42ms/step - loss: 1.2390 - accuracy: 0.0756 - val_loss: 1.1822 - val_accuracy: 0.0753\n",
      "Epoch 13/50\n",
      "173/173 [==============================] - 7s 41ms/step - loss: 1.2343 - accuracy: 0.0783 - val_loss: 1.1791 - val_accuracy: 0.0771\n",
      "Epoch 14/50\n",
      "173/173 [==============================] - 7s 42ms/step - loss: 1.2300 - accuracy: 0.0795 - val_loss: 1.1807 - val_accuracy: 0.0730\n",
      "Epoch 15/50\n",
      "173/173 [==============================] - 7s 42ms/step - loss: 1.2241 - accuracy: 0.0791 - val_loss: 1.1681 - val_accuracy: 0.0770\n",
      "Epoch 16/50\n",
      "173/173 [==============================] - 7s 40ms/step - loss: 1.2333 - accuracy: 0.0763 - val_loss: 1.1749 - val_accuracy: 0.0739\n",
      "Epoch 17/50\n",
      "173/173 [==============================] - 7s 43ms/step - loss: 1.2395 - accuracy: 0.0739 - val_loss: 1.1906 - val_accuracy: 0.0704\n",
      "Epoch 18/50\n",
      "173/173 [==============================] - 7s 41ms/step - loss: 1.2401 - accuracy: 0.0739 - val_loss: 1.1829 - val_accuracy: 0.0727\n",
      "Epoch 19/50\n",
      "173/173 [==============================] - 7s 43ms/step - loss: 1.2350 - accuracy: 0.0767 - val_loss: 1.1791 - val_accuracy: 0.0745\n",
      "Epoch 20/50\n",
      "172/173 [============================>.] - ETA: 0s - loss: 1.2354 - accuracy: 0.0774Restoring model weights from the end of the best epoch: 15.\n",
      "173/173 [==============================] - 7s 40ms/step - loss: 1.2354 - accuracy: 0.0774 - val_loss: 1.1834 - val_accuracy: 0.0728\n",
      "Epoch 20: early stopping\n"
     ]
    },
    {
     "data": {
      "text/html": [],
      "text/plain": [
       "<IPython.core.display.HTML object>"
      ]
     },
     "metadata": {},
     "output_type": "display_data"
    },
    {
     "data": {
      "text/html": [
       "<br>    <style><br>        .wandb-row {<br>            display: flex;<br>            flex-direction: row;<br>            flex-wrap: wrap;<br>            justify-content: flex-start;<br>            width: 100%;<br>        }<br>        .wandb-col {<br>            display: flex;<br>            flex-direction: column;<br>            flex-basis: 100%;<br>            flex: 1;<br>            padding: 10px;<br>        }<br>    </style><br><div class=\"wandb-row\"><div class=\"wandb-col\"><h3>Run history:</h3><br/><table class=\"wandb\"><tr><td>epoch/accuracy</td><td>▁▄▆▆▇▇▇▇▇█▇▇███▇▇▇▇█</td></tr><tr><td>epoch/epoch</td><td>▁▁▂▂▂▃▃▄▄▄▅▅▅▆▆▇▇▇██</td></tr><tr><td>epoch/learning_rate</td><td>▁▁▁▁▁▁▁▁▁▁▁▁▁▁▁▁▁▁▁▁</td></tr><tr><td>epoch/loss</td><td>█▅▄▄▃▂▃▂▂▂▂▂▁▁▁▁▂▂▂▂</td></tr><tr><td>epoch/val_accuracy</td><td>▁▄▅▆▆▇▆▇▇▇▇▇█▇█▇▆▇▇▇</td></tr><tr><td>epoch/val_loss</td><td>█▆▅▅▄▃▃▃▂▂▂▂▂▂▁▂▃▂▂▂</td></tr><tr><td>val_exact_match_accuracy</td><td>▁</td></tr></table><br/></div><div class=\"wandb-col\"><h3>Run summary:</h3><br/><table class=\"wandb\"><tr><td>epoch/accuracy</td><td>0.07741</td></tr><tr><td>epoch/epoch</td><td>19</td></tr><tr><td>epoch/learning_rate</td><td>0.0001</td></tr><tr><td>epoch/loss</td><td>1.2354</td></tr><tr><td>epoch/val_accuracy</td><td>0.07276</td></tr><tr><td>epoch/val_loss</td><td>1.18345</td></tr><tr><td>val_exact_match_accuracy</td><td>0.07276</td></tr></table><br/></div></div>"
      ],
      "text/plain": [
       "<IPython.core.display.HTML object>"
      ]
     },
     "metadata": {},
     "output_type": "display_data"
    },
    {
     "data": {
      "text/html": [
       " View run <strong style=\"color:#cdcd00\">usual-sweep-2</strong> at: <a href='https://wandb.ai/ce21b097-indian-institute-of-technology-madras/CE21B097%20-%20DA6401%20-%20Assignment%203/runs/px0ty78m' target=\"_blank\">https://wandb.ai/ce21b097-indian-institute-of-technology-madras/CE21B097%20-%20DA6401%20-%20Assignment%203/runs/px0ty78m</a><br> View project at: <a href='https://wandb.ai/ce21b097-indian-institute-of-technology-madras/CE21B097%20-%20DA6401%20-%20Assignment%203' target=\"_blank\">https://wandb.ai/ce21b097-indian-institute-of-technology-madras/CE21B097%20-%20DA6401%20-%20Assignment%203</a><br>Synced 5 W&B file(s), 0 media file(s), 0 artifact file(s) and 0 other file(s)"
      ],
      "text/plain": [
       "<IPython.core.display.HTML object>"
      ]
     },
     "metadata": {},
     "output_type": "display_data"
    },
    {
     "data": {
      "text/html": [
       "Find logs at: <code>.\\wandb\\run-20250520_172510-px0ty78m\\logs</code>"
      ],
      "text/plain": [
       "<IPython.core.display.HTML object>"
      ]
     },
     "metadata": {},
     "output_type": "display_data"
    },
    {
     "name": "stderr",
     "output_type": "stream",
     "text": [
      "wandb: Agent Starting Run: h5oige2f with config:\n",
      "wandb: \tbatch_size: 64\n",
      "wandb: \tbeam_size: 3\n",
      "wandb: \tcell_type: GRU\n",
      "wandb: \tdecoder_layers: 1\n",
      "wandb: \tdropout_rate: 0.2\n",
      "wandb: \tearly_stopping_patience: 5\n",
      "wandb: \tencoder_layers: 2\n",
      "wandb: \tepochs: 50\n",
      "wandb: \thidden_size: 64\n",
      "wandb: \tinput_embedding_size: 128\n",
      "wandb: \tlearning_rate: 0.0001\n",
      "wandb: \toptimizer: nadam\n"
     ]
    },
    {
     "data": {
      "text/html": [
       "Tracking run with wandb version 0.19.11"
      ],
      "text/plain": [
       "<IPython.core.display.HTML object>"
      ]
     },
     "metadata": {},
     "output_type": "display_data"
    },
    {
     "data": {
      "text/html": [
       "Run data is saved locally in <code>C:\\Users\\prana\\Downloads\\DA6401 Assignment 3\\wandb\\run-20250520_172744-h5oige2f</code>"
      ],
      "text/plain": [
       "<IPython.core.display.HTML object>"
      ]
     },
     "metadata": {},
     "output_type": "display_data"
    },
    {
     "data": {
      "text/html": [
       "Syncing run <strong><a href='https://wandb.ai/ce21b097-indian-institute-of-technology-madras/CE21B097%20-%20DA6401%20-%20Assignment%203/runs/h5oige2f' target=\"_blank\">silvery-sweep-3</a></strong> to <a href='https://wandb.ai/ce21b097-indian-institute-of-technology-madras/CE21B097%20-%20DA6401%20-%20Assignment%203' target=\"_blank\">Weights & Biases</a> (<a href='https://wandb.me/developer-guide' target=\"_blank\">docs</a>)<br>Sweep page: <a href='https://wandb.ai/ce21b097-indian-institute-of-technology-madras/CE21B097%20-%20DA6401%20-%20Assignment%203/sweeps/hfsy1nxv' target=\"_blank\">https://wandb.ai/ce21b097-indian-institute-of-technology-madras/CE21B097%20-%20DA6401%20-%20Assignment%203/sweeps/hfsy1nxv</a>"
      ],
      "text/plain": [
       "<IPython.core.display.HTML object>"
      ]
     },
     "metadata": {},
     "output_type": "display_data"
    },
    {
     "data": {
      "text/html": [
       " View project at <a href='https://wandb.ai/ce21b097-indian-institute-of-technology-madras/CE21B097%20-%20DA6401%20-%20Assignment%203' target=\"_blank\">https://wandb.ai/ce21b097-indian-institute-of-technology-madras/CE21B097%20-%20DA6401%20-%20Assignment%203</a>"
      ],
      "text/plain": [
       "<IPython.core.display.HTML object>"
      ]
     },
     "metadata": {},
     "output_type": "display_data"
    },
    {
     "data": {
      "text/html": [
       " View sweep at <a href='https://wandb.ai/ce21b097-indian-institute-of-technology-madras/CE21B097%20-%20DA6401%20-%20Assignment%203/sweeps/hfsy1nxv' target=\"_blank\">https://wandb.ai/ce21b097-indian-institute-of-technology-madras/CE21B097%20-%20DA6401%20-%20Assignment%203/sweeps/hfsy1nxv</a>"
      ],
      "text/plain": [
       "<IPython.core.display.HTML object>"
      ]
     },
     "metadata": {},
     "output_type": "display_data"
    },
    {
     "data": {
      "text/html": [
       " View run at <a href='https://wandb.ai/ce21b097-indian-institute-of-technology-madras/CE21B097%20-%20DA6401%20-%20Assignment%203/runs/h5oige2f' target=\"_blank\">https://wandb.ai/ce21b097-indian-institute-of-technology-madras/CE21B097%20-%20DA6401%20-%20Assignment%203/runs/h5oige2f</a>"
      ],
      "text/plain": [
       "<IPython.core.display.HTML object>"
      ]
     },
     "metadata": {},
     "output_type": "display_data"
    },
    {
     "name": "stdout",
     "output_type": "stream",
     "text": [
      "--- Building model for run h5oige2f with config: {'batch_size': 64, 'beam_size': 3, 'cell_type': 'GRU', 'decoder_layers': 1, 'dropout_rate': 0.2, 'early_stopping_patience': 5, 'encoder_layers': 2, 'epochs': 50, 'hidden_size': 64, 'input_embedding_size': 128, 'learning_rate': 0.0001, 'optimizer': 'nadam'} ---\n",
      "--- Starting training for run h5oige2f ---\n",
      "Epoch 1/50\n",
      "691/691 [==============================] - 11s 13ms/step - loss: 1.2846 - accuracy: 0.0529 - val_loss: 1.1750 - val_accuracy: 0.0585\n",
      "Epoch 2/50\n",
      "691/691 [==============================] - 8s 11ms/step - loss: 1.2051 - accuracy: 0.0645 - val_loss: 1.1203 - val_accuracy: 0.0687\n",
      "Epoch 3/50\n",
      "691/691 [==============================] - 8s 11ms/step - loss: 1.1331 - accuracy: 0.0752 - val_loss: 1.0579 - val_accuracy: 0.0748\n",
      "Epoch 4/50\n",
      "691/691 [==============================] - 8s 12ms/step - loss: 1.0788 - accuracy: 0.0847 - val_loss: 1.0183 - val_accuracy: 0.0809\n",
      "Epoch 5/50\n",
      "691/691 [==============================] - 8s 12ms/step - loss: 1.0445 - accuracy: 0.0888 - val_loss: 0.9936 - val_accuracy: 0.0824\n",
      "Epoch 6/50\n",
      "691/691 [==============================] - 9s 13ms/step - loss: 1.0218 - accuracy: 0.0913 - val_loss: 0.9756 - val_accuracy: 0.0856\n",
      "Epoch 7/50\n",
      "691/691 [==============================] - 10s 14ms/step - loss: 1.0048 - accuracy: 0.0954 - val_loss: 0.9617 - val_accuracy: 0.0903\n",
      "Epoch 8/50\n",
      "691/691 [==============================] - 9s 13ms/step - loss: 0.9911 - accuracy: 0.0991 - val_loss: 0.9493 - val_accuracy: 0.0922\n",
      "Epoch 9/50\n",
      "691/691 [==============================] - 9s 14ms/step - loss: 0.9792 - accuracy: 0.1007 - val_loss: 0.9396 - val_accuracy: 0.0939\n",
      "Epoch 10/50\n",
      "691/691 [==============================] - 9s 13ms/step - loss: 0.9684 - accuracy: 0.1022 - val_loss: 0.9281 - val_accuracy: 0.0952\n",
      "Epoch 11/50\n",
      "691/691 [==============================] - 9s 13ms/step - loss: 0.9589 - accuracy: 0.1033 - val_loss: 0.9204 - val_accuracy: 0.0964\n",
      "Epoch 12/50\n",
      "691/691 [==============================] - 8s 12ms/step - loss: 0.9513 - accuracy: 0.1044 - val_loss: 0.9141 - val_accuracy: 0.0973\n",
      "Epoch 13/50\n",
      "691/691 [==============================] - 9s 12ms/step - loss: 0.9448 - accuracy: 0.1057 - val_loss: 0.9079 - val_accuracy: 0.0980\n",
      "Epoch 14/50\n",
      "691/691 [==============================] - 8s 12ms/step - loss: 0.9386 - accuracy: 0.1067 - val_loss: 0.9027 - val_accuracy: 0.0997\n",
      "Epoch 15/50\n",
      "691/691 [==============================] - 8s 12ms/step - loss: 0.9331 - accuracy: 0.1077 - val_loss: 0.8974 - val_accuracy: 0.1000\n",
      "Epoch 16/50\n",
      "691/691 [==============================] - 8s 12ms/step - loss: 0.9283 - accuracy: 0.1083 - val_loss: 0.8933 - val_accuracy: 0.1005\n",
      "Epoch 17/50\n",
      "691/691 [==============================] - 8s 12ms/step - loss: 0.9236 - accuracy: 0.1089 - val_loss: 0.8882 - val_accuracy: 0.1009\n",
      "Epoch 18/50\n",
      "691/691 [==============================] - 8s 12ms/step - loss: 0.9189 - accuracy: 0.1096 - val_loss: 0.8837 - val_accuracy: 0.1018\n",
      "Epoch 19/50\n",
      "691/691 [==============================] - 8s 12ms/step - loss: 0.9147 - accuracy: 0.1100 - val_loss: 0.8799 - val_accuracy: 0.1022\n",
      "Epoch 20/50\n",
      "691/691 [==============================] - 9s 12ms/step - loss: 0.9105 - accuracy: 0.1109 - val_loss: 0.8756 - val_accuracy: 0.1038\n",
      "Epoch 21/50\n",
      "691/691 [==============================] - 8s 12ms/step - loss: 0.9066 - accuracy: 0.1119 - val_loss: 0.8734 - val_accuracy: 0.1053\n",
      "Epoch 22/50\n",
      "691/691 [==============================] - 8s 12ms/step - loss: 0.9028 - accuracy: 0.1128 - val_loss: 0.8684 - val_accuracy: 0.1063\n",
      "Epoch 23/50\n",
      "691/691 [==============================] - 8s 12ms/step - loss: 0.8994 - accuracy: 0.1137 - val_loss: 0.8649 - val_accuracy: 0.1071\n",
      "Epoch 24/50\n",
      "691/691 [==============================] - 9s 13ms/step - loss: 0.8961 - accuracy: 0.1144 - val_loss: 0.8619 - val_accuracy: 0.1074\n",
      "Epoch 25/50\n",
      "691/691 [==============================] - 8s 12ms/step - loss: 0.8930 - accuracy: 0.1151 - val_loss: 0.8595 - val_accuracy: 0.1086\n",
      "Epoch 26/50\n",
      "691/691 [==============================] - 9s 13ms/step - loss: 0.8904 - accuracy: 0.1157 - val_loss: 0.8587 - val_accuracy: 0.1087\n",
      "Epoch 27/50\n",
      "691/691 [==============================] - 9s 13ms/step - loss: 0.8878 - accuracy: 0.1163 - val_loss: 0.8553 - val_accuracy: 0.1092\n",
      "Epoch 28/50\n",
      "691/691 [==============================] - 9s 13ms/step - loss: 0.8855 - accuracy: 0.1168 - val_loss: 0.8527 - val_accuracy: 0.1092\n",
      "Epoch 29/50\n",
      "691/691 [==============================] - 8s 12ms/step - loss: 0.8831 - accuracy: 0.1170 - val_loss: 0.8503 - val_accuracy: 0.1096\n",
      "Epoch 30/50\n",
      "640/691 [==========================>...] - ETA: 0s - loss: 0.8806 - accuracy: 0.1174"
     ]
    }
   ],
   "source": [
    "# Cell 9: Start the Sweep Agent\n",
    "\n",
    "# --- Initialize Sweep ---\n",
    "sweep_id = wandb.sweep(sweep_config, entity=\"ce21b097-indian-institute-of-technology-madras\", project=\"CE21B097 - DA6401 - Assignment 3\")\n",
    "\n",
    "# --- Run Agent ---\n",
    "# The 'count' parameter specifies how many runs the agent should perform.\n",
    "# For a thorough search, this might be 20-50 or more, depending on your compute budget.\n",
    "# For testing, set count to a small number like 3-5.\n",
    "wandb.agent(sweep_id, function=train_evaluate, count=100) # Example: 10 runs\n",
    "\n",
    "print(\"\\n--- Sweep Finished ---\")\n",
    "print(\"Go to your W&B project page to see the results, including:\")\n",
    "print(\"- Accuracy v/s Created plot\")\n",
    "print(\"- Parallel Co-ordinates plot\")\n",
    "print(\"- Correlation Summary table\")\n"
   ]
  },
  {
   "cell_type": "code",
   "execution_count": null,
   "id": "21c0b051",
   "metadata": {},
   "outputs": [],
   "source": []
  },
  {
   "cell_type": "code",
   "execution_count": null,
   "id": "0389a1bc",
   "metadata": {},
   "outputs": [],
   "source": []
  }
 ],
 "metadata": {
  "kernelspec": {
   "display_name": "Python 3",
   "language": "python",
   "name": "python3"
  },
  "language_info": {
   "codemirror_mode": {
    "name": "ipython",
    "version": 3
   },
   "file_extension": ".py",
   "mimetype": "text/x-python",
   "name": "python",
   "nbconvert_exporter": "python",
   "pygments_lexer": "ipython3",
   "version": "3.12.1"
  }
 },
 "nbformat": 4,
 "nbformat_minor": 5
}
