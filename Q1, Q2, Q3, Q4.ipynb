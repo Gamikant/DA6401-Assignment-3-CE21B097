{
 "cells": [
  {
   "cell_type": "code",
   "execution_count": 1,
   "id": "c2f02508",
   "metadata": {},
   "outputs": [],
   "source": [
    "# Cell 1: Install Libraries (if not already installed)\n",
    "# !pip install wandb tensorflow numpy pandas scikit-learn\n",
    "\n",
    "# Import necessary libraries\n",
    "import numpy as np\n",
    "import pandas as pd\n",
    "import tensorflow as tf\n",
    "from tensorflow import keras # Ensures keras is from tensorflow\n",
    "from tensorflow.keras.layers import Input, Embedding, LSTM, GRU, Dense, Dropout # Removed Bidirectional, AdditiveAttention, Attention as not used in Q2 model\n",
    "from tensorflow.keras.models import Model\n",
    "from tensorflow.keras.callbacks import EarlyStopping # Removed ModelCheckpoint as WandbModelCheckpoint is used\n",
    "from tensorflow.keras.preprocessing.sequence import pad_sequences\n",
    "from sklearn.model_selection import train_test_split # Not strictly used in the sweep, but good for general use\n",
    "import wandb\n",
    "from wandb.integration.keras import WandbMetricsLogger, WandbModelCheckpoint\n",
    "\n",
    "\n",
    "import os\n",
    "import re\n",
    "import time\n",
    "import unicodedata"
   ]
  },
  {
   "cell_type": "code",
   "execution_count": 2,
   "id": "d8b52170",
   "metadata": {},
   "outputs": [
    {
     "name": "stdout",
     "output_type": "stream",
     "text": [
      "Training samples: 44202\n",
      "Validation samples: 4358\n",
      "Test samples: 4502\n",
      "\n",
      "Sample training data:\n",
      "Input: an, Target: अं\n",
      "Input: ankganit, Target: अंकगणित\n",
      "Input: uncle, Target: अंकल\n"
     ]
    }
   ],
   "source": [
    "# Cell 3: Data Loading and Initial Parsing\n",
    "\n",
    "def load_data(filepath):\n",
    "    \"\"\"Loads data from a TSV file.\"\"\"\n",
    "    try:\n",
    "        df = pd.read_csv(filepath, sep='\\t', header=None, on_bad_lines='skip', names=['native', 'roman', 'count'])\n",
    "        # The problem statement is romanized (input) to native (target)\n",
    "        # e.g., \"ajanabee अजनबी\" -> x = \"ajanabee\", y = \"अजनबी\"\n",
    "        # The Dakshina dataset lexicon format is: native_word, romanization, count\n",
    "        # So, for our task: input_texts = df['roman'], target_texts = df['native']\n",
    "        \n",
    "        # Handle cases where lines might not have 3 columns or have NaN values\n",
    "        df.dropna(subset=['native', 'roman'], inplace=True)\n",
    "        \n",
    "        input_texts = df['roman'].astype(str).tolist()\n",
    "        target_texts = df['native'].astype(str).tolist()\n",
    "        return input_texts, target_texts\n",
    "    except Exception as e:\n",
    "        print(f\"Error loading data from {filepath}: {e}\")\n",
    "        return [], []\n",
    "\n",
    "# --- Define file paths ---\n",
    "# Make sure these paths are correct for your local project structure\n",
    "# Assuming dakshina_dataset_v1.0 is in the same directory as the notebook\n",
    "dataset_base_dir = 'dakshina_dataset_v1.0' \n",
    "language = 'hi' # Hindi\n",
    "\n",
    "train_file = os.path.join(dataset_base_dir, language, 'lexicons', f'{language}.translit.sampled.train.tsv')\n",
    "dev_file = os.path.join(dataset_base_dir, language, 'lexicons', f'{language}.translit.sampled.dev.tsv')\n",
    "test_file = os.path.join(dataset_base_dir, language, 'lexicons', f'{language}.translit.sampled.test.tsv')\n",
    "\n",
    "# Load data\n",
    "input_texts_train_full, target_texts_train_full = load_data(train_file)\n",
    "input_texts_val, target_texts_val = load_data(dev_file)\n",
    "input_texts_test, target_texts_test = load_data(test_file) # Test set for final evaluation after sweep\n",
    "\n",
    "# For faster sweep iterations, you might want to use a subset of the training data\n",
    "# For now, let's use the full training data. If sweeps are too slow, consider sampling.\n",
    "input_texts_train, target_texts_train = input_texts_train_full, target_texts_train_full\n",
    "\n",
    "print(f\"Training samples: {len(input_texts_train)}\")\n",
    "print(f\"Validation samples: {len(input_texts_val)}\")\n",
    "print(f\"Test samples: {len(input_texts_test)}\")\n",
    "\n",
    "if len(input_texts_train) > 0 and len(target_texts_train) > 0:\n",
    "    print(\"\\nSample training data:\")\n",
    "    for i in range(min(3, len(input_texts_train))):\n",
    "        print(f\"Input: {input_texts_train[i]}, Target: {target_texts_train[i]}\")\n",
    "else:\n",
    "    print(\"No training data loaded. Please check file paths and content.\")\n",
    "\n",
    "if len(input_texts_val) == 0:\n",
    "    print(\"No validation data loaded. Sweeps will not work correctly without validation data.\")\n",
    "\n"
   ]
  },
  {
   "cell_type": "code",
   "execution_count": 3,
   "id": "aee76a5b",
   "metadata": {},
   "outputs": [
    {
     "name": "stdout",
     "output_type": "stream",
     "text": [
      "\n",
      "Number of unique input tokens: 26\n",
      "Number of unique output tokens: 65\n",
      "Max sequence length for inputs: 20\n",
      "Max sequence length for outputs: 21\n",
      "\n",
      "Shape of encoder_input_train: (44202, 20)\n",
      "Shape of decoder_input_train: (44202, 21)\n",
      "Shape of decoder_target_train: (44202, 21, 65)\n"
     ]
    }
   ],
   "source": [
    "# Cell 4: Data Preprocessing - Vocabulary, Tokenization, Padding\n",
    "\n",
    "# --- Character sets and tokenization ---\n",
    "input_characters = set()\n",
    "target_characters = set()\n",
    "\n",
    "for text in input_texts_train:\n",
    "    for char in text:\n",
    "        if char not in input_characters:\n",
    "            input_characters.add(char)\n",
    "\n",
    "for text in target_texts_train:\n",
    "    for char in text: # Add SOS and EOS tokens\n",
    "        if char not in target_characters:\n",
    "            target_characters.add(char)\n",
    "\n",
    "# Add special tokens\n",
    "SOS_TOKEN = '\\t' # Start Of Sequence\n",
    "EOS_TOKEN = '\\n' # End Of Sequence\n",
    "# Ensure target characters include SOS and EOS, even if not in training data explicitly for some reason\n",
    "target_characters.add(SOS_TOKEN)\n",
    "target_characters.add(EOS_TOKEN)\n",
    "\n",
    "\n",
    "input_char_list = sorted(list(input_characters))\n",
    "target_char_list = sorted(list(target_characters))\n",
    "\n",
    "num_encoder_tokens = len(input_char_list)\n",
    "num_decoder_tokens = len(target_char_list)\n",
    "\n",
    "# Create char-to-index and index-to-char mappings\n",
    "input_token_index = {char: i for i, char in enumerate(input_char_list)}\n",
    "target_token_index = {char: i for i, char in enumerate(target_char_list)}\n",
    "\n",
    "reverse_input_char_index = {i: char for char, i in input_token_index.items()}\n",
    "reverse_target_char_index = {i: char for char, i in target_token_index.items()}\n",
    "\n",
    "# Determine max sequence lengths\n",
    "max_encoder_seq_length = max(len(text) for text in input_texts_train + input_texts_val)\n",
    "max_decoder_seq_length = max(len(text) for text in target_texts_train + target_texts_val) + 2 # +2 for SOS and EOS\n",
    "\n",
    "print(f\"\\nNumber of unique input tokens: {num_encoder_tokens}\")\n",
    "print(f\"Number of unique output tokens: {num_decoder_tokens}\")\n",
    "print(f\"Max sequence length for inputs: {max_encoder_seq_length}\")\n",
    "print(f\"Max sequence length for outputs: {max_decoder_seq_length}\")\n",
    "\n",
    "\n",
    "# --- Vectorize the data ---\n",
    "def vectorize_data(input_texts, target_texts, is_training=True):\n",
    "    encoder_input_data = np.zeros((len(input_texts), max_encoder_seq_length), dtype=\"float32\")\n",
    "    decoder_input_data = np.zeros((len(target_texts), max_decoder_seq_length), dtype=\"float32\")\n",
    "    decoder_target_data = np.zeros((len(target_texts), max_decoder_seq_length, num_decoder_tokens), dtype=\"float32\") # For sparse_categorical_crossentropy, this should be integers\n",
    "\n",
    "    for i, (input_text, target_text) in enumerate(zip(input_texts, target_texts)):\n",
    "        for t, char in enumerate(input_text):\n",
    "            if char in input_token_index: # Handle chars not in vocab if any (should not happen if vocab from train)\n",
    "                 encoder_input_data[i, t] = input_token_index[char]\n",
    "            # else: ignore unknown char or map to a special <UNK> token if defined\n",
    "        \n",
    "        # Decoder target data is ahead of decoder input data by one timestep\n",
    "        # and includes the start token.\n",
    "        # Decoder input: <SOS> char1 char2 ...\n",
    "        # Decoder target: char1 char2 ... <EOS>\n",
    "        \n",
    "        processed_target_text = SOS_TOKEN + target_text + EOS_TOKEN\n",
    "        for t, char in enumerate(processed_target_text):\n",
    "            if t < max_decoder_seq_length:\n",
    "                if char in target_token_index:\n",
    "                    decoder_input_data[i, t] = target_token_index[char]\n",
    "                    if t > 0: # decoder_target_data will be one timestep ahead\n",
    "                        # For sparse_categorical_crossentropy, target should be (batch, seq_len) with token indices\n",
    "                        # However, standard Keras examples use one-hot for TimeDistributed(Dense)\n",
    "                        # If using sparse_categorical_crossentropy, decoder_target_data should be integer indices\n",
    "                        decoder_target_data[i, t - 1, target_token_index[char]] = 1.0 # One-hot\n",
    "            # else: sequence is longer than max_decoder_seq_length, truncate\n",
    "    \n",
    "    # If using sparse_categorical_crossentropy, decoder_target_data should be:\n",
    "    # decoder_target_data_sparse = np.zeros((len(target_texts), max_decoder_seq_length), dtype=\"float32\")\n",
    "    # ... loop ...\n",
    "    # if t > 0 and char in target_token_index:\n",
    "    #    decoder_target_data_sparse[i, t-1] = target_token_index[char]\n",
    "    # return encoder_input_data, decoder_input_data, decoder_target_data_sparse\n",
    "    \n",
    "    return encoder_input_data, decoder_input_data, decoder_target_data\n",
    "\n",
    "\n",
    "encoder_input_train, decoder_input_train, decoder_target_train = vectorize_data(input_texts_train, target_texts_train)\n",
    "encoder_input_val, decoder_input_val, decoder_target_val = vectorize_data(input_texts_val, target_texts_val)\n",
    "\n",
    "print(\"\\nShape of encoder_input_train:\", encoder_input_train.shape)\n",
    "print(\"Shape of decoder_input_train:\", decoder_input_train.shape)\n",
    "print(\"Shape of decoder_target_train:\", decoder_target_train.shape)\n"
   ]
  },
  {
   "cell_type": "code",
   "execution_count": 4,
   "id": "dbdb2dd4",
   "metadata": {},
   "outputs": [],
   "source": [
    "# Cell (Update Model Building for Nadam)\n",
    "# This cell updates build_seq2seq_model to include 'nadam' optimizer.\n",
    "# Ensure all other necessary global variables like num_encoder_tokens, num_decoder_tokens are defined from previous cells.\n",
    "\n",
    "def build_seq2seq_model(config): # Expects config to be an object with attributes\n",
    "    \"\"\"Builds the Encoder-Decoder model based on wandb config.\"\"\"\n",
    "    \n",
    "    # Encoder\n",
    "    encoder_inputs = Input(shape=(None,), name=\"encoder_inputs\") \n",
    "    emb_enc = Embedding(num_encoder_tokens, config.input_embedding_size, name=\"encoder_embedding\")(encoder_inputs)\n",
    "    \n",
    "    current_encoder_output = emb_enc \n",
    "    \n",
    "    # Select RNN cell type\n",
    "    if config.cell_type == \"LSTM\":\n",
    "        RNNCell = LSTM\n",
    "    elif config.cell_type == \"GRU\":\n",
    "        RNNCell = GRU\n",
    "    else: \n",
    "        RNNCell = keras.layers.SimpleRNN\n",
    "\n",
    "    encoder_states_list = [] \n",
    "\n",
    "    for i in range(config.encoder_layers):\n",
    "        is_last_layer = (i == config.encoder_layers - 1)\n",
    "        rnn_layer = RNNCell(config.hidden_size, \n",
    "                            return_sequences=not is_last_layer, \n",
    "                            return_state=True, \n",
    "                            dropout=config.dropout_rate, \n",
    "                            name=f\"encoder_{config.cell_type}_{i}\")\n",
    "        \n",
    "        if config.cell_type == \"LSTM\":\n",
    "            encoder_rnn_output_seq, state_h, state_c = rnn_layer(current_encoder_output)\n",
    "            layer_states = [state_h, state_c]\n",
    "        else: \n",
    "            encoder_rnn_output_seq, state_h = rnn_layer(current_encoder_output)\n",
    "            layer_states = [state_h]\n",
    "        \n",
    "        if is_last_layer: \n",
    "            encoder_states_list = layer_states\n",
    "        current_encoder_output = encoder_rnn_output_seq\n",
    "\n",
    "    # Decoder\n",
    "    decoder_inputs = Input(shape=(None,), name=\"decoder_inputs\")\n",
    "    emb_dec = Embedding(num_decoder_tokens, config.input_embedding_size, name=\"decoder_embedding\")(decoder_inputs)\n",
    "    current_decoder_output = emb_dec\n",
    "    decoder_rnn_output_seq = current_decoder_output\n",
    "\n",
    "    for i in range(config.decoder_layers):\n",
    "        rnn_layer_dec = RNNCell(config.hidden_size, \n",
    "                                return_sequences=True, \n",
    "                                return_state=True,    \n",
    "                                dropout=config.dropout_rate,\n",
    "                                name=f\"decoder_{config.cell_type}_{i}\")\n",
    "        \n",
    "        initial_states_for_layer = encoder_states_list if i == 0 else None\n",
    "        \n",
    "        if config.cell_type == \"LSTM\":\n",
    "            decoder_rnn_output_seq, _, _ = rnn_layer_dec(decoder_rnn_output_seq, initial_state=initial_states_for_layer)\n",
    "        else: \n",
    "            decoder_rnn_output_seq, _ = rnn_layer_dec(decoder_rnn_output_seq, initial_state=initial_states_for_layer)\n",
    "            \n",
    "    decoder_dense = Dense(num_decoder_tokens, activation=\"softmax\", name=\"decoder_output_dense\")\n",
    "    decoder_outputs = decoder_dense(decoder_rnn_output_seq)\n",
    "\n",
    "    model = Model([encoder_inputs, decoder_inputs], decoder_outputs)\n",
    "\n",
    "    # Optimizer selection\n",
    "    if config.optimizer == 'adam':\n",
    "        optimizer_choice = tf.keras.optimizers.Adam(learning_rate=config.learning_rate)\n",
    "    elif config.optimizer == 'rmsprop':\n",
    "        optimizer_choice = tf.keras.optimizers.RMSprop(learning_rate=config.learning_rate)\n",
    "    elif config.optimizer == 'nadam': # Added Nadam\n",
    "        optimizer_choice = tf.keras.optimizers.Nadam(learning_rate=config.learning_rate)\n",
    "    elif config.optimizer == 'sgd':\n",
    "        optimizer_choice = tf.keras.optimizers.SGD(learning_rate=config.learning_rate)\n",
    "    else: # Default to Adam\n",
    "        print(f\"Optimizer {config.optimizer} not explicitly supported, defaulting to Adam.\")\n",
    "        optimizer_choice = tf.keras.optimizers.Adam(learning_rate=config.learning_rate)\n",
    "            \n",
    "    model.compile(optimizer=optimizer_choice, loss=\"categorical_crossentropy\", metrics=[\"accuracy\"])\n",
    "    \n",
    "    return model"
   ]
  },
  {
   "cell_type": "code",
   "execution_count": 5,
   "id": "cd8f932b",
   "metadata": {},
   "outputs": [],
   "source": [
    "# Cell 6: Inference Models and Beam Search Decode Function\n",
    "\n",
    "def build_inference_models(training_model, config):\n",
    "    # --- Encoder Model for Inference ---\n",
    "    # Fix: Create Input layer instead of getting it from training model\n",
    "    encoder_inputs_inf = Input(shape=(None,), name=\"encoder_inputs_inf\") \n",
    "    \n",
    "    # Get encoder embedding layer output through the layer's weights\n",
    "    encoder_embedding_layer = training_model.get_layer(\"encoder_embedding\")\n",
    "    encoder_embedding_inf = encoder_embedding_layer(encoder_inputs_inf)\n",
    "    \n",
    "    current_encoder_output = encoder_embedding_inf\n",
    "    encoder_states_inf_list = []\n",
    "\n",
    "    # Rest of the encoder model building...\n",
    "    for i in range(config.encoder_layers):\n",
    "        encoder_rnn_layer_inf = training_model.get_layer(f\"encoder_{config.cell_type}_{i}\")\n",
    "        if config.cell_type == \"LSTM\":\n",
    "            current_encoder_output, state_h_enc, state_c_enc = encoder_rnn_layer_inf(current_encoder_output)\n",
    "            if i == config.encoder_layers - 1:\n",
    "                 encoder_states_inf_list = [state_h_enc, state_c_enc]\n",
    "        else: # GRU or SimpleRNN\n",
    "            current_encoder_output, state_h_enc = encoder_rnn_layer_inf(current_encoder_output)\n",
    "            if i == config.encoder_layers - 1:\n",
    "                encoder_states_inf_list = [state_h_enc]\n",
    "\n",
    "    # Create encoder model with the new input\n",
    "    encoder_model_inf = Model(encoder_inputs_inf, encoder_states_inf_list)\n",
    "    # --- Decoder Model for Inference ---\n",
    "    decoder_state_input_h_list = []\n",
    "    decoder_state_input_c_list = [] # Only for LSTM\n",
    "    decoder_states_inputs_inf_list = []\n",
    "\n",
    "    for i in range(config.decoder_layers):\n",
    "        state_h = Input(shape=(config.hidden_size,), name=f\"decoder_state_input_h_{i}\")\n",
    "        decoder_state_input_h_list.append(state_h)\n",
    "        decoder_states_inputs_inf_list.append(state_h)\n",
    "        if config.cell_type == \"LSTM\":\n",
    "            state_c = Input(shape=(config.hidden_size,), name=f\"decoder_state_input_c_{i}\")\n",
    "            decoder_state_input_c_list.append(state_c)\n",
    "            decoder_states_inputs_inf_list.append(state_c)\n",
    "\n",
    "\n",
    "    decoder_inputs_inf_single_step = Input(shape=(1,), name=\"decoder_inputs_single_step\") # Input is one char at a time\n",
    "    decoder_embedding_inf = training_model.get_layer(\"decoder_embedding\")(decoder_inputs_inf_single_step)\n",
    "\n",
    "    current_decoder_output_inf = decoder_embedding_inf\n",
    "    decoder_states_output_inf_list = []\n",
    "\n",
    "    # The initial states for the *first* decoder layer during inference come from the encoder.\n",
    "    # However, the inference decoder model needs to be general and accept states for *all its layers*.\n",
    "    # For the first step, we pass encoder_states to the first decoder layer.\n",
    "    # For subsequent steps, we pass the output states of the previous step.\n",
    "    \n",
    "    # We need to reconstruct the state inputs for each decoder layer carefully\n",
    "    # Keras layers expect a list of states if stateful, or if return_state=True\n",
    "    \n",
    "    temp_decoder_states_inputs_inf = []\n",
    "    if config.cell_type == \"LSTM\":\n",
    "        for i in range(config.decoder_layers):\n",
    "            temp_decoder_states_inputs_inf.extend([decoder_state_input_h_list[i], decoder_state_input_c_list[i]])\n",
    "    else: # GRU/SimpleRNN\n",
    "        for i in range(config.decoder_layers):\n",
    "            temp_decoder_states_inputs_inf.append(decoder_state_input_h_list[i])\n",
    "\n",
    "    idx = 0\n",
    "    for i in range(config.decoder_layers):\n",
    "        decoder_rnn_layer_inf = training_model.get_layer(f\"decoder_{config.cell_type}_{i}\")\n",
    "        \n",
    "        # Prepare initial_state for this specific layer from the input states list\n",
    "        if config.cell_type == \"LSTM\":\n",
    "            layer_initial_states = [temp_decoder_states_inputs_inf[idx], temp_decoder_states_inputs_inf[idx+1]]\n",
    "            idx += 2\n",
    "            current_decoder_output_inf, state_h_dec, state_c_dec = decoder_rnn_layer_inf(\n",
    "                current_decoder_output_inf, initial_state=layer_initial_states\n",
    "            )\n",
    "            decoder_states_output_inf_list.extend([state_h_dec, state_c_dec])\n",
    "        else: # GRU or SimpleRNN\n",
    "            layer_initial_states = [temp_decoder_states_inputs_inf[idx]]\n",
    "            idx += 1\n",
    "            current_decoder_output_inf, state_h_dec = decoder_rnn_layer_inf(\n",
    "                current_decoder_output_inf, initial_state=layer_initial_states\n",
    "            )\n",
    "            decoder_states_output_inf_list.append(state_h_dec)\n",
    "            \n",
    "    decoder_dense_inf = training_model.get_layer(\"decoder_output_dense\")\n",
    "    decoder_outputs_inf = decoder_dense_inf(current_decoder_output_inf)\n",
    "    \n",
    "    decoder_model_inf = Model(\n",
    "        [decoder_inputs_inf_single_step] + temp_decoder_states_inputs_inf, \n",
    "        [decoder_outputs_inf] + decoder_states_output_inf_list\n",
    "    )\n",
    "    \n",
    "    return encoder_model_inf, decoder_model_inf\n",
    "\n",
    "\n",
    "def decode_sequence_beam_search(input_seq_vectorized, encoder_model, decoder_model, beam_width, config):\n",
    "    # Encode the input as state vectors.\n",
    "    states_value_list = encoder_model.predict(input_seq_vectorized, verbose=0)\n",
    "    \n",
    "    if not isinstance(states_value_list, list):\n",
    "        states_value_list = [states_value_list]  # Convert to list if single state\n",
    "    \n",
    "    # Initialize decoder states\n",
    "    current_states_for_decoder_model = []\n",
    "    \n",
    "    # Populate initial states for the first decoder layer from encoder\n",
    "    current_states_for_decoder_model.extend(states_value_list)\n",
    "    \n",
    "    # Populate zero states for subsequent decoder layers (if any)\n",
    "    batch_size = 1  # For single sequence decoding\n",
    "    num_states_per_layer = 2 if config.cell_type == \"LSTM\" else 1\n",
    "    for _ in range(1, config.decoder_layers):\n",
    "        for _ in range(num_states_per_layer):\n",
    "            current_states_for_decoder_model.append(np.zeros((batch_size, config.hidden_size)))\n",
    "\n",
    "    # Start with the SOS token\n",
    "    target_seq = np.array([[target_token_index[SOS_TOKEN]]])\n",
    "    \n",
    "    # Initial beam: (sequence_indices, log_probability, states_for_decoder_model)\n",
    "    initial_beam = [([target_token_index[SOS_TOKEN]], 0.0, current_states_for_decoder_model)]\n",
    "    live_hypotheses = initial_beam\n",
    "\n",
    "    for _ in range(max_decoder_seq_length):\n",
    "        new_hypotheses = []\n",
    "        for seq_indices, score, current_states in live_hypotheses:\n",
    "            if seq_indices[-1] == target_token_index[EOS_TOKEN] and len(seq_indices) > 1:\n",
    "                new_hypotheses.append((seq_indices, score, current_states))\n",
    "                continue\n",
    "\n",
    "            # Predict next token\n",
    "            last_token_idx = np.array([[seq_indices[-1]]])\n",
    "            \n",
    "            # Make sure all inputs have batch_size=1 and correct shapes\n",
    "            decoder_model_inputs = [last_token_idx] + [\n",
    "                np.reshape(state, (1, -1)) if state.shape[0] != 1 else state \n",
    "                for state in current_states\n",
    "            ]\n",
    "            \n",
    "            output_tokens_probs_list = decoder_model.predict(decoder_model_inputs, verbose=0)\n",
    "            \n",
    "            output_tokens_probs = output_tokens_probs_list[0]  # Shape should be (1, 1, num_decoder_tokens)\n",
    "            new_states_list = output_tokens_probs_list[1:]\n",
    "\n",
    "            # Calculate log probabilities for all tokens\n",
    "            log_probs = np.log(output_tokens_probs[0, 0] + 1e-9)  # Get probabilities for the first (and only) timestep\n",
    "            top_k_indices = np.argsort(log_probs)[-beam_width:]  # Get indices of top k probabilities\n",
    "            \n",
    "            for token_idx in top_k_indices:\n",
    "                if token_idx < len(log_probs):  # Add bounds check\n",
    "                    new_seq_indices = seq_indices + [token_idx]\n",
    "                    new_score = score + log_probs[token_idx]\n",
    "                    new_hypotheses.append((new_seq_indices, new_score, new_states_list))\n",
    "\n",
    "        # Sort and keep top beam_width hypotheses\n",
    "        if new_hypotheses:  # Only sort if we have new hypotheses\n",
    "            live_hypotheses = sorted(new_hypotheses, key=lambda x: x[1], reverse=True)[:beam_width]\n",
    "        else:\n",
    "            break  # No valid hypotheses, end decoding\n",
    "\n",
    "        if all(h[0][-1] == target_token_index[EOS_TOKEN] for h in live_hypotheses if len(h[0]) > 1):\n",
    "            break\n",
    "\n",
    "    # Choose best hypothesis and convert to text\n",
    "    if not live_hypotheses:  # Handle the case where we have no valid hypotheses\n",
    "        return \"\"\n",
    "        \n",
    "    best_hypothesis = max(live_hypotheses, key=lambda x: x[1]/len(x[0]) if len(x[0]) > 1 else x[1])\n",
    "    decoded_sentence_indices = best_hypothesis[0]\n",
    "    \n",
    "    decoded_sentence = \"\"\n",
    "    for token_idx in decoded_sentence_indices:\n",
    "        if token_idx == target_token_index[SOS_TOKEN]:\n",
    "            continue\n",
    "        if token_idx == target_token_index[EOS_TOKEN]:\n",
    "            break\n",
    "        if token_idx in reverse_target_char_index:\n",
    "             decoded_sentence += reverse_target_char_index[token_idx]\n",
    "    return decoded_sentence\n"
   ]
  },
  {
   "cell_type": "code",
   "execution_count": 6,
   "id": "f70d932c",
   "metadata": {},
   "outputs": [],
   "source": [
    "# Cell 7: Training and Evaluation Function (train_evaluate) (Modified)\n",
    "from tqdm import tqdm\n",
    "def train_evaluate():\n",
    "    keras.backend.clear_session() # <<< --- ADD THIS LINE TO CLEAR KERAS SESSION\n",
    "    \n",
    "    # The agent (wandb.agent) calls this function.\n",
    "    # It sets up wandb.config. We initialize W&B to connect to this run.\n",
    "    run = wandb.init() # Project and entity are typically inherited from the sweep environment.\n",
    "                       \n",
    "    config = wandb.config # This is populated by the W&B agent\n",
    "\n",
    "    # Build the training model\n",
    "    print(f\"--- Building model for run {run.id if run else 'N/A'} with config: {dict(config)} ---\")\n",
    "    training_model = build_seq2seq_model(config)\n",
    "    # training_model.summary() # Optional: for debugging model structure\n",
    "    \n",
    "    # Callbacks\n",
    "    early_stopping = EarlyStopping(monitor='val_loss', \n",
    "                                   patience=config.early_stopping_patience, \n",
    "                                   restore_best_weights=True, \n",
    "                                   verbose=1)\n",
    "    wandb_metrics_logger = WandbMetricsLogger(log_freq=\"epoch\")\n",
    "\n",
    "    # Train the model\n",
    "    print(f\"--- Starting training for run {run.id if run else 'N/A'} ---\")\n",
    "    history = training_model.fit(\n",
    "        [encoder_input_train, decoder_input_train],\n",
    "        decoder_target_train,\n",
    "        batch_size=config.batch_size,\n",
    "        epochs=config.epochs, \n",
    "        validation_data=([encoder_input_val, decoder_input_val], decoder_target_val),\n",
    "        callbacks=[early_stopping, wandb_metrics_logger],\n",
    "        verbose=1 \n",
    "    )\n",
    "    \n",
    "    wandb.log({\"val_exact_match_accuracy\": history.history['val_accuracy'][-1]})\n",
    "    # # --- Evaluation with Beam Search ---\n",
    "    # # Build inference models from the *trained* training_model weights\n",
    "    # print(f\"--- Building inference models for run {run.id if run else 'N/A'} ---\")\n",
    "    # encoder_model_inf, decoder_model_inf = build_inference_models(training_model, config)\n",
    "\n",
    "    # correct_predictions = 0\n",
    "    # total_predictions = encoder_input_val.shape[0] \n",
    "    \n",
    "    # if total_predictions == 0:\n",
    "    #     print(\"No validation data to evaluate.\")\n",
    "    #     wandb.log({\"val_exact_match_accuracy\": 0.0})\n",
    "    #     # wandb.finish() # Agent handles finishing the run\n",
    "    #     return\n",
    "\n",
    "    # eval_table_data = []\n",
    "    # print(f\"--- Starting evaluation for run {run.id if run else 'N/A'} ---\")\n",
    "    # for i in tqdm(range(total_predictions)):\n",
    "    #     current_input_vector = encoder_input_val[i:i+1] \n",
    "    #     original_input_text = input_texts_val[i] \n",
    "    #     original_target_text = target_texts_val[i]\n",
    "        \n",
    "    #     decoded_sentence = decode_sequence_beam_search(\n",
    "    #         current_input_vector, \n",
    "    #         encoder_model_inf, \n",
    "    #         decoder_model_inf, \n",
    "    #         config.beam_size,\n",
    "    #         config \n",
    "    #     )\n",
    "        \n",
    "    #     if decoded_sentence == original_target_text:\n",
    "    #         correct_predictions += 1\n",
    "            \n",
    "    #     if i < 5: \n",
    "    #         eval_table_data.append([original_input_text, original_target_text, decoded_sentence])\n",
    "\n",
    "    # if eval_table_data:\n",
    "    #     try: # Add try-except for wandb logging as a precaution\n",
    "    #         wandb.log({\"eval_examples\": wandb.Table(data=eval_table_data,\n",
    "    #                                                columns=[\"Input\", \"True Target\", \"Predicted Target\"])})\n",
    "    #     except Exception as e:\n",
    "    #         print(f\"Error logging eval_examples to W&B: {e}\")\n",
    "\n",
    "\n",
    "    # val_exact_match_accuracy = correct_predictions / total_predictions if total_predictions > 0 else 0.0\n",
    "    \n",
    "    # try:\n",
    "    #     wandb.log({\"val_exact_match_accuracy\": val_exact_match_accuracy}) \n",
    "    # except Exception as e:\n",
    "    #     print(f\"Error logging val_exact_match_accuracy to W&B: {e}\")\n",
    "\n",
    "    \n",
    "    # print(f\"Run {run.id if run else 'Unknown'} | Validation Exact Match Accuracy (Beam Size {config.beam_size}): {val_exact_match_accuracy:.4f}\")\n",
    "    # print(f\"--- Finished evaluation for run {run.id if run else 'N/A'} ---\")\n",
    "    # # The W&B agent calling this function will handle wandb.finish()\n"
   ]
  },
  {
   "cell_type": "code",
   "execution_count": 7,
   "id": "44e0aadf",
   "metadata": {},
   "outputs": [],
   "source": [
    "# Cell 8: Wandb Sweep Configuration\n",
    "\n",
    "sweep_config = {\n",
    "    'method': 'bayes',  # Bayesian optimization, or 'random', 'grid'\n",
    "    'metric': {\n",
    "        'name': 'val_exact_match_accuracy', # Custom metric from beam search eval\n",
    "        'goal': 'maximize'   \n",
    "    },\n",
    "    'parameters': {\n",
    "        'input_embedding_size': {\n",
    "            'values': [32, 64, 128] \n",
    "        },\n",
    "        'hidden_size': {\n",
    "            'values': [64, 128, 256] \n",
    "        },\n",
    "        'encoder_layers': {\n",
    "            'values': [1, 2]\n",
    "        },\n",
    "        'decoder_layers': {\n",
    "            'values': [1, 2]\n",
    "        },\n",
    "        'cell_type': {\n",
    "            'values': ['RNN', 'GRU', 'LSTM']\n",
    "        },\n",
    "        'dropout_rate': {\n",
    "            'values': [0.2, 0.3]\n",
    "        },\n",
    "        'learning_rate': {\n",
    "            'values': [0.001, 0.0001]\n",
    "        },\n",
    "        'batch_size': {\n",
    "            'values': [64, 128, 256]\n",
    "        },\n",
    "        'epochs': { # Max epochs, early stopping will handle actual duration\n",
    "            'values': [50] # Reduced for quicker sweep, increase for final model\n",
    "        },\n",
    "        'early_stopping_patience': {\n",
    "            'values': [5]\n",
    "        },\n",
    "        'beam_size': { # This is for evaluation\n",
    "            'values': [1, 3, 5] # 1 is greedy\n",
    "        },\n",
    "        'optimizer': {\n",
    "            'values': ['adam', 'nadam']\n",
    "        }\n",
    "    }\n",
    "}\n",
    "\n",
    "# Add a note about sweep strategy:\n",
    "# Smart strategies:\n",
    "# 1. Bayesian optimization (`method: 'bayes'`) is generally more efficient than random or grid search.\n",
    "# 2. Early Stopping: Already implemented to stop unpromising runs early, saving compute.\n",
    "# 3. Iterative Sweeps: Start with broader ranges and fewer epochs/smaller dataset subset.\n",
    "#    Analyze results (parallel coordinates, correlation plots from W&B) to identify promising regions.\n",
    "#    Then, conduct a more focused sweep with narrowed ranges, more epochs, or the full dataset.\n",
    "#    (For this assignment, a single comprehensive sweep as configured might be sufficient if time permits,\n",
    "#     otherwise, reduce `epochs` or `count` for the agent initially).\n",
    "# 4. Prioritize parameters: Learning rate, cell type, and hidden size are often critical.\n",
    "#    Dropout and number of layers can be fine-tuned once a good base is found.\n",
    "# 5. Reduce `count` for `wandb.agent` for initial testing of the pipeline.\n"
   ]
  },
  {
   "cell_type": "code",
   "execution_count": null,
   "id": "942f835a",
   "metadata": {},
   "outputs": [],
   "source": [
    "# Cell 9: Start the Sweep Agent\n",
    "\n",
    "# --- Initialize Sweep ---\n",
    "sweep_id = wandb.sweep(sweep_config, entity=\"ce21b097-indian-institute-of-technology-madras\", project=\"CE21B097 - DA6401 - Assignment 3\")\n",
    "\n",
    "# --- Run Agent ---\n",
    "# The 'count' parameter specifies how many runs the agent should perform.\n",
    "# For a thorough search, this might be 20-50 or more, depending on your compute budget.\n",
    "# For testing, set count to a small number like 3-5.\n",
    "wandb.agent(sweep_id, function=train_evaluate, count=100) # Example: 10 runs\n",
    "\n",
    "print(\"\\n--- Sweep Finished ---\")\n",
    "print(\"Go to your W&B project page to see the results, including:\")\n",
    "print(\"- Accuracy v/s Created plot\")\n",
    "print(\"- Parallel Co-ordinates plot\")\n",
    "print(\"- Correlation Summary table\")\n"
   ]
  },
  {
   "cell_type": "code",
   "execution_count": null,
   "id": "21c0b051",
   "metadata": {},
   "outputs": [
    {
     "name": "stdout",
     "output_type": "stream",
     "text": [
      "Using Best Configuration: {'batch_size': 356, 'beam_size': 5, 'cell_type': 'GRU', 'decoder_layers': 2, 'dropout_rate': 0.2, 'early_stopping_patience': 5, 'encoder_layers': 1, 'epochs': 50, 'hidden_size': 256, 'input_embedding_size': 64, 'learning_rate': 0.001, 'optimizer': 'nadam'}\n",
      "\n",
      "--- Retraining model on full training data with best configuration ---\n",
      "Epoch 1/50\n",
      "125/125 [==============================] - 10s 29ms/step - loss: 1.2185 - accuracy: 0.0631 - val_loss: 1.1529 - val_accuracy: 0.0619\n",
      "Epoch 2/50\n",
      "125/125 [==============================] - 3s 23ms/step - loss: 1.1671 - accuracy: 0.0678 - val_loss: 1.0652 - val_accuracy: 0.0668\n",
      "Epoch 3/50\n",
      "125/125 [==============================] - 3s 23ms/step - loss: 1.0901 - accuracy: 0.0713 - val_loss: 1.0352 - val_accuracy: 0.0688\n",
      "Epoch 4/50\n",
      "125/125 [==============================] - 3s 23ms/step - loss: 1.0645 - accuracy: 0.0752 - val_loss: 1.0189 - val_accuracy: 0.0721\n",
      "Epoch 5/50\n",
      "125/125 [==============================] - 3s 24ms/step - loss: 1.0439 - accuracy: 0.0798 - val_loss: 0.9825 - val_accuracy: 0.0793\n",
      "Epoch 6/50\n",
      "125/125 [==============================] - 3s 23ms/step - loss: 0.9923 - accuracy: 0.0894 - val_loss: 0.9203 - val_accuracy: 0.0887\n",
      "Epoch 7/50\n",
      "125/125 [==============================] - 3s 23ms/step - loss: 0.9472 - accuracy: 0.0975 - val_loss: 0.8909 - val_accuracy: 0.0946\n",
      "Epoch 8/50\n",
      "125/125 [==============================] - 3s 25ms/step - loss: 0.9195 - accuracy: 0.1034 - val_loss: 0.8758 - val_accuracy: 0.0993\n",
      "Epoch 9/50\n",
      "125/125 [==============================] - 3s 24ms/step - loss: 0.8935 - accuracy: 0.1092 - val_loss: 0.8630 - val_accuracy: 0.1015\n",
      "Epoch 10/50\n",
      "125/125 [==============================] - 3s 24ms/step - loss: 0.8702 - accuracy: 0.1146 - val_loss: 0.8481 - val_accuracy: 0.1053\n",
      "Epoch 11/50\n",
      "125/125 [==============================] - 3s 24ms/step - loss: 0.8486 - accuracy: 0.1197 - val_loss: 0.8121 - val_accuracy: 0.1138\n",
      "Epoch 12/50\n",
      "125/125 [==============================] - 3s 24ms/step - loss: 0.8274 - accuracy: 0.1239 - val_loss: 0.7913 - val_accuracy: 0.1178\n",
      "Epoch 13/50\n",
      "125/125 [==============================] - 3s 24ms/step - loss: 0.8060 - accuracy: 0.1281 - val_loss: 0.7592 - val_accuracy: 0.1253\n",
      "Epoch 14/50\n",
      "125/125 [==============================] - 3s 24ms/step - loss: 0.7793 - accuracy: 0.1348 - val_loss: 0.7337 - val_accuracy: 0.1286\n",
      "Epoch 15/50\n",
      "125/125 [==============================] - 3s 24ms/step - loss: 0.7506 - accuracy: 0.1417 - val_loss: 0.7039 - val_accuracy: 0.1404\n",
      "Epoch 16/50\n",
      "125/125 [==============================] - 3s 25ms/step - loss: 0.7214 - accuracy: 0.1482 - val_loss: 0.6847 - val_accuracy: 0.1443\n",
      "Epoch 17/50\n",
      "125/125 [==============================] - 4s 30ms/step - loss: 0.6899 - accuracy: 0.1556 - val_loss: 0.6380 - val_accuracy: 0.1545\n",
      "Epoch 18/50\n",
      "125/125 [==============================] - 4s 29ms/step - loss: 0.6593 - accuracy: 0.1631 - val_loss: 0.6128 - val_accuracy: 0.1618\n",
      "Epoch 19/50\n",
      "125/125 [==============================] - 3s 27ms/step - loss: 0.6290 - accuracy: 0.1706 - val_loss: 0.5887 - val_accuracy: 0.1675\n",
      "Epoch 20/50\n",
      "125/125 [==============================] - 4s 28ms/step - loss: 0.5977 - accuracy: 0.1794 - val_loss: 0.5643 - val_accuracy: 0.1760\n",
      "Epoch 21/50\n",
      "125/125 [==============================] - 3s 26ms/step - loss: 0.5646 - accuracy: 0.1883 - val_loss: 0.5153 - val_accuracy: 0.1874\n",
      "Epoch 22/50\n",
      "125/125 [==============================] - 3s 25ms/step - loss: 0.5304 - accuracy: 0.1974 - val_loss: 0.4860 - val_accuracy: 0.1951\n",
      "Epoch 23/50\n",
      "125/125 [==============================] - 3s 26ms/step - loss: 0.4962 - accuracy: 0.2062 - val_loss: 0.4527 - val_accuracy: 0.2036\n",
      "Epoch 24/50\n",
      "125/125 [==============================] - 3s 25ms/step - loss: 0.4604 - accuracy: 0.2157 - val_loss: 0.4217 - val_accuracy: 0.2119\n",
      "Epoch 25/50\n",
      "125/125 [==============================] - 3s 26ms/step - loss: 0.4271 - accuracy: 0.2246 - val_loss: 0.3869 - val_accuracy: 0.2204\n",
      "Epoch 26/50\n",
      "125/125 [==============================] - 3s 26ms/step - loss: 0.3959 - accuracy: 0.2328 - val_loss: 0.3538 - val_accuracy: 0.2295\n",
      "Epoch 27/50\n",
      "125/125 [==============================] - 3s 28ms/step - loss: 0.3688 - accuracy: 0.2400 - val_loss: 0.3414 - val_accuracy: 0.2329\n",
      "Epoch 28/50\n",
      "125/125 [==============================] - 4s 29ms/step - loss: 0.3447 - accuracy: 0.2468 - val_loss: 0.3136 - val_accuracy: 0.2403\n",
      "Epoch 29/50\n",
      "125/125 [==============================] - 3s 25ms/step - loss: 0.3234 - accuracy: 0.2527 - val_loss: 0.3021 - val_accuracy: 0.2433\n",
      "Epoch 30/50\n",
      "125/125 [==============================] - 3s 25ms/step - loss: 0.3051 - accuracy: 0.2581 - val_loss: 0.2843 - val_accuracy: 0.2481\n",
      "Epoch 31/50\n",
      "125/125 [==============================] - 3s 26ms/step - loss: 0.2901 - accuracy: 0.2623 - val_loss: 0.2680 - val_accuracy: 0.2527\n",
      "Epoch 32/50\n",
      "125/125 [==============================] - 3s 27ms/step - loss: 0.2747 - accuracy: 0.2669 - val_loss: 0.2647 - val_accuracy: 0.2534\n",
      "Epoch 33/50\n",
      "125/125 [==============================] - 3s 26ms/step - loss: 0.2629 - accuracy: 0.2701 - val_loss: 0.2516 - val_accuracy: 0.2582\n",
      "Epoch 34/50\n",
      "125/125 [==============================] - 3s 24ms/step - loss: 0.2514 - accuracy: 0.2734 - val_loss: 0.2445 - val_accuracy: 0.2599\n",
      "Epoch 35/50\n",
      "125/125 [==============================] - 3s 24ms/step - loss: 0.2415 - accuracy: 0.2763 - val_loss: 0.2410 - val_accuracy: 0.2607\n",
      "Epoch 36/50\n",
      "125/125 [==============================] - 3s 25ms/step - loss: 0.2316 - accuracy: 0.2794 - val_loss: 0.2301 - val_accuracy: 0.2633\n",
      "Epoch 37/50\n",
      "125/125 [==============================] - 3s 26ms/step - loss: 0.2243 - accuracy: 0.2815 - val_loss: 0.2289 - val_accuracy: 0.2638\n",
      "Epoch 38/50\n",
      "125/125 [==============================] - 3s 27ms/step - loss: 0.2158 - accuracy: 0.2837 - val_loss: 0.2193 - val_accuracy: 0.2663\n",
      "Epoch 39/50\n",
      "125/125 [==============================] - 3s 25ms/step - loss: 0.2079 - accuracy: 0.2859 - val_loss: 0.2167 - val_accuracy: 0.2666\n",
      "Epoch 40/50\n",
      "125/125 [==============================] - 3s 25ms/step - loss: 0.2019 - accuracy: 0.2876 - val_loss: 0.2149 - val_accuracy: 0.2667\n",
      "Epoch 41/50\n",
      "125/125 [==============================] - 3s 26ms/step - loss: 0.1963 - accuracy: 0.2892 - val_loss: 0.2076 - val_accuracy: 0.2691\n",
      "Epoch 42/50\n",
      "125/125 [==============================] - 3s 25ms/step - loss: 0.1998 - accuracy: 0.2881 - val_loss: 0.2146 - val_accuracy: 0.2668\n",
      "Epoch 43/50\n",
      "125/125 [==============================] - 3s 26ms/step - loss: 0.1914 - accuracy: 0.2906 - val_loss: 0.2036 - val_accuracy: 0.2704\n",
      "Epoch 44/50\n",
      "125/125 [==============================] - 3s 25ms/step - loss: 0.1826 - accuracy: 0.2931 - val_loss: 0.1992 - val_accuracy: 0.2714\n",
      "Epoch 45/50\n",
      "125/125 [==============================] - 3s 25ms/step - loss: 0.1772 - accuracy: 0.2945 - val_loss: 0.1986 - val_accuracy: 0.2721\n",
      "Epoch 46/50\n",
      "125/125 [==============================] - 4s 29ms/step - loss: 0.1729 - accuracy: 0.2959 - val_loss: 0.1948 - val_accuracy: 0.2728\n",
      "Epoch 47/50\n",
      "125/125 [==============================] - 4s 29ms/step - loss: 0.1686 - accuracy: 0.2972 - val_loss: 0.1929 - val_accuracy: 0.2737\n",
      "Epoch 48/50\n",
      "125/125 [==============================] - 4s 29ms/step - loss: 0.1647 - accuracy: 0.2984 - val_loss: 0.1943 - val_accuracy: 0.2735\n",
      "Epoch 49/50\n",
      "125/125 [==============================] - 3s 27ms/step - loss: 0.1616 - accuracy: 0.2993 - val_loss: 0.1927 - val_accuracy: 0.2732\n",
      "Epoch 50/50\n",
      "125/125 [==============================] - 3s 27ms/step - loss: 0.1576 - accuracy: 0.3003 - val_loss: 0.1896 - val_accuracy: 0.2743\n",
      "Retraining complete.\n",
      "\n",
      "Test samples: 4502\n",
      "Shape of encoder_input_test_vec: (4502, 20)\n",
      "\n",
      "--- Building inference models for test set evaluation ---\n",
      "\n",
      "--- Predicting on test set using beam_size: 5 ---\n"
     ]
    },
    {
     "name": "stderr",
     "output_type": "stream",
     "text": [
      "  2%|█▋                                                                           | 100/4502 [02:30<2:31:17,  2.06s/it]"
     ]
    },
    {
     "name": "stdout",
     "output_type": "stream",
     "text": [
      "Processed 100/4502 test samples...\n"
     ]
    },
    {
     "name": "stderr",
     "output_type": "stream",
     "text": [
      "  4%|███▍                                                                         | 200/4502 [05:01<1:55:34,  1.61s/it]"
     ]
    },
    {
     "name": "stdout",
     "output_type": "stream",
     "text": [
      "Processed 200/4502 test samples...\n"
     ]
    },
    {
     "name": "stderr",
     "output_type": "stream",
     "text": [
      "  7%|█████▏                                                                       | 300/4502 [07:09<1:32:33,  1.32s/it]"
     ]
    },
    {
     "name": "stdout",
     "output_type": "stream",
     "text": [
      "Processed 300/4502 test samples...\n"
     ]
    },
    {
     "name": "stderr",
     "output_type": "stream",
     "text": [
      "  9%|██████▊                                                                      | 400/4502 [09:11<1:57:14,  1.71s/it]"
     ]
    },
    {
     "name": "stdout",
     "output_type": "stream",
     "text": [
      "Processed 400/4502 test samples...\n"
     ]
    },
    {
     "name": "stderr",
     "output_type": "stream",
     "text": [
      " 11%|████████▌                                                                    | 500/4502 [11:23<1:15:42,  1.14s/it]"
     ]
    },
    {
     "name": "stdout",
     "output_type": "stream",
     "text": [
      "Processed 500/4502 test samples...\n"
     ]
    },
    {
     "name": "stderr",
     "output_type": "stream",
     "text": [
      " 13%|██████████▎                                                                  | 600/4502 [13:35<1:41:00,  1.55s/it]"
     ]
    },
    {
     "name": "stdout",
     "output_type": "stream",
     "text": [
      "Processed 600/4502 test samples...\n"
     ]
    },
    {
     "name": "stderr",
     "output_type": "stream",
     "text": [
      " 16%|███████████▉                                                                 | 700/4502 [15:56<1:17:44,  1.23s/it]"
     ]
    },
    {
     "name": "stdout",
     "output_type": "stream",
     "text": [
      "Processed 700/4502 test samples...\n"
     ]
    },
    {
     "name": "stderr",
     "output_type": "stream",
     "text": [
      " 18%|█████████████▋                                                               | 800/4502 [18:07<1:06:58,  1.09s/it]"
     ]
    },
    {
     "name": "stdout",
     "output_type": "stream",
     "text": [
      "Processed 800/4502 test samples...\n"
     ]
    },
    {
     "name": "stderr",
     "output_type": "stream",
     "text": [
      " 20%|███████████████▍                                                             | 900/4502 [20:26<1:37:02,  1.62s/it]"
     ]
    },
    {
     "name": "stdout",
     "output_type": "stream",
     "text": [
      "Processed 900/4502 test samples...\n"
     ]
    },
    {
     "name": "stderr",
     "output_type": "stream",
     "text": [
      " 22%|████████████████▉                                                           | 1000/4502 [22:32<1:53:55,  1.95s/it]"
     ]
    },
    {
     "name": "stdout",
     "output_type": "stream",
     "text": [
      "Processed 1000/4502 test samples...\n"
     ]
    },
    {
     "name": "stderr",
     "output_type": "stream",
     "text": [
      " 24%|██████████████████▌                                                         | 1100/4502 [24:52<1:32:56,  1.64s/it]"
     ]
    },
    {
     "name": "stdout",
     "output_type": "stream",
     "text": [
      "Processed 1100/4502 test samples...\n"
     ]
    },
    {
     "name": "stderr",
     "output_type": "stream",
     "text": [
      " 27%|████████████████████▊                                                         | 1200/4502 [26:56<52:14,  1.05it/s]"
     ]
    },
    {
     "name": "stdout",
     "output_type": "stream",
     "text": [
      "Processed 1200/4502 test samples...\n"
     ]
    },
    {
     "name": "stderr",
     "output_type": "stream",
     "text": [
      " 29%|██████████████████████▌                                                       | 1300/4502 [28:57<54:19,  1.02s/it]"
     ]
    },
    {
     "name": "stdout",
     "output_type": "stream",
     "text": [
      "Processed 1300/4502 test samples...\n"
     ]
    },
    {
     "name": "stderr",
     "output_type": "stream",
     "text": [
      " 31%|███████████████████████▋                                                    | 1400/4502 [31:04<1:10:17,  1.36s/it]"
     ]
    },
    {
     "name": "stdout",
     "output_type": "stream",
     "text": [
      "Processed 1400/4502 test samples...\n"
     ]
    },
    {
     "name": "stderr",
     "output_type": "stream",
     "text": [
      " 33%|█████████████████████████▉                                                    | 1500/4502 [33:16<51:29,  1.03s/it]"
     ]
    },
    {
     "name": "stdout",
     "output_type": "stream",
     "text": [
      "Processed 1500/4502 test samples...\n"
     ]
    },
    {
     "name": "stderr",
     "output_type": "stream",
     "text": [
      " 36%|███████████████████████████                                                 | 1600/4502 [35:33<1:00:08,  1.24s/it]"
     ]
    },
    {
     "name": "stdout",
     "output_type": "stream",
     "text": [
      "Processed 1600/4502 test samples...\n"
     ]
    },
    {
     "name": "stderr",
     "output_type": "stream",
     "text": [
      " 38%|████████████████████████████▋                                               | 1700/4502 [37:43<1:06:53,  1.43s/it]"
     ]
    },
    {
     "name": "stdout",
     "output_type": "stream",
     "text": [
      "Processed 1700/4502 test samples...\n"
     ]
    },
    {
     "name": "stderr",
     "output_type": "stream",
     "text": [
      " 40%|███████████████████████████████▏                                              | 1800/4502 [39:58<56:27,  1.25s/it]"
     ]
    },
    {
     "name": "stdout",
     "output_type": "stream",
     "text": [
      "Processed 1800/4502 test samples...\n"
     ]
    },
    {
     "name": "stderr",
     "output_type": "stream",
     "text": [
      " 42%|████████████████████████████████                                            | 1900/4502 [42:07<1:06:01,  1.52s/it]"
     ]
    },
    {
     "name": "stdout",
     "output_type": "stream",
     "text": [
      "Processed 1900/4502 test samples...\n"
     ]
    },
    {
     "name": "stderr",
     "output_type": "stream",
     "text": [
      " 44%|█████████████████████████████████▊                                          | 2000/4502 [44:27<1:04:45,  1.55s/it]"
     ]
    },
    {
     "name": "stdout",
     "output_type": "stream",
     "text": [
      "Processed 2000/4502 test samples...\n"
     ]
    },
    {
     "name": "stderr",
     "output_type": "stream",
     "text": [
      " 47%|████████████████████████████████████▍                                         | 2100/4502 [46:28<47:23,  1.18s/it]"
     ]
    },
    {
     "name": "stdout",
     "output_type": "stream",
     "text": [
      "Processed 2100/4502 test samples...\n"
     ]
    },
    {
     "name": "stderr",
     "output_type": "stream",
     "text": [
      " 49%|██████████████████████████████████████                                        | 2200/4502 [48:46<53:24,  1.39s/it]"
     ]
    },
    {
     "name": "stdout",
     "output_type": "stream",
     "text": [
      "Processed 2200/4502 test samples...\n"
     ]
    },
    {
     "name": "stderr",
     "output_type": "stream",
     "text": [
      " 51%|███████████████████████████████████████▊                                      | 2300/4502 [50:54<50:16,  1.37s/it]"
     ]
    },
    {
     "name": "stdout",
     "output_type": "stream",
     "text": [
      "Processed 2300/4502 test samples...\n"
     ]
    },
    {
     "name": "stderr",
     "output_type": "stream",
     "text": [
      " 53%|█████████████████████████████████████████▌                                    | 2400/4502 [53:07<44:20,  1.27s/it]"
     ]
    },
    {
     "name": "stdout",
     "output_type": "stream",
     "text": [
      "Processed 2400/4502 test samples...\n"
     ]
    },
    {
     "name": "stderr",
     "output_type": "stream",
     "text": [
      " 56%|███████████████████████████████████████████▎                                  | 2500/4502 [55:41<56:55,  1.71s/it]"
     ]
    },
    {
     "name": "stdout",
     "output_type": "stream",
     "text": [
      "Processed 2500/4502 test samples...\n"
     ]
    },
    {
     "name": "stderr",
     "output_type": "stream",
     "text": [
      " 58%|█████████████████████████████████████████████                                 | 2600/4502 [57:57<41:49,  1.32s/it]"
     ]
    },
    {
     "name": "stdout",
     "output_type": "stream",
     "text": [
      "Processed 2600/4502 test samples...\n"
     ]
    },
    {
     "name": "stderr",
     "output_type": "stream",
     "text": [
      " 60%|█████████████████████████████████████████████▌                              | 2700/4502 [1:00:02<40:03,  1.33s/it]"
     ]
    },
    {
     "name": "stdout",
     "output_type": "stream",
     "text": [
      "Processed 2700/4502 test samples...\n"
     ]
    },
    {
     "name": "stderr",
     "output_type": "stream",
     "text": [
      " 62%|██████████████████████████████████████████████                            | 2800/4502 [1:02:47<1:09:06,  2.44s/it]"
     ]
    },
    {
     "name": "stdout",
     "output_type": "stream",
     "text": [
      "Processed 2800/4502 test samples...\n"
     ]
    },
    {
     "name": "stderr",
     "output_type": "stream",
     "text": [
      " 64%|████████████████████████████████████████████████▉                           | 2900/4502 [1:06:12<53:23,  2.00s/it]"
     ]
    },
    {
     "name": "stdout",
     "output_type": "stream",
     "text": [
      "Processed 2900/4502 test samples...\n"
     ]
    },
    {
     "name": "stderr",
     "output_type": "stream",
     "text": [
      " 67%|██████████████████████████████████████████████████▋                         | 3000/4502 [1:09:35<42:31,  1.70s/it]"
     ]
    },
    {
     "name": "stdout",
     "output_type": "stream",
     "text": [
      "Processed 3000/4502 test samples...\n"
     ]
    },
    {
     "name": "stderr",
     "output_type": "stream",
     "text": [
      " 69%|████████████████████████████████████████████████████▏                       | 3093/4502 [1:13:15<58:47,  2.50s/it]"
     ]
    }
   ],
   "source": [
    "# Cell for Question 4: Evaluate Best Model on Test Set\n",
    "\n",
    "# (a) Use the best model from your sweep and report the accuracy on the test set\n",
    "# (b) Provide sample inputs from the test data and predictions\n",
    "# (c) Comment on the errors made by your model\n",
    "\n",
    "# --- Define Best Configuration (as an object for attribute access, similar to wandb.config) ---\n",
    "class BestConfig:\n",
    "    def __init__(self, config_dict):\n",
    "        for key, value in config_dict.items():\n",
    "            setattr(self, key, value)\n",
    "\n",
    "best_config_dict = {\n",
    "    \"batch_size\": 356, # User provided 356, but typical values are 32, 64, 128. Using 32 for an example. Adjust if needed.\n",
    "                      # For actual run use the reported best: 356\n",
    "    \"beam_size\": 5,\n",
    "    \"cell_type\": \"GRU\",\n",
    "    \"decoder_layers\": 2,\n",
    "    \"dropout_rate\": 0.2,\n",
    "    \"early_stopping_patience\": 5,\n",
    "    \"encoder_layers\": 1,\n",
    "    \"epochs\": 50, # Max epochs for retraining\n",
    "    \"hidden_size\": 256,\n",
    "    \"input_embedding_size\": 64,\n",
    "    \"learning_rate\": 0.001,\n",
    "    \"optimizer\": \"nadam\" # Nadam optimizer\n",
    "}\n",
    "best_config = BestConfig(best_config_dict)\n",
    "print(\"Using Best Configuration:\", best_config_dict)\n",
    "\n",
    "# --- 1. Retrain the model using the best configuration on the FULL training data ---\n",
    "# Ensure input_texts_train_full, target_texts_train_full are loaded from Cell 3\n",
    "# Vocabularies (input_token_index, target_token_index, etc.) and max_lengths\n",
    "# should have been created based on train+val data in Cell 4.\n",
    "\n",
    "print(\"\\n--- Retraining model on full training data with best configuration ---\")\n",
    "keras.backend.clear_session() # Clear Keras session before building a new model\n",
    "\n",
    "# Vectorize full training data (assuming input_texts_train_full, target_texts_train_full are available)\n",
    "# This assumes `vectorize_data` function is defined and `num_decoder_tokens` is globally available.\n",
    "encoder_input_train_full_vec, decoder_input_train_full_vec, decoder_target_train_full_vec = vectorize_data(\n",
    "    input_texts_train_full, target_texts_train_full\n",
    ")\n",
    "# Also need validation data for early stopping during this final training\n",
    "# encoder_input_val, decoder_input_val, decoder_target_val should be available from Cell 4\n",
    "# If not, re-vectorize them:\n",
    "# encoder_input_val, decoder_input_val, decoder_target_val = vectorize_data(input_texts_val, target_texts_val)\n",
    "\n",
    "\n",
    "best_model = build_seq2seq_model(best_config)\n",
    "# best_model.summary() # Optional: print model summary\n",
    "\n",
    "early_stopping_retrain = EarlyStopping(\n",
    "    monitor='val_loss', \n",
    "    patience=best_config.early_stopping_patience, \n",
    "    restore_best_weights=True,\n",
    "    verbose=1\n",
    ")\n",
    "\n",
    "history_retrain = best_model.fit(\n",
    "    [encoder_input_train_full_vec, decoder_input_train_full_vec],\n",
    "    decoder_target_train_full_vec,\n",
    "    batch_size=best_config.batch_size, # Use the best batch size\n",
    "    epochs=best_config.epochs, # Max epochs\n",
    "    validation_data=([encoder_input_val, decoder_input_val], decoder_target_val), # Use original val set\n",
    "    callbacks=[early_stopping_retrain],\n",
    "    verbose=1\n",
    ")\n",
    "print(\"Retraining complete.\")\n",
    "\n",
    "# --- 2. Prepare Test Data ---\n",
    "# input_texts_test, target_texts_test should be loaded from Cell 3\n",
    "if not input_texts_test:\n",
    "    print(\"Test data not loaded. Please check Cell 3.\")\n",
    "else:\n",
    "    # Vectorize only the encoder input for the test set\n",
    "    # The vectorize_data function creates all three, but we only need encoder_input_test_vec\n",
    "    encoder_input_test_vec, _, _ = vectorize_data(input_texts_test, [\"\"]*len(input_texts_test)) # Dummy targets\n",
    "    print(f\"\\nTest samples: {len(input_texts_test)}\")\n",
    "    print(f\"Shape of encoder_input_test_vec: {encoder_input_test_vec.shape}\")\n",
    "\n",
    "\n",
    "    # --- 3. Build Inference Models ---\n",
    "    print(\"\\n--- Building inference models for test set evaluation ---\")\n",
    "    encoder_model_inf_test, decoder_model_inf_test = build_inference_models(best_model, best_config)\n",
    "\n",
    "    # --- 4. Make Predictions on Test Set ---\n",
    "    print(f\"\\n--- Predicting on test set using beam_size: {best_config.beam_size} ---\")\n",
    "    test_predictions = []\n",
    "    correct_test_predictions = 0\n",
    "    \n",
    "    # Create directory for predictions\n",
    "    predictions_dir = \"predictions_vanilla\"\n",
    "    os.makedirs(predictions_dir, exist_ok=True)\n",
    "    prediction_file_path = os.path.join(predictions_dir, \"test_predictions_vanilla.tsv\")\n",
    "\n",
    "    with open(prediction_file_path, \"w\", encoding=\"utf-8\") as f_out:\n",
    "        f_out.write(\"Input (Roman)\\tActual (Devanagari)\\tPredicted (Devanagari)\\n\") # Header\n",
    "        \n",
    "        for i in tqdm(range(len(input_texts_test))):\n",
    "            input_seq_vectorized_test = encoder_input_test_vec[i:i+1] # Shape (1, max_encoder_seq_length)\n",
    "            \n",
    "            decoded_sentence_test = decode_sequence_beam_search(\n",
    "                input_seq_vectorized_test,\n",
    "                encoder_model_inf_test,\n",
    "                decoder_model_inf_test,\n",
    "                best_config.beam_size,\n",
    "                best_config # Pass the whole config\n",
    "            )\n",
    "            test_predictions.append(decoded_sentence_test)\n",
    "            \n",
    "            actual_target = target_texts_test[i]\n",
    "            f_out.write(f\"{input_texts_test[i]}\\t{actual_target}\\t{decoded_sentence_test}\\n\")\n",
    "\n",
    "            if decoded_sentence_test == actual_target:\n",
    "                correct_test_predictions += 1\n",
    "            \n",
    "            if (i+1) % 100 == 0: # Print progress\n",
    "                 print(f\"Processed {i+1}/{len(input_texts_test)} test samples...\")\n",
    "\n",
    "\n",
    "    # --- (a) Report Accuracy on Test Set ---\n",
    "    test_accuracy = correct_test_predictions / len(input_texts_test) if len(input_texts_test) > 0 else 0.0\n",
    "    print(f\"\\n--- Test Set Evaluation (Best Model) ---\")\n",
    "    print(f\"Exact Match Accuracy on Test Set: {test_accuracy:.4f} ({correct_test_predictions}/{len(input_texts_test)})\")\n",
    "    \n",
    "    # --- (b) Provide Sample Inputs and Predictions ---\n",
    "    print(\"\\n--- Sample Predictions from Test Set ---\")\n",
    "    sample_indices = np.random.choice(len(input_texts_test), min(15, len(input_texts_test)), replace=False)\n",
    "    \n",
    "    results_data = []\n",
    "    for i in sample_indices:\n",
    "        input_word = input_texts_test[i]\n",
    "        true_translation = target_texts_test[i]\n",
    "        model_prediction = test_predictions[i]\n",
    "        is_correct = \"✅\" if model_prediction == true_translation else \"❌\"\n",
    "        results_data.append([input_word, true_translation, model_prediction, is_correct])\n",
    "        \n",
    "    results_df = pd.DataFrame(results_data, columns=[\"Input (Roman)\", \"Actual (Devanagari)\", \"Predicted (Devanagari)\", \"Correct?\"])\n",
    "    \n",
    "    # Display using Markdown for better formatting in notebooks\n",
    "    from IPython.display import display, Markdown\n",
    "    display(Markdown(results_df.to_markdown(index=False)))\n",
    "\n",
    "    print(f\"\\nAll predictions saved to: {prediction_file_path}\")\n",
    "    print(\"Please upload this file to your GitHub project in a folder named 'predictions_vanilla'.\")\n",
    "\n",
    "    # --- (c) Comment on Errors ---\n",
    "    print(\"\\n--- Comments on Errors (Qualitative Analysis based on samples) ---\")\n",
    "    # Collect some error examples for analysis\n",
    "    error_samples = []\n",
    "    for i in range(len(input_texts_test)):\n",
    "        if target_texts_test[i] != test_predictions[i]:\n",
    "            error_samples.append({\n",
    "                \"input\": input_texts_test[i],\n",
    "                \"actual\": target_texts_test[i],\n",
    "                \"predicted\": test_predictions[i],\n",
    "                \"input_len\": len(input_texts_test[i]),\n",
    "                \"actual_len\": len(target_texts_test[i]),\n",
    "                \"pred_len\": len(test_predictions[i])\n",
    "            })\n",
    "        if len(error_samples) >= 50: # Analyze first 50 errors for general comments\n",
    "            break\n",
    "    \n",
    "    if not error_samples:\n",
    "        print(\"No errors found on the test set with the current samples!\")\n",
    "    else:\n",
    "        # Example error analysis points (you'll need to observe the actual errors)\n",
    "        avg_len_input_error = np.mean([e[\"input_len\"] for e in error_samples])\n",
    "        avg_len_input_correct = np.mean([len(input_texts_test[i]) for i in range(len(input_texts_test)) if target_texts_test[i] == test_predictions[i] and i < len(test_predictions)]) # Approx.\n",
    "        \n",
    "        print(f\"*   Average input length for sampled errors: {avg_len_input_error:.2f}\")\n",
    "        # print(f\"*   Approximate average input length for correct predictions: {avg_len_input_correct:.2f}\")\n",
    "        # This might suggest if longer sequences are harder, but more rigorous analysis is needed.\n",
    "\n",
    "        long_sequence_errors = sum(1 for e in error_samples if e[\"input_len\"] > 7) # Define 'long'\n",
    "        print(f\"*   Number of sampled errors on input sequences longer than 7 chars: {long_sequence_errors} out of {len(error_samples)} sampled errors.\")\n",
    "        \n",
    "        # Consonant vs. Vowel errors (This is harder to automate without detailed linguistic tools)\n",
    "        # Manual observation of a few errors:\n",
    "        print(\"\\n*   **General Observations on Error Types (manual inspection needed for specifics):**\")\n",
    "        print(\"    *   **Length Mismatches:** The model might produce outputs that are shorter or longer than the target.\")\n",
    "        # Example check:\n",
    "        len_mismatch_count = sum(1 for e in error_samples if e['actual_len'] != e['pred_len'])\n",
    "        print(f\"        - In {len(error_samples)} sampled errors, {len_mismatch_count} had length mismatches between actual and predicted.\")\n",
    "\n",
    "        print(\"    *   **Specific Character Confusions:** Look for patterns like one vowel being substituted for another, or similar-sounding consonants being mixed up (e.g., 'b' vs 'bh', 'd' vs 'dh'). This requires careful manual review of the `test_predictions_vanilla.tsv` file.\")\n",
    "        print(\"    *   **Handling of Complex Conjuncts (Sanyuktakshar):** Hindi has many conjunct consonants. The model might simplify these or misrepresent them.\")\n",
    "        print(\"    *   **Rare Characters or Sequences:** Characters or sequences that were infrequent in the training data might be predicted less accurately.\")\n",
    "        print(\"    *   **Repetitions or Omissions:** The model might incorrectly repeat characters or omit necessary ones, especially in longer words.\")\n",
    "        print(\"    *   **Influence of Romanization Ambiguity:** Some Romanizations can be ambiguous (e.g., 'a' can map to 'अ' or be part of a vowel sound like 'aa' for 'आ'). The model might struggle with these.\")\n",
    "        print(\"\\n    *   **Suggestion for Deeper Error Analysis:**\")\n",
    "        print(\"        *   A character-level confusion matrix could be very insightful. It would show which target characters are most often confused with which predicted characters.\")\n",
    "        print(\"        *   Categorize errors by linguistic phenomena (e.g., vowel errors, consonant errors, conjunct errors, errors involving modifiers like anusvara/chandrabindu).\")\n",
    "\n",
    "# Ensure all global variables like input_token_index, target_token_index, etc., are available from previous cells.\n",
    "# Also ensure the helper functions `vectorize_data`, `build_inference_models`, `decode_sequence_beam_search` are defined.\n"
   ]
  },
  {
   "cell_type": "code",
   "execution_count": null,
   "id": "0389a1bc",
   "metadata": {},
   "outputs": [],
   "source": []
  }
 ],
 "metadata": {
  "kernelspec": {
   "display_name": "Python 3",
   "language": "python",
   "name": "python3"
  },
  "language_info": {
   "codemirror_mode": {
    "name": "ipython",
    "version": 3
   },
   "file_extension": ".py",
   "mimetype": "text/x-python",
   "name": "python",
   "nbconvert_exporter": "python",
   "pygments_lexer": "ipython3",
   "version": "3.12.1"
  }
 },
 "nbformat": 4,
 "nbformat_minor": 5
}
