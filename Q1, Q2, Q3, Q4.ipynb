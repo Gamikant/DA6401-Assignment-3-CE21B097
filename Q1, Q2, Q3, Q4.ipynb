{
 "cells": [
  {
   "cell_type": "markdown",
   "id": "0543db18-9b9b-46d8-8826-9604785794c3",
   "metadata": {},
   "source": [
    "# Import Libraries"
   ]
  },
  {
   "cell_type": "code",
   "execution_count": 1,
   "id": "c2f02508",
   "metadata": {},
   "outputs": [],
   "source": [
    "import numpy as np\n",
    "import pandas as pd\n",
    "import tensorflow as tf\n",
    "from tensorflow import keras # Ensures keras is from tensorflow\n",
    "from tensorflow.keras.layers import Input, Embedding, LSTM, GRU, Dense, Dropout\n",
    "from tensorflow.keras.models import Model\n",
    "from tensorflow.keras.callbacks import EarlyStopping\n",
    "from tensorflow.keras.preprocessing.sequence import pad_sequences\n",
    "from sklearn.model_selection import train_test_split\n",
    "import wandb\n",
    "from wandb.integration.keras import WandbMetricsLogger, WandbModelCheckpoint\n",
    "\n",
    "\n",
    "import os\n",
    "import re\n",
    "import time\n",
    "import unicodedata"
   ]
  },
  {
   "cell_type": "markdown",
   "id": "4ae80181-8ef1-4369-8277-7f8aa41672be",
   "metadata": {},
   "source": [
    "# Weights & Biases Login"
   ]
  },
  {
   "cell_type": "code",
   "execution_count": null,
   "id": "a6efc824-87e6-4b72-a3ad-1d899490f92a",
   "metadata": {},
   "outputs": [],
   "source": [
    "wandb.login()"
   ]
  },
  {
   "cell_type": "markdown",
   "id": "593045da-5801-4e92-a45e-35f06f929643",
   "metadata": {},
   "source": [
    "# Data Loading and Initial Parsing"
   ]
  },
  {
   "cell_type": "code",
   "execution_count": 2,
   "id": "d8b52170",
   "metadata": {},
   "outputs": [
    {
     "name": "stdout",
     "output_type": "stream",
     "text": [
      "Training samples: 44202\n",
      "Validation samples: 4358\n",
      "Test samples: 4502\n",
      "\n",
      "Sample training data:\n",
      "Input: an, Target: अं\n",
      "Input: ankganit, Target: अंकगणित\n",
      "Input: uncle, Target: अंकल\n"
     ]
    }
   ],
   "source": [
    "def load_data(filepath):\n",
    "    \"\"\"Loads data from a TSV file.\"\"\"\n",
    "    try:\n",
    "        df = pd.read_csv(filepath, sep='\\t', header=None, on_bad_lines='skip', names=['native', 'roman', 'count'])\n",
    "        # The problem statement is romanized (input) to native (target)\n",
    "        # e.g., \"ajanabee अजनबी\" -> x = \"ajanabee\", y = \"अजनबी\"\n",
    "        # The Dakshina dataset lexicon format is: native_word, romanization, count\n",
    "        # So, for our task: input_texts = df['roman'], target_texts = df['native']\n",
    "        \n",
    "        # Handle cases where lines might not have 3 columns or have NaN values\n",
    "        df.dropna(subset=['native', 'roman'], inplace=True)\n",
    "        \n",
    "        input_texts = df['roman'].astype(str).tolist()\n",
    "        target_texts = df['native'].astype(str).tolist()\n",
    "        return input_texts, target_texts\n",
    "    except Exception as e:\n",
    "        print(f\"Error loading data from {filepath}: {e}\")\n",
    "        return [], []\n",
    "\n",
    "# --- Defining data file paths ---\n",
    "dataset_base_dir = 'dakshina_dataset_v1.0' \n",
    "language = 'hi' # Hindi\n",
    "\n",
    "train_file = os.path.join(dataset_base_dir, language, 'lexicons', f'{language}.translit.sampled.train.tsv')\n",
    "dev_file = os.path.join(dataset_base_dir, language, 'lexicons', f'{language}.translit.sampled.dev.tsv')\n",
    "test_file = os.path.join(dataset_base_dir, language, 'lexicons', f'{language}.translit.sampled.test.tsv')\n",
    "\n",
    "# Loading data\n",
    "input_texts_train_full, target_texts_train_full = load_data(train_file)\n",
    "input_texts_val, target_texts_val = load_data(dev_file)\n",
    "input_texts_test, target_texts_test = load_data(test_file) # Test set for final evaluation after sweep\n",
    "\n",
    "input_texts_train, target_texts_train = input_texts_train_full, target_texts_train_full\n",
    "\n",
    "print(f\"Training samples: {len(input_texts_train)}\")\n",
    "print(f\"Validation samples: {len(input_texts_val)}\")\n",
    "print(f\"Test samples: {len(input_texts_test)}\")\n",
    "\n",
    "if len(input_texts_train) > 0 and len(target_texts_train) > 0:\n",
    "    print(\"\\nSample training data:\")\n",
    "    for i in range(min(3, len(input_texts_train))):\n",
    "        print(f\"Input: {input_texts_train[i]}, Target: {target_texts_train[i]}\")\n",
    "else:\n",
    "    print(\"No training data loaded. Please check file paths and content.\")\n",
    "\n",
    "if len(input_texts_val) == 0:\n",
    "    print(\"No validation data loaded. Sweeps will not work correctly without validation data.\")"
   ]
  },
  {
   "cell_type": "markdown",
   "id": "74a78568-06fb-48a6-885e-4a1d461cafd7",
   "metadata": {},
   "source": [
    "# Data Preprocessing - Vocabulary, Tokenization, Padding"
   ]
  },
  {
   "cell_type": "code",
   "execution_count": 3,
   "id": "aee76a5b",
   "metadata": {},
   "outputs": [
    {
     "name": "stdout",
     "output_type": "stream",
     "text": [
      "\n",
      "Number of unique input tokens: 26\n",
      "Number of unique output tokens: 65\n",
      "Max sequence length for inputs: 20\n",
      "Max sequence length for outputs: 21\n",
      "\n",
      "Shape of encoder_input_train: (44202, 20)\n",
      "Shape of decoder_input_train: (44202, 21)\n",
      "Shape of decoder_target_train: (44202, 21, 65)\n"
     ]
    }
   ],
   "source": [
    "# --- Character sets and tokenization ---\n",
    "input_characters = set()\n",
    "target_characters = set()\n",
    "\n",
    "for text in input_texts_train:\n",
    "    for char in text:\n",
    "        if char not in input_characters:\n",
    "            input_characters.add(char)\n",
    "\n",
    "for text in target_texts_train:\n",
    "    for char in text:\n",
    "        if char not in target_characters:\n",
    "            target_characters.add(char)\n",
    "\n",
    "# Add special tokens\n",
    "SOS_TOKEN = '\\t' # Start Of Sequence\n",
    "EOS_TOKEN = '\\n' # End Of Sequence\n",
    "target_characters.add(SOS_TOKEN)\n",
    "target_characters.add(EOS_TOKEN)\n",
    "\n",
    "input_char_list = sorted(list(input_characters))\n",
    "target_char_list = sorted(list(target_characters))\n",
    "\n",
    "num_encoder_tokens = len(input_char_list)\n",
    "num_decoder_tokens = len(target_char_list)\n",
    "\n",
    "# Creating char-to-index and index-to-char mappings\n",
    "input_token_index = {char: i for i, char in enumerate(input_char_list)}\n",
    "target_token_index = {char: i for i, char in enumerate(target_char_list)}\n",
    "\n",
    "reverse_input_char_index = {i: char for char, i in input_token_index.items()}\n",
    "reverse_target_char_index = {i: char for char, i in target_token_index.items()}\n",
    "\n",
    "# Determining max sequence lengths\n",
    "max_encoder_seq_length = max(len(text) for text in input_texts_train + input_texts_val)\n",
    "max_decoder_seq_length = max(len(text) for text in target_texts_train + target_texts_val) + 2 # +2 for SOS and EOS\n",
    "\n",
    "print(f\"\\nNumber of unique input tokens: {num_encoder_tokens}\")\n",
    "print(f\"Number of unique output tokens: {num_decoder_tokens}\")\n",
    "print(f\"Max sequence length for inputs: {max_encoder_seq_length}\")\n",
    "print(f\"Max sequence length for outputs: {max_decoder_seq_length}\")\n",
    "\n",
    "\n",
    "# --- Vectorizing the data ---\n",
    "def vectorize_data(input_texts, target_texts, is_training=True):\n",
    "    encoder_input_data = np.zeros((len(input_texts), max_encoder_seq_length), dtype=\"float32\")\n",
    "    decoder_input_data = np.zeros((len(target_texts), max_decoder_seq_length), dtype=\"float32\")\n",
    "    decoder_target_data = np.zeros((len(target_texts), max_decoder_seq_length, num_decoder_tokens), dtype=\"float32\") # For sparse_categorical_crossentropy, this should be integers\n",
    "\n",
    "    for i, (input_text, target_text) in enumerate(zip(input_texts, target_texts)):\n",
    "        for t, char in enumerate(input_text):\n",
    "            if char in input_token_index: # Handling chars not in vocab if any\n",
    "                 encoder_input_data[i, t] = input_token_index[char]\n",
    "            # else: ignoring unknown char or map to a special <UNK> token if defined\n",
    "        \n",
    "        # Decoder target data is ahead of decoder input data by one timestep\n",
    "        # and includes the start token.\n",
    "        # Decoder input: <SOS> char1 char2 ...\n",
    "        # Decoder target: char1 char2 ... <EOS>\n",
    "        \n",
    "        processed_target_text = SOS_TOKEN + target_text + EOS_TOKEN\n",
    "        for t, char in enumerate(processed_target_text):\n",
    "            if t < max_decoder_seq_length:\n",
    "                if char in target_token_index:\n",
    "                    decoder_input_data[i, t] = target_token_index[char]\n",
    "                    if t > 0: # decoder_target_data will be one timestep ahead\n",
    "                        decoder_target_data[i, t - 1, target_token_index[char]] = 1.0 # One-hot\n",
    "            # else: sequence is longer than max_decoder_seq_length, truncate\n",
    "    \n",
    "    return encoder_input_data, decoder_input_data, decoder_target_data\n",
    "\n",
    "\n",
    "encoder_input_train, decoder_input_train, decoder_target_train = vectorize_data(input_texts_train, target_texts_train)\n",
    "encoder_input_val, decoder_input_val, decoder_target_val = vectorize_data(input_texts_val, target_texts_val)\n",
    "\n",
    "print(\"\\nShape of encoder_input_train:\", encoder_input_train.shape)\n",
    "print(\"Shape of decoder_input_train:\", decoder_input_train.shape)\n",
    "print(\"Shape of decoder_target_train:\", decoder_target_train.shape)\n"
   ]
  },
  {
   "cell_type": "markdown",
   "id": "01c45c1a-a339-43c8-9fec-62c82bbaf701",
   "metadata": {},
   "source": [
    "# Model Building Function"
   ]
  },
  {
   "cell_type": "code",
   "execution_count": 4,
   "id": "dbdb2dd4",
   "metadata": {},
   "outputs": [],
   "source": [
    "def build_seq2seq_model(config): # Expects config to be an object with attributes\n",
    "    \"\"\"Builds the Encoder-Decoder model based on wandb config.\"\"\"\n",
    "    \n",
    "    # Encoder\n",
    "    encoder_inputs = Input(shape=(None,), name=\"encoder_inputs\") \n",
    "    emb_enc = Embedding(num_encoder_tokens, config.input_embedding_size, name=\"encoder_embedding\")(encoder_inputs)\n",
    "    \n",
    "    current_encoder_output = emb_enc \n",
    "    \n",
    "    # Selecting RNN cell type\n",
    "    if config.cell_type == \"LSTM\":\n",
    "        RNNCell = LSTM\n",
    "    elif config.cell_type == \"GRU\":\n",
    "        RNNCell = GRU\n",
    "    else: \n",
    "        RNNCell = keras.layers.SimpleRNN\n",
    "\n",
    "    encoder_states_list = [] \n",
    "\n",
    "    for i in range(config.encoder_layers):\n",
    "        is_last_layer = (i == config.encoder_layers - 1)\n",
    "        rnn_layer = RNNCell(config.hidden_size, \n",
    "                            return_sequences=not is_last_layer, \n",
    "                            return_state=True, \n",
    "                            dropout=config.dropout_rate, \n",
    "                            name=f\"encoder_{config.cell_type}_{i}\")\n",
    "        \n",
    "        if config.cell_type == \"LSTM\":\n",
    "            encoder_rnn_output_seq, state_h, state_c = rnn_layer(current_encoder_output)\n",
    "            layer_states = [state_h, state_c]\n",
    "        else: \n",
    "            encoder_rnn_output_seq, state_h = rnn_layer(current_encoder_output)\n",
    "            layer_states = [state_h]\n",
    "        \n",
    "        if is_last_layer: \n",
    "            encoder_states_list = layer_states\n",
    "        current_encoder_output = encoder_rnn_output_seq\n",
    "\n",
    "    # Decoder\n",
    "    decoder_inputs = Input(shape=(None,), name=\"decoder_inputs\")\n",
    "    emb_dec = Embedding(num_decoder_tokens, config.input_embedding_size, name=\"decoder_embedding\")(decoder_inputs)\n",
    "    current_decoder_output = emb_dec\n",
    "    decoder_rnn_output_seq = current_decoder_output\n",
    "\n",
    "    for i in range(config.decoder_layers):\n",
    "        rnn_layer_dec = RNNCell(config.hidden_size, \n",
    "                                return_sequences=True, \n",
    "                                return_state=True,    \n",
    "                                dropout=config.dropout_rate,\n",
    "                                name=f\"decoder_{config.cell_type}_{i}\")\n",
    "        \n",
    "        initial_states_for_layer = encoder_states_list if i == 0 else None\n",
    "        \n",
    "        if config.cell_type == \"LSTM\":\n",
    "            decoder_rnn_output_seq, _, _ = rnn_layer_dec(decoder_rnn_output_seq, initial_state=initial_states_for_layer)\n",
    "        else: \n",
    "            decoder_rnn_output_seq, _ = rnn_layer_dec(decoder_rnn_output_seq, initial_state=initial_states_for_layer)\n",
    "            \n",
    "    decoder_dense = Dense(num_decoder_tokens, activation=\"softmax\", name=\"decoder_output_dense\")\n",
    "    decoder_outputs = decoder_dense(decoder_rnn_output_seq)\n",
    "\n",
    "    model = Model([encoder_inputs, decoder_inputs], decoder_outputs)\n",
    "\n",
    "    # Optimizer selection\n",
    "    if config.optimizer == 'adam':\n",
    "        optimizer_choice = tf.keras.optimizers.Adam(learning_rate=config.learning_rate)\n",
    "    elif config.optimizer == 'rmsprop':\n",
    "        optimizer_choice = tf.keras.optimizers.RMSprop(learning_rate=config.learning_rate)\n",
    "    elif config.optimizer == 'nadam': # Added Nadam\n",
    "        optimizer_choice = tf.keras.optimizers.Nadam(learning_rate=config.learning_rate)\n",
    "    elif config.optimizer == 'sgd':\n",
    "        optimizer_choice = tf.keras.optimizers.SGD(learning_rate=config.learning_rate)\n",
    "    else: # Default to Adam\n",
    "        print(f\"Optimizer {config.optimizer} not explicitly supported, defaulting to Adam.\")\n",
    "        optimizer_choice = tf.keras.optimizers.Adam(learning_rate=config.learning_rate)\n",
    "            \n",
    "    model.compile(optimizer=optimizer_choice, loss=\"categorical_crossentropy\", metrics=[\"accuracy\"])\n",
    "    \n",
    "    return model"
   ]
  },
  {
   "cell_type": "markdown",
   "id": "f72805db-b90d-44a7-92a1-bdcecba3089b",
   "metadata": {},
   "source": [
    "# Inference Models and Beam Search Decode Function"
   ]
  },
  {
   "cell_type": "code",
   "execution_count": 5,
   "id": "cd8f932b",
   "metadata": {},
   "outputs": [],
   "source": [
    "def build_inference_models(training_model, config):\n",
    "    # --- Encoder Model for Inference ---\n",
    "    encoder_inputs_inf = Input(shape=(None,), name=\"encoder_inputs_inf\") \n",
    "    \n",
    "    # Getting encoder embedding layer output through the layer's weights\n",
    "    encoder_embedding_layer = training_model.get_layer(\"encoder_embedding\")\n",
    "    encoder_embedding_inf = encoder_embedding_layer(encoder_inputs_inf)\n",
    "    \n",
    "    current_encoder_output = encoder_embedding_inf\n",
    "    encoder_states_inf_list = []\n",
    "\n",
    "    for i in range(config.encoder_layers):\n",
    "        encoder_rnn_layer_inf = training_model.get_layer(f\"encoder_{config.cell_type}_{i}\")\n",
    "        if config.cell_type == \"LSTM\":\n",
    "            current_encoder_output, state_h_enc, state_c_enc = encoder_rnn_layer_inf(current_encoder_output)\n",
    "            if i == config.encoder_layers - 1:\n",
    "                 encoder_states_inf_list = [state_h_enc, state_c_enc]\n",
    "        else: # GRU or SimpleRNN\n",
    "            current_encoder_output, state_h_enc = encoder_rnn_layer_inf(current_encoder_output)\n",
    "            if i == config.encoder_layers - 1:\n",
    "                encoder_states_inf_list = [state_h_enc]\n",
    "\n",
    "    # Creating encoder model with the new input\n",
    "    encoder_model_inf = Model(encoder_inputs_inf, encoder_states_inf_list)\n",
    "    # --- Decoder Model for Inference ---\n",
    "    decoder_state_input_h_list = []\n",
    "    decoder_state_input_c_list = [] # Only for LSTM\n",
    "    decoder_states_inputs_inf_list = []\n",
    "\n",
    "    for i in range(config.decoder_layers):\n",
    "        state_h = Input(shape=(config.hidden_size,), name=f\"decoder_state_input_h_{i}\")\n",
    "        decoder_state_input_h_list.append(state_h)\n",
    "        decoder_states_inputs_inf_list.append(state_h)\n",
    "        if config.cell_type == \"LSTM\":\n",
    "            state_c = Input(shape=(config.hidden_size,), name=f\"decoder_state_input_c_{i}\")\n",
    "            decoder_state_input_c_list.append(state_c)\n",
    "            decoder_states_inputs_inf_list.append(state_c)\n",
    "\n",
    "\n",
    "    decoder_inputs_inf_single_step = Input(shape=(1,), name=\"decoder_inputs_single_step\") # Input is one char at a time\n",
    "    decoder_embedding_inf = training_model.get_layer(\"decoder_embedding\")(decoder_inputs_inf_single_step)\n",
    "\n",
    "    current_decoder_output_inf = decoder_embedding_inf\n",
    "    decoder_states_output_inf_list = []\n",
    "\n",
    "    # The initial states for the *first* decoder layer during inference come from the encoder.\n",
    "    # However, the inference decoder model needs to be general and accept states for *all its layers*.\n",
    "    # For the first step, we pass encoder_states to the first decoder layer.\n",
    "    # For subsequent steps, we pass the output states of the previous step.\n",
    "    \n",
    "    # We need to reconstruct the state inputs for each decoder layer carefully\n",
    "    # Keras layers expect a list of states if stateful, or if return_state=True\n",
    "    \n",
    "    temp_decoder_states_inputs_inf = []\n",
    "    if config.cell_type == \"LSTM\":\n",
    "        for i in range(config.decoder_layers):\n",
    "            temp_decoder_states_inputs_inf.extend([decoder_state_input_h_list[i], decoder_state_input_c_list[i]])\n",
    "    else: # GRU/SimpleRNN\n",
    "        for i in range(config.decoder_layers):\n",
    "            temp_decoder_states_inputs_inf.append(decoder_state_input_h_list[i])\n",
    "\n",
    "    idx = 0\n",
    "    for i in range(config.decoder_layers):\n",
    "        decoder_rnn_layer_inf = training_model.get_layer(f\"decoder_{config.cell_type}_{i}\")\n",
    "        \n",
    "        # Preparing initial_state for this specific layer from the input states list\n",
    "        if config.cell_type == \"LSTM\":\n",
    "            layer_initial_states = [temp_decoder_states_inputs_inf[idx], temp_decoder_states_inputs_inf[idx+1]]\n",
    "            idx += 2\n",
    "            current_decoder_output_inf, state_h_dec, state_c_dec = decoder_rnn_layer_inf(\n",
    "                current_decoder_output_inf, initial_state=layer_initial_states\n",
    "            )\n",
    "            decoder_states_output_inf_list.extend([state_h_dec, state_c_dec])\n",
    "        else: # GRU or SimpleRNN\n",
    "            layer_initial_states = [temp_decoder_states_inputs_inf[idx]]\n",
    "            idx += 1\n",
    "            current_decoder_output_inf, state_h_dec = decoder_rnn_layer_inf(\n",
    "                current_decoder_output_inf, initial_state=layer_initial_states\n",
    "            )\n",
    "            decoder_states_output_inf_list.append(state_h_dec)\n",
    "            \n",
    "    decoder_dense_inf = training_model.get_layer(\"decoder_output_dense\")\n",
    "    decoder_outputs_inf = decoder_dense_inf(current_decoder_output_inf)\n",
    "    \n",
    "    decoder_model_inf = Model(\n",
    "        [decoder_inputs_inf_single_step] + temp_decoder_states_inputs_inf, \n",
    "        [decoder_outputs_inf] + decoder_states_output_inf_list\n",
    "    )\n",
    "    \n",
    "    return encoder_model_inf, decoder_model_inf\n",
    "\n",
    "\n",
    "def decode_sequence_beam_search(input_seq_vectorized, encoder_model, decoder_model, beam_width, config):\n",
    "    # Encoding the input as state vectors.\n",
    "    states_value_list = encoder_model.predict(input_seq_vectorized, verbose=0)\n",
    "    \n",
    "    if not isinstance(states_value_list, list):\n",
    "        states_value_list = [states_value_list]  # Convert to list if single state\n",
    "    \n",
    "    # Initializing decoder states\n",
    "    current_states_for_decoder_model = []\n",
    "    \n",
    "    # Populating initial states for the first decoder layer from encoder\n",
    "    current_states_for_decoder_model.extend(states_value_list)\n",
    "    \n",
    "    # Populating zero states for subsequent decoder layers (if any)\n",
    "    batch_size = 1  # For single sequence decoding\n",
    "    num_states_per_layer = 2 if config.cell_type == \"LSTM\" else 1\n",
    "    for _ in range(1, config.decoder_layers):\n",
    "        for _ in range(num_states_per_layer):\n",
    "            current_states_for_decoder_model.append(np.zeros((batch_size, config.hidden_size)))\n",
    "\n",
    "    # Starting with the SOS token\n",
    "    target_seq = np.array([[target_token_index[SOS_TOKEN]]])\n",
    "    \n",
    "    # Initial beam: (sequence_indices, log_probability, states_for_decoder_model)\n",
    "    initial_beam = [([target_token_index[SOS_TOKEN]], 0.0, current_states_for_decoder_model)]\n",
    "    live_hypotheses = initial_beam\n",
    "\n",
    "    for _ in range(max_decoder_seq_length):\n",
    "        new_hypotheses = []\n",
    "        for seq_indices, score, current_states in live_hypotheses:\n",
    "            if seq_indices[-1] == target_token_index[EOS_TOKEN] and len(seq_indices) > 1:\n",
    "                new_hypotheses.append((seq_indices, score, current_states))\n",
    "                continue\n",
    "\n",
    "            # Predicting next token\n",
    "            last_token_idx = np.array([[seq_indices[-1]]])\n",
    "            \n",
    "            # Making sure all inputs have batch_size=1 and correct shapes\n",
    "            decoder_model_inputs = [last_token_idx] + [\n",
    "                np.reshape(state, (1, -1)) if state.shape[0] != 1 else state \n",
    "                for state in current_states\n",
    "            ]\n",
    "            \n",
    "            output_tokens_probs_list = decoder_model.predict(decoder_model_inputs, verbose=0)\n",
    "            \n",
    "            output_tokens_probs = output_tokens_probs_list[0]  # Shape should be (1, 1, num_decoder_tokens)\n",
    "            new_states_list = output_tokens_probs_list[1:]\n",
    "\n",
    "            # Calculating log probabilities for all tokens\n",
    "            log_probs = np.log(output_tokens_probs[0, 0] + 1e-9)  # Getting probabilities for the first (and only) timestep\n",
    "            top_k_indices = np.argsort(log_probs)[-beam_width:]  # Getting indices of top k probabilities\n",
    "            \n",
    "            for token_idx in top_k_indices:\n",
    "                if token_idx < len(log_probs):  # Adding bounds check\n",
    "                    new_seq_indices = seq_indices + [token_idx]\n",
    "                    new_score = score + log_probs[token_idx]\n",
    "                    new_hypotheses.append((new_seq_indices, new_score, new_states_list))\n",
    "\n",
    "        # Sorting and keeping top beam_width hypotheses\n",
    "        if new_hypotheses:\n",
    "            live_hypotheses = sorted(new_hypotheses, key=lambda x: x[1], reverse=True)[:beam_width]\n",
    "        else:\n",
    "            break \n",
    "\n",
    "        if all(h[0][-1] == target_token_index[EOS_TOKEN] for h in live_hypotheses if len(h[0]) > 1):\n",
    "            break\n",
    "\n",
    "    # Choosing best hypothesis and converting to text\n",
    "    if not live_hypotheses: \n",
    "        return \"\"\n",
    "        \n",
    "    best_hypothesis = max(live_hypotheses, key=lambda x: x[1]/len(x[0]) if len(x[0]) > 1 else x[1])\n",
    "    decoded_sentence_indices = best_hypothesis[0]\n",
    "    \n",
    "    decoded_sentence = \"\"\n",
    "    for token_idx in decoded_sentence_indices:\n",
    "        if token_idx == target_token_index[SOS_TOKEN]:\n",
    "            continue\n",
    "        if token_idx == target_token_index[EOS_TOKEN]:\n",
    "            break\n",
    "        if token_idx in reverse_target_char_index:\n",
    "             decoded_sentence += reverse_target_char_index[token_idx]\n",
    "    return decoded_sentence\n"
   ]
  },
  {
   "cell_type": "markdown",
   "id": "d38c368e-b9fe-474d-a764-0d1a219ae1a4",
   "metadata": {},
   "source": [
    "# Training and Evaluation Function (train_evaluate) (Modified)"
   ]
  },
  {
   "cell_type": "code",
   "execution_count": 6,
   "id": "f70d932c",
   "metadata": {},
   "outputs": [],
   "source": [
    "from tqdm import tqdm\n",
    "def train_evaluate():\n",
    "    keras.backend.clear_session()\n",
    "    \n",
    "    run = wandb.init() \n",
    "                       \n",
    "    config = wandb.config\n",
    "\n",
    "    # Build the training model\n",
    "    print(f\"--- Building model for run {run.id if run else 'N/A'} with config: {dict(config)} ---\")\n",
    "    training_model = build_seq2seq_model(config)\n",
    "    \n",
    "    # Callbacks\n",
    "    early_stopping = EarlyStopping(monitor='val_loss', \n",
    "                                   patience=config.early_stopping_patience, \n",
    "                                   restore_best_weights=True, \n",
    "                                   verbose=1)\n",
    "    wandb_metrics_logger = WandbMetricsLogger(log_freq=\"epoch\")\n",
    "\n",
    "    # Training the model\n",
    "    print(f\"--- Starting training for run {run.id if run else 'N/A'} ---\")\n",
    "    history = training_model.fit(\n",
    "        [encoder_input_train, decoder_input_train],\n",
    "        decoder_target_train,\n",
    "        batch_size=config.batch_size,\n",
    "        epochs=config.epochs, \n",
    "        validation_data=([encoder_input_val, decoder_input_val], decoder_target_val),\n",
    "        callbacks=[early_stopping, wandb_metrics_logger],\n",
    "        verbose=1 \n",
    "    )\n",
    "    \n",
    "    wandb.log({\"val_exact_match_accuracy\": history.history['val_accuracy'][-1]})"
   ]
  },
  {
   "cell_type": "markdown",
   "id": "94c2d3f1-c094-4cff-9524-2f7faad34747",
   "metadata": {},
   "source": [
    "# Wandb Sweep Configuration"
   ]
  },
  {
   "cell_type": "code",
   "execution_count": 7,
   "id": "44e0aadf",
   "metadata": {},
   "outputs": [],
   "source": [
    "sweep_config = {\n",
    "    'method': 'bayes',  # Bayesian optimization\n",
    "    'metric': {\n",
    "        'name': 'val_exact_match_accuracy', \n",
    "        'goal': 'maximize'   \n",
    "    },\n",
    "    'parameters': {\n",
    "        'input_embedding_size': {\n",
    "            'values': [32, 64, 128] \n",
    "        },\n",
    "        'hidden_size': {\n",
    "            'values': [64, 128, 256] \n",
    "        },\n",
    "        'encoder_layers': {\n",
    "            'values': [1, 2]\n",
    "        },\n",
    "        'decoder_layers': {\n",
    "            'values': [1, 2]\n",
    "        },\n",
    "        'cell_type': {\n",
    "            'values': ['RNN', 'GRU', 'LSTM']\n",
    "        },\n",
    "        'dropout_rate': {\n",
    "            'values': [0.2, 0.3]\n",
    "        },\n",
    "        'learning_rate': {\n",
    "            'values': [0.001, 0.0001]\n",
    "        },\n",
    "        'batch_size': {\n",
    "            'values': [64, 128, 256]\n",
    "        },\n",
    "        'epochs': { \n",
    "            'values': [50] \n",
    "        },\n",
    "        'early_stopping_patience': {\n",
    "            'values': [5]\n",
    "        },\n",
    "        'beam_size': { \n",
    "            'values': [1, 3, 5] \n",
    "        },\n",
    "        'optimizer': {\n",
    "            'values': ['adam', 'nadam']\n",
    "        }\n",
    "    }\n",
    "}"
   ]
  },
  {
   "cell_type": "markdown",
   "id": "62bbbbcb-750a-4f52-9101-edabd2c97e53",
   "metadata": {},
   "source": [
    "# Start the Sweep Agent"
   ]
  },
  {
   "cell_type": "code",
   "execution_count": null,
   "id": "942f835a",
   "metadata": {},
   "outputs": [],
   "source": [
    "sweep_id = wandb.sweep(sweep_config, entity=\"ce21b097-indian-institute-of-technology-madras\", project=\"CE21B097 - DA6401 - Assignment 3\")\n",
    "\n",
    "wandb.agent(sweep_id, function=train_evaluate, count=100)\n",
    "\n",
    "print(\"\\n--- Sweep Finished ---\")\n",
    "print(\"Go to your W&B project page to see the results, including:\")\n",
    "print(\"- Accuracy v/s Created plot\")\n",
    "print(\"- Parallel Co-ordinates plot\")\n",
    "print(\"- Correlation Summary table\")"
   ]
  },
  {
   "cell_type": "markdown",
   "id": "19d7793f-473f-4d87-b500-0850a8ddde9e",
   "metadata": {},
   "source": [
    "# For Question 4: Evaluate Best Model on Test Set"
   ]
  },
  {
   "cell_type": "code",
   "execution_count": 8,
   "id": "21c0b051",
   "metadata": {},
   "outputs": [
    {
     "name": "stdout",
     "output_type": "stream",
     "text": [
      "Using Best Configuration: {'batch_size': 356, 'beam_size': 5, 'cell_type': 'GRU', 'decoder_layers': 2, 'dropout_rate': 0.2, 'early_stopping_patience': 5, 'encoder_layers': 1, 'epochs': 50, 'hidden_size': 256, 'input_embedding_size': 64, 'learning_rate': 0.001, 'optimizer': 'nadam'}\n",
      "\n",
      "--- Retraining model on full training data with best configuration ---\n",
      "Epoch 1/50\n",
      "125/125 [==============================] - 10s 29ms/step - loss: 1.2185 - accuracy: 0.0631 - val_loss: 1.1529 - val_accuracy: 0.0619\n",
      "Epoch 2/50\n",
      "125/125 [==============================] - 3s 23ms/step - loss: 1.1671 - accuracy: 0.0678 - val_loss: 1.0652 - val_accuracy: 0.0668\n",
      "Epoch 3/50\n",
      "125/125 [==============================] - 3s 23ms/step - loss: 1.0901 - accuracy: 0.0713 - val_loss: 1.0352 - val_accuracy: 0.0688\n",
      "Epoch 4/50\n",
      "125/125 [==============================] - 3s 23ms/step - loss: 1.0645 - accuracy: 0.0752 - val_loss: 1.0189 - val_accuracy: 0.0721\n",
      "Epoch 5/50\n",
      "125/125 [==============================] - 3s 24ms/step - loss: 1.0439 - accuracy: 0.0798 - val_loss: 0.9825 - val_accuracy: 0.0793\n",
      "Epoch 6/50\n",
      "125/125 [==============================] - 3s 23ms/step - loss: 0.9923 - accuracy: 0.0894 - val_loss: 0.9203 - val_accuracy: 0.0887\n",
      "Epoch 7/50\n",
      "125/125 [==============================] - 3s 23ms/step - loss: 0.9472 - accuracy: 0.0975 - val_loss: 0.8909 - val_accuracy: 0.0946\n",
      "Epoch 8/50\n",
      "125/125 [==============================] - 3s 25ms/step - loss: 0.9195 - accuracy: 0.1034 - val_loss: 0.8758 - val_accuracy: 0.0993\n",
      "Epoch 9/50\n",
      "125/125 [==============================] - 3s 24ms/step - loss: 0.8935 - accuracy: 0.1092 - val_loss: 0.8630 - val_accuracy: 0.1015\n",
      "Epoch 10/50\n",
      "125/125 [==============================] - 3s 24ms/step - loss: 0.8702 - accuracy: 0.1146 - val_loss: 0.8481 - val_accuracy: 0.1053\n",
      "Epoch 11/50\n",
      "125/125 [==============================] - 3s 24ms/step - loss: 0.8486 - accuracy: 0.1197 - val_loss: 0.8121 - val_accuracy: 0.1138\n",
      "Epoch 12/50\n",
      "125/125 [==============================] - 3s 24ms/step - loss: 0.8274 - accuracy: 0.1239 - val_loss: 0.7913 - val_accuracy: 0.1178\n",
      "Epoch 13/50\n",
      "125/125 [==============================] - 3s 24ms/step - loss: 0.8060 - accuracy: 0.1281 - val_loss: 0.7592 - val_accuracy: 0.1253\n",
      "Epoch 14/50\n",
      "125/125 [==============================] - 3s 24ms/step - loss: 0.7793 - accuracy: 0.1348 - val_loss: 0.7337 - val_accuracy: 0.1286\n",
      "Epoch 15/50\n",
      "125/125 [==============================] - 3s 24ms/step - loss: 0.7506 - accuracy: 0.1417 - val_loss: 0.7039 - val_accuracy: 0.1404\n",
      "Epoch 16/50\n",
      "125/125 [==============================] - 3s 25ms/step - loss: 0.7214 - accuracy: 0.1482 - val_loss: 0.6847 - val_accuracy: 0.1443\n",
      "Epoch 17/50\n",
      "125/125 [==============================] - 4s 30ms/step - loss: 0.6899 - accuracy: 0.1556 - val_loss: 0.6380 - val_accuracy: 0.1545\n",
      "Epoch 18/50\n",
      "125/125 [==============================] - 4s 29ms/step - loss: 0.6593 - accuracy: 0.1631 - val_loss: 0.6128 - val_accuracy: 0.1618\n",
      "Epoch 19/50\n",
      "125/125 [==============================] - 3s 27ms/step - loss: 0.6290 - accuracy: 0.1706 - val_loss: 0.5887 - val_accuracy: 0.1675\n",
      "Epoch 20/50\n",
      "125/125 [==============================] - 4s 28ms/step - loss: 0.5977 - accuracy: 0.1794 - val_loss: 0.5643 - val_accuracy: 0.1760\n",
      "Epoch 21/50\n",
      "125/125 [==============================] - 3s 26ms/step - loss: 0.5646 - accuracy: 0.1883 - val_loss: 0.5153 - val_accuracy: 0.1874\n",
      "Epoch 22/50\n",
      "125/125 [==============================] - 3s 25ms/step - loss: 0.5304 - accuracy: 0.1974 - val_loss: 0.4860 - val_accuracy: 0.1951\n",
      "Epoch 23/50\n",
      "125/125 [==============================] - 3s 26ms/step - loss: 0.4962 - accuracy: 0.2062 - val_loss: 0.4527 - val_accuracy: 0.2036\n",
      "Epoch 24/50\n",
      "125/125 [==============================] - 3s 25ms/step - loss: 0.4604 - accuracy: 0.2157 - val_loss: 0.4217 - val_accuracy: 0.2119\n",
      "Epoch 25/50\n",
      "125/125 [==============================] - 3s 26ms/step - loss: 0.4271 - accuracy: 0.2246 - val_loss: 0.3869 - val_accuracy: 0.2204\n",
      "Epoch 26/50\n",
      "125/125 [==============================] - 3s 26ms/step - loss: 0.3959 - accuracy: 0.2328 - val_loss: 0.3538 - val_accuracy: 0.2295\n",
      "Epoch 27/50\n",
      "125/125 [==============================] - 3s 28ms/step - loss: 0.3688 - accuracy: 0.2400 - val_loss: 0.3414 - val_accuracy: 0.2329\n",
      "Epoch 28/50\n",
      "125/125 [==============================] - 4s 29ms/step - loss: 0.3447 - accuracy: 0.2468 - val_loss: 0.3136 - val_accuracy: 0.2403\n",
      "Epoch 29/50\n",
      "125/125 [==============================] - 3s 25ms/step - loss: 0.3234 - accuracy: 0.2527 - val_loss: 0.3021 - val_accuracy: 0.2433\n",
      "Epoch 30/50\n",
      "125/125 [==============================] - 3s 25ms/step - loss: 0.3051 - accuracy: 0.2581 - val_loss: 0.2843 - val_accuracy: 0.2481\n",
      "Epoch 31/50\n",
      "125/125 [==============================] - 3s 26ms/step - loss: 0.2901 - accuracy: 0.2623 - val_loss: 0.2680 - val_accuracy: 0.2527\n",
      "Epoch 32/50\n",
      "125/125 [==============================] - 3s 27ms/step - loss: 0.2747 - accuracy: 0.2669 - val_loss: 0.2647 - val_accuracy: 0.2534\n",
      "Epoch 33/50\n",
      "125/125 [==============================] - 3s 26ms/step - loss: 0.2629 - accuracy: 0.2701 - val_loss: 0.2516 - val_accuracy: 0.2582\n",
      "Epoch 34/50\n",
      "125/125 [==============================] - 3s 24ms/step - loss: 0.2514 - accuracy: 0.2734 - val_loss: 0.2445 - val_accuracy: 0.2599\n",
      "Epoch 35/50\n",
      "125/125 [==============================] - 3s 24ms/step - loss: 0.2415 - accuracy: 0.2763 - val_loss: 0.2410 - val_accuracy: 0.2607\n",
      "Epoch 36/50\n",
      "125/125 [==============================] - 3s 25ms/step - loss: 0.2316 - accuracy: 0.2794 - val_loss: 0.2301 - val_accuracy: 0.2633\n",
      "Epoch 37/50\n",
      "125/125 [==============================] - 3s 26ms/step - loss: 0.2243 - accuracy: 0.2815 - val_loss: 0.2289 - val_accuracy: 0.2638\n",
      "Epoch 38/50\n",
      "125/125 [==============================] - 3s 27ms/step - loss: 0.2158 - accuracy: 0.2837 - val_loss: 0.2193 - val_accuracy: 0.2663\n",
      "Epoch 39/50\n",
      "125/125 [==============================] - 3s 25ms/step - loss: 0.2079 - accuracy: 0.2859 - val_loss: 0.2167 - val_accuracy: 0.2666\n",
      "Epoch 40/50\n",
      "125/125 [==============================] - 3s 25ms/step - loss: 0.2019 - accuracy: 0.2876 - val_loss: 0.2149 - val_accuracy: 0.2667\n",
      "Epoch 41/50\n",
      "125/125 [==============================] - 3s 26ms/step - loss: 0.1963 - accuracy: 0.2892 - val_loss: 0.2076 - val_accuracy: 0.2691\n",
      "Epoch 42/50\n",
      "125/125 [==============================] - 3s 25ms/step - loss: 0.1998 - accuracy: 0.2881 - val_loss: 0.2146 - val_accuracy: 0.2668\n",
      "Epoch 43/50\n",
      "125/125 [==============================] - 3s 26ms/step - loss: 0.1914 - accuracy: 0.2906 - val_loss: 0.2036 - val_accuracy: 0.2704\n",
      "Epoch 44/50\n",
      "125/125 [==============================] - 3s 25ms/step - loss: 0.1826 - accuracy: 0.2931 - val_loss: 0.1992 - val_accuracy: 0.2714\n",
      "Epoch 45/50\n",
      "125/125 [==============================] - 3s 25ms/step - loss: 0.1772 - accuracy: 0.2945 - val_loss: 0.1986 - val_accuracy: 0.2721\n",
      "Epoch 46/50\n",
      "125/125 [==============================] - 4s 29ms/step - loss: 0.1729 - accuracy: 0.2959 - val_loss: 0.1948 - val_accuracy: 0.2728\n",
      "Epoch 47/50\n",
      "125/125 [==============================] - 4s 29ms/step - loss: 0.1686 - accuracy: 0.2972 - val_loss: 0.1929 - val_accuracy: 0.2737\n",
      "Epoch 48/50\n",
      "125/125 [==============================] - 4s 29ms/step - loss: 0.1647 - accuracy: 0.2984 - val_loss: 0.1943 - val_accuracy: 0.2735\n",
      "Epoch 49/50\n",
      "125/125 [==============================] - 3s 27ms/step - loss: 0.1616 - accuracy: 0.2993 - val_loss: 0.1927 - val_accuracy: 0.2732\n",
      "Epoch 50/50\n",
      "125/125 [==============================] - 3s 27ms/step - loss: 0.1576 - accuracy: 0.3003 - val_loss: 0.1896 - val_accuracy: 0.2743\n",
      "Retraining complete.\n",
      "\n",
      "Test samples: 4502\n",
      "Shape of encoder_input_test_vec: (4502, 20)\n",
      "\n",
      "--- Building inference models for test set evaluation ---\n",
      "\n",
      "--- Predicting on test set using beam_size: 5 ---\n"
     ]
    },
    {
     "name": "stderr",
     "output_type": "stream",
     "text": [
      "  2%|█▋                                                                           | 100/4502 [02:30<2:31:17,  2.06s/it]"
     ]
    },
    {
     "name": "stdout",
     "output_type": "stream",
     "text": [
      "Processed 100/4502 test samples...\n"
     ]
    },
    {
     "name": "stderr",
     "output_type": "stream",
     "text": [
      "  4%|███▍                                                                         | 200/4502 [05:01<1:55:34,  1.61s/it]"
     ]
    },
    {
     "name": "stdout",
     "output_type": "stream",
     "text": [
      "Processed 200/4502 test samples...\n"
     ]
    },
    {
     "name": "stderr",
     "output_type": "stream",
     "text": [
      "  7%|█████▏                                                                       | 300/4502 [07:09<1:32:33,  1.32s/it]"
     ]
    },
    {
     "name": "stdout",
     "output_type": "stream",
     "text": [
      "Processed 300/4502 test samples...\n"
     ]
    },
    {
     "name": "stderr",
     "output_type": "stream",
     "text": [
      "  9%|██████▊                                                                      | 400/4502 [09:11<1:57:14,  1.71s/it]"
     ]
    },
    {
     "name": "stdout",
     "output_type": "stream",
     "text": [
      "Processed 400/4502 test samples...\n"
     ]
    },
    {
     "name": "stderr",
     "output_type": "stream",
     "text": [
      " 11%|████████▌                                                                    | 500/4502 [11:23<1:15:42,  1.14s/it]"
     ]
    },
    {
     "name": "stdout",
     "output_type": "stream",
     "text": [
      "Processed 500/4502 test samples...\n"
     ]
    },
    {
     "name": "stderr",
     "output_type": "stream",
     "text": [
      " 13%|██████████▎                                                                  | 600/4502 [13:35<1:41:00,  1.55s/it]"
     ]
    },
    {
     "name": "stdout",
     "output_type": "stream",
     "text": [
      "Processed 600/4502 test samples...\n"
     ]
    },
    {
     "name": "stderr",
     "output_type": "stream",
     "text": [
      " 16%|███████████▉                                                                 | 700/4502 [15:56<1:17:44,  1.23s/it]"
     ]
    },
    {
     "name": "stdout",
     "output_type": "stream",
     "text": [
      "Processed 700/4502 test samples...\n"
     ]
    },
    {
     "name": "stderr",
     "output_type": "stream",
     "text": [
      " 18%|█████████████▋                                                               | 800/4502 [18:07<1:06:58,  1.09s/it]"
     ]
    },
    {
     "name": "stdout",
     "output_type": "stream",
     "text": [
      "Processed 800/4502 test samples...\n"
     ]
    },
    {
     "name": "stderr",
     "output_type": "stream",
     "text": [
      " 20%|███████████████▍                                                             | 900/4502 [20:26<1:37:02,  1.62s/it]"
     ]
    },
    {
     "name": "stdout",
     "output_type": "stream",
     "text": [
      "Processed 900/4502 test samples...\n"
     ]
    },
    {
     "name": "stderr",
     "output_type": "stream",
     "text": [
      " 22%|████████████████▉                                                           | 1000/4502 [22:32<1:53:55,  1.95s/it]"
     ]
    },
    {
     "name": "stdout",
     "output_type": "stream",
     "text": [
      "Processed 1000/4502 test samples...\n"
     ]
    },
    {
     "name": "stderr",
     "output_type": "stream",
     "text": [
      " 24%|██████████████████▌                                                         | 1100/4502 [24:52<1:32:56,  1.64s/it]"
     ]
    },
    {
     "name": "stdout",
     "output_type": "stream",
     "text": [
      "Processed 1100/4502 test samples...\n"
     ]
    },
    {
     "name": "stderr",
     "output_type": "stream",
     "text": [
      " 27%|████████████████████▊                                                         | 1200/4502 [26:56<52:14,  1.05it/s]"
     ]
    },
    {
     "name": "stdout",
     "output_type": "stream",
     "text": [
      "Processed 1200/4502 test samples...\n"
     ]
    },
    {
     "name": "stderr",
     "output_type": "stream",
     "text": [
      " 29%|██████████████████████▌                                                       | 1300/4502 [28:57<54:19,  1.02s/it]"
     ]
    },
    {
     "name": "stdout",
     "output_type": "stream",
     "text": [
      "Processed 1300/4502 test samples...\n"
     ]
    },
    {
     "name": "stderr",
     "output_type": "stream",
     "text": [
      " 31%|███████████████████████▋                                                    | 1400/4502 [31:04<1:10:17,  1.36s/it]"
     ]
    },
    {
     "name": "stdout",
     "output_type": "stream",
     "text": [
      "Processed 1400/4502 test samples...\n"
     ]
    },
    {
     "name": "stderr",
     "output_type": "stream",
     "text": [
      " 33%|█████████████████████████▉                                                    | 1500/4502 [33:16<51:29,  1.03s/it]"
     ]
    },
    {
     "name": "stdout",
     "output_type": "stream",
     "text": [
      "Processed 1500/4502 test samples...\n"
     ]
    },
    {
     "name": "stderr",
     "output_type": "stream",
     "text": [
      " 36%|███████████████████████████                                                 | 1600/4502 [35:33<1:00:08,  1.24s/it]"
     ]
    },
    {
     "name": "stdout",
     "output_type": "stream",
     "text": [
      "Processed 1600/4502 test samples...\n"
     ]
    },
    {
     "name": "stderr",
     "output_type": "stream",
     "text": [
      " 38%|████████████████████████████▋                                               | 1700/4502 [37:43<1:06:53,  1.43s/it]"
     ]
    },
    {
     "name": "stdout",
     "output_type": "stream",
     "text": [
      "Processed 1700/4502 test samples...\n"
     ]
    },
    {
     "name": "stderr",
     "output_type": "stream",
     "text": [
      " 40%|███████████████████████████████▏                                              | 1800/4502 [39:58<56:27,  1.25s/it]"
     ]
    },
    {
     "name": "stdout",
     "output_type": "stream",
     "text": [
      "Processed 1800/4502 test samples...\n"
     ]
    },
    {
     "name": "stderr",
     "output_type": "stream",
     "text": [
      " 42%|████████████████████████████████                                            | 1900/4502 [42:07<1:06:01,  1.52s/it]"
     ]
    },
    {
     "name": "stdout",
     "output_type": "stream",
     "text": [
      "Processed 1900/4502 test samples...\n"
     ]
    },
    {
     "name": "stderr",
     "output_type": "stream",
     "text": [
      " 44%|█████████████████████████████████▊                                          | 2000/4502 [44:27<1:04:45,  1.55s/it]"
     ]
    },
    {
     "name": "stdout",
     "output_type": "stream",
     "text": [
      "Processed 2000/4502 test samples...\n"
     ]
    },
    {
     "name": "stderr",
     "output_type": "stream",
     "text": [
      " 47%|████████████████████████████████████▍                                         | 2100/4502 [46:28<47:23,  1.18s/it]"
     ]
    },
    {
     "name": "stdout",
     "output_type": "stream",
     "text": [
      "Processed 2100/4502 test samples...\n"
     ]
    },
    {
     "name": "stderr",
     "output_type": "stream",
     "text": [
      " 49%|██████████████████████████████████████                                        | 2200/4502 [48:46<53:24,  1.39s/it]"
     ]
    },
    {
     "name": "stdout",
     "output_type": "stream",
     "text": [
      "Processed 2200/4502 test samples...\n"
     ]
    },
    {
     "name": "stderr",
     "output_type": "stream",
     "text": [
      " 51%|███████████████████████████████████████▊                                      | 2300/4502 [50:54<50:16,  1.37s/it]"
     ]
    },
    {
     "name": "stdout",
     "output_type": "stream",
     "text": [
      "Processed 2300/4502 test samples...\n"
     ]
    },
    {
     "name": "stderr",
     "output_type": "stream",
     "text": [
      " 53%|█████████████████████████████████████████▌                                    | 2400/4502 [53:07<44:20,  1.27s/it]"
     ]
    },
    {
     "name": "stdout",
     "output_type": "stream",
     "text": [
      "Processed 2400/4502 test samples...\n"
     ]
    },
    {
     "name": "stderr",
     "output_type": "stream",
     "text": [
      " 56%|███████████████████████████████████████████▎                                  | 2500/4502 [55:41<56:55,  1.71s/it]"
     ]
    },
    {
     "name": "stdout",
     "output_type": "stream",
     "text": [
      "Processed 2500/4502 test samples...\n"
     ]
    },
    {
     "name": "stderr",
     "output_type": "stream",
     "text": [
      " 58%|█████████████████████████████████████████████                                 | 2600/4502 [57:57<41:49,  1.32s/it]"
     ]
    },
    {
     "name": "stdout",
     "output_type": "stream",
     "text": [
      "Processed 2600/4502 test samples...\n"
     ]
    },
    {
     "name": "stderr",
     "output_type": "stream",
     "text": [
      " 60%|█████████████████████████████████████████████▌                              | 2700/4502 [1:00:02<40:03,  1.33s/it]"
     ]
    },
    {
     "name": "stdout",
     "output_type": "stream",
     "text": [
      "Processed 2700/4502 test samples...\n"
     ]
    },
    {
     "name": "stderr",
     "output_type": "stream",
     "text": [
      " 62%|██████████████████████████████████████████████                            | 2800/4502 [1:02:47<1:09:06,  2.44s/it]"
     ]
    },
    {
     "name": "stdout",
     "output_type": "stream",
     "text": [
      "Processed 2800/4502 test samples...\n"
     ]
    },
    {
     "name": "stderr",
     "output_type": "stream",
     "text": [
      " 64%|████████████████████████████████████████████████▉                           | 2900/4502 [1:06:12<53:23,  2.00s/it]"
     ]
    },
    {
     "name": "stdout",
     "output_type": "stream",
     "text": [
      "Processed 2900/4502 test samples...\n"
     ]
    },
    {
     "name": "stderr",
     "output_type": "stream",
     "text": [
      " 67%|██████████████████████████████████████████████████▋                         | 3000/4502 [1:09:35<42:31,  1.70s/it]"
     ]
    },
    {
     "name": "stdout",
     "output_type": "stream",
     "text": [
      "Processed 3000/4502 test samples...\n"
     ]
    },
    {
     "name": "stderr",
     "output_type": "stream",
     "text": [
      " 69%|████████████████████████████████████████████████████▎                       | 3100/4502 [1:13:31<52:52,  2.26s/it]"
     ]
    },
    {
     "name": "stdout",
     "output_type": "stream",
     "text": [
      "Processed 3100/4502 test samples...\n"
     ]
    },
    {
     "name": "stderr",
     "output_type": "stream",
     "text": [
      " 71%|████████████████████████████████████████████████████▌                     | 3200/4502 [1:17:22<1:11:09,  3.28s/it]"
     ]
    },
    {
     "name": "stdout",
     "output_type": "stream",
     "text": [
      "Processed 3200/4502 test samples...\n"
     ]
    },
    {
     "name": "stderr",
     "output_type": "stream",
     "text": [
      " 73%|███████████████████████████████████████████████████████▋                    | 3300/4502 [1:21:41<21:06,  1.05s/it]"
     ]
    },
    {
     "name": "stdout",
     "output_type": "stream",
     "text": [
      "Processed 3300/4502 test samples...\n"
     ]
    },
    {
     "name": "stderr",
     "output_type": "stream",
     "text": [
      " 76%|█████████████████████████████████████████████████████████▍                  | 3400/4502 [1:23:58<36:52,  2.01s/it]"
     ]
    },
    {
     "name": "stdout",
     "output_type": "stream",
     "text": [
      "Processed 3400/4502 test samples...\n"
     ]
    },
    {
     "name": "stderr",
     "output_type": "stream",
     "text": [
      " 78%|███████████████████████████████████████████████████████████                 | 3500/4502 [1:26:05<16:29,  1.01it/s]"
     ]
    },
    {
     "name": "stdout",
     "output_type": "stream",
     "text": [
      "Processed 3500/4502 test samples...\n"
     ]
    },
    {
     "name": "stderr",
     "output_type": "stream",
     "text": [
      " 80%|████████████████████████████████████████████████████████████▊               | 3600/4502 [1:28:14<24:18,  1.62s/it]"
     ]
    },
    {
     "name": "stdout",
     "output_type": "stream",
     "text": [
      "Processed 3600/4502 test samples...\n"
     ]
    },
    {
     "name": "stderr",
     "output_type": "stream",
     "text": [
      " 82%|██████████████████████████████████████████████████████████████▍             | 3700/4502 [1:30:56<17:19,  1.30s/it]"
     ]
    },
    {
     "name": "stdout",
     "output_type": "stream",
     "text": [
      "Processed 3700/4502 test samples...\n"
     ]
    },
    {
     "name": "stderr",
     "output_type": "stream",
     "text": [
      " 84%|████████████████████████████████████████████████████████████████▏           | 3800/4502 [1:33:56<21:38,  1.85s/it]"
     ]
    },
    {
     "name": "stdout",
     "output_type": "stream",
     "text": [
      "Processed 3800/4502 test samples...\n"
     ]
    },
    {
     "name": "stderr",
     "output_type": "stream",
     "text": [
      " 87%|█████████████████████████████████████████████████████████████████▊          | 3900/4502 [1:38:07<18:59,  1.89s/it]"
     ]
    },
    {
     "name": "stdout",
     "output_type": "stream",
     "text": [
      "Processed 3900/4502 test samples...\n"
     ]
    },
    {
     "name": "stderr",
     "output_type": "stream",
     "text": [
      " 89%|███████████████████████████████████████████████████████████████████▌        | 4000/4502 [1:41:02<15:57,  1.91s/it]"
     ]
    },
    {
     "name": "stdout",
     "output_type": "stream",
     "text": [
      "Processed 4000/4502 test samples...\n"
     ]
    },
    {
     "name": "stderr",
     "output_type": "stream",
     "text": [
      " 91%|█████████████████████████████████████████████████████████████████████▏      | 4100/4502 [1:43:57<11:33,  1.73s/it]"
     ]
    },
    {
     "name": "stdout",
     "output_type": "stream",
     "text": [
      "Processed 4100/4502 test samples...\n"
     ]
    },
    {
     "name": "stderr",
     "output_type": "stream",
     "text": [
      " 93%|██████████████████████████████████████████████████████████████████████▉     | 4200/4502 [1:46:22<07:51,  1.56s/it]"
     ]
    },
    {
     "name": "stdout",
     "output_type": "stream",
     "text": [
      "Processed 4200/4502 test samples...\n"
     ]
    },
    {
     "name": "stderr",
     "output_type": "stream",
     "text": [
      " 96%|████████████████████████████████████████████████████████████████████████▌   | 4300/4502 [1:48:46<04:23,  1.30s/it]"
     ]
    },
    {
     "name": "stdout",
     "output_type": "stream",
     "text": [
      "Processed 4300/4502 test samples...\n"
     ]
    },
    {
     "name": "stderr",
     "output_type": "stream",
     "text": [
      " 98%|██████████████████████████████████████████████████████████████████████████▎ | 4400/4502 [1:51:31<03:31,  2.07s/it]"
     ]
    },
    {
     "name": "stdout",
     "output_type": "stream",
     "text": [
      "Processed 4400/4502 test samples...\n"
     ]
    },
    {
     "name": "stderr",
     "output_type": "stream",
     "text": [
      "100%|███████████████████████████████████████████████████████████████████████████▉| 4500/4502 [1:53:52<00:03,  1.76s/it]"
     ]
    },
    {
     "name": "stdout",
     "output_type": "stream",
     "text": [
      "Processed 4500/4502 test samples...\n"
     ]
    },
    {
     "name": "stderr",
     "output_type": "stream",
     "text": [
      "100%|████████████████████████████████████████████████████████████████████████████| 4502/4502 [1:53:55<00:00,  1.52s/it]\n"
     ]
    },
    {
     "name": "stdout",
     "output_type": "stream",
     "text": [
      "\n",
      "--- Test Set Evaluation (Best Model) ---\n",
      "Exact Match Accuracy on Test Set: 0.3110 (1400/4502)\n",
      "\n",
      "--- Sample Predictions from Test Set ---\n"
     ]
    },
    {
     "ename": "ImportError",
     "evalue": "Missing optional dependency 'tabulate'.  Use pip or conda to install tabulate.",
     "output_type": "error",
     "traceback": [
      "\u001b[1;31m---------------------------------------------------------------------------\u001b[0m",
      "\u001b[1;31mModuleNotFoundError\u001b[0m                       Traceback (most recent call last)",
      "File \u001b[1;32m~\\.conda\\envs\\SHM\\lib\\site-packages\\pandas\\compat\\_optional.py:135\u001b[0m, in \u001b[0;36mimport_optional_dependency\u001b[1;34m(name, extra, errors, min_version)\u001b[0m\n\u001b[0;32m    134\u001b[0m \u001b[38;5;28;01mtry\u001b[39;00m:\n\u001b[1;32m--> 135\u001b[0m     module \u001b[38;5;241m=\u001b[39m \u001b[43mimportlib\u001b[49m\u001b[38;5;241;43m.\u001b[39;49m\u001b[43mimport_module\u001b[49m\u001b[43m(\u001b[49m\u001b[43mname\u001b[49m\u001b[43m)\u001b[49m\n\u001b[0;32m    136\u001b[0m \u001b[38;5;28;01mexcept\u001b[39;00m \u001b[38;5;167;01mImportError\u001b[39;00m:\n",
      "File \u001b[1;32m~\\.conda\\envs\\SHM\\lib\\importlib\\__init__.py:127\u001b[0m, in \u001b[0;36mimport_module\u001b[1;34m(name, package)\u001b[0m\n\u001b[0;32m    126\u001b[0m         level \u001b[38;5;241m+\u001b[39m\u001b[38;5;241m=\u001b[39m \u001b[38;5;241m1\u001b[39m\n\u001b[1;32m--> 127\u001b[0m \u001b[38;5;28;01mreturn\u001b[39;00m \u001b[43m_bootstrap\u001b[49m\u001b[38;5;241;43m.\u001b[39;49m\u001b[43m_gcd_import\u001b[49m\u001b[43m(\u001b[49m\u001b[43mname\u001b[49m\u001b[43m[\u001b[49m\u001b[43mlevel\u001b[49m\u001b[43m:\u001b[49m\u001b[43m]\u001b[49m\u001b[43m,\u001b[49m\u001b[43m \u001b[49m\u001b[43mpackage\u001b[49m\u001b[43m,\u001b[49m\u001b[43m \u001b[49m\u001b[43mlevel\u001b[49m\u001b[43m)\u001b[49m\n",
      "File \u001b[1;32m<frozen importlib._bootstrap>:1030\u001b[0m, in \u001b[0;36m_gcd_import\u001b[1;34m(name, package, level)\u001b[0m\n",
      "File \u001b[1;32m<frozen importlib._bootstrap>:1007\u001b[0m, in \u001b[0;36m_find_and_load\u001b[1;34m(name, import_)\u001b[0m\n",
      "File \u001b[1;32m<frozen importlib._bootstrap>:984\u001b[0m, in \u001b[0;36m_find_and_load_unlocked\u001b[1;34m(name, import_)\u001b[0m\n",
      "\u001b[1;31mModuleNotFoundError\u001b[0m: No module named 'tabulate'",
      "\nDuring handling of the above exception, another exception occurred:\n",
      "\u001b[1;31mImportError\u001b[0m                               Traceback (most recent call last)",
      "Cell \u001b[1;32mIn[8], line 143\u001b[0m\n\u001b[0;32m    141\u001b[0m \u001b[38;5;66;03m# Display using Markdown for better formatting in notebooks\u001b[39;00m\n\u001b[0;32m    142\u001b[0m \u001b[38;5;28;01mfrom\u001b[39;00m \u001b[38;5;21;01mIPython\u001b[39;00m\u001b[38;5;21;01m.\u001b[39;00m\u001b[38;5;21;01mdisplay\u001b[39;00m \u001b[38;5;28;01mimport\u001b[39;00m display, Markdown\n\u001b[1;32m--> 143\u001b[0m display(Markdown(\u001b[43mresults_df\u001b[49m\u001b[38;5;241;43m.\u001b[39;49m\u001b[43mto_markdown\u001b[49m\u001b[43m(\u001b[49m\u001b[43mindex\u001b[49m\u001b[38;5;241;43m=\u001b[39;49m\u001b[38;5;28;43;01mFalse\u001b[39;49;00m\u001b[43m)\u001b[49m))\n\u001b[0;32m    145\u001b[0m \u001b[38;5;28mprint\u001b[39m(\u001b[38;5;124mf\u001b[39m\u001b[38;5;124m\"\u001b[39m\u001b[38;5;130;01m\\n\u001b[39;00m\u001b[38;5;124mAll predictions saved to: \u001b[39m\u001b[38;5;132;01m{\u001b[39;00mprediction_file_path\u001b[38;5;132;01m}\u001b[39;00m\u001b[38;5;124m\"\u001b[39m)\n\u001b[0;32m    146\u001b[0m \u001b[38;5;28mprint\u001b[39m(\u001b[38;5;124m\"\u001b[39m\u001b[38;5;124mPlease upload this file to your GitHub project in a folder named \u001b[39m\u001b[38;5;124m'\u001b[39m\u001b[38;5;124mpredictions_vanilla\u001b[39m\u001b[38;5;124m'\u001b[39m\u001b[38;5;124m.\u001b[39m\u001b[38;5;124m\"\u001b[39m)\n",
      "File \u001b[1;32m~\\.conda\\envs\\SHM\\lib\\site-packages\\pandas\\util\\_decorators.py:333\u001b[0m, in \u001b[0;36mdeprecate_nonkeyword_arguments.<locals>.decorate.<locals>.wrapper\u001b[1;34m(*args, **kwargs)\u001b[0m\n\u001b[0;32m    327\u001b[0m \u001b[38;5;28;01mif\u001b[39;00m \u001b[38;5;28mlen\u001b[39m(args) \u001b[38;5;241m>\u001b[39m num_allow_args:\n\u001b[0;32m    328\u001b[0m     warnings\u001b[38;5;241m.\u001b[39mwarn(\n\u001b[0;32m    329\u001b[0m         msg\u001b[38;5;241m.\u001b[39mformat(arguments\u001b[38;5;241m=\u001b[39m_format_argument_list(allow_args)),\n\u001b[0;32m    330\u001b[0m         \u001b[38;5;167;01mFutureWarning\u001b[39;00m,\n\u001b[0;32m    331\u001b[0m         stacklevel\u001b[38;5;241m=\u001b[39mfind_stack_level(),\n\u001b[0;32m    332\u001b[0m     )\n\u001b[1;32m--> 333\u001b[0m \u001b[38;5;28;01mreturn\u001b[39;00m func(\u001b[38;5;241m*\u001b[39margs, \u001b[38;5;241m*\u001b[39m\u001b[38;5;241m*\u001b[39mkwargs)\n",
      "File \u001b[1;32m~\\.conda\\envs\\SHM\\lib\\site-packages\\pandas\\core\\frame.py:2983\u001b[0m, in \u001b[0;36mDataFrame.to_markdown\u001b[1;34m(self, buf, mode, index, storage_options, **kwargs)\u001b[0m\n\u001b[0;32m   2981\u001b[0m kwargs\u001b[38;5;241m.\u001b[39msetdefault(\u001b[38;5;124m\"\u001b[39m\u001b[38;5;124mtablefmt\u001b[39m\u001b[38;5;124m\"\u001b[39m, \u001b[38;5;124m\"\u001b[39m\u001b[38;5;124mpipe\u001b[39m\u001b[38;5;124m\"\u001b[39m)\n\u001b[0;32m   2982\u001b[0m kwargs\u001b[38;5;241m.\u001b[39msetdefault(\u001b[38;5;124m\"\u001b[39m\u001b[38;5;124mshowindex\u001b[39m\u001b[38;5;124m\"\u001b[39m, index)\n\u001b[1;32m-> 2983\u001b[0m tabulate \u001b[38;5;241m=\u001b[39m \u001b[43mimport_optional_dependency\u001b[49m\u001b[43m(\u001b[49m\u001b[38;5;124;43m\"\u001b[39;49m\u001b[38;5;124;43mtabulate\u001b[39;49m\u001b[38;5;124;43m\"\u001b[39;49m\u001b[43m)\u001b[49m\n\u001b[0;32m   2984\u001b[0m result \u001b[38;5;241m=\u001b[39m tabulate\u001b[38;5;241m.\u001b[39mtabulate(\u001b[38;5;28mself\u001b[39m, \u001b[38;5;241m*\u001b[39m\u001b[38;5;241m*\u001b[39mkwargs)\n\u001b[0;32m   2985\u001b[0m \u001b[38;5;28;01mif\u001b[39;00m buf \u001b[38;5;129;01mis\u001b[39;00m \u001b[38;5;28;01mNone\u001b[39;00m:\n",
      "File \u001b[1;32m~\\.conda\\envs\\SHM\\lib\\site-packages\\pandas\\compat\\_optional.py:138\u001b[0m, in \u001b[0;36mimport_optional_dependency\u001b[1;34m(name, extra, errors, min_version)\u001b[0m\n\u001b[0;32m    136\u001b[0m \u001b[38;5;28;01mexcept\u001b[39;00m \u001b[38;5;167;01mImportError\u001b[39;00m:\n\u001b[0;32m    137\u001b[0m     \u001b[38;5;28;01mif\u001b[39;00m errors \u001b[38;5;241m==\u001b[39m \u001b[38;5;124m\"\u001b[39m\u001b[38;5;124mraise\u001b[39m\u001b[38;5;124m\"\u001b[39m:\n\u001b[1;32m--> 138\u001b[0m         \u001b[38;5;28;01mraise\u001b[39;00m \u001b[38;5;167;01mImportError\u001b[39;00m(msg)\n\u001b[0;32m    139\u001b[0m     \u001b[38;5;28;01mreturn\u001b[39;00m \u001b[38;5;28;01mNone\u001b[39;00m\n\u001b[0;32m    141\u001b[0m \u001b[38;5;66;03m# Handle submodules: if we have submodule, grab parent module from sys.modules\u001b[39;00m\n",
      "\u001b[1;31mImportError\u001b[0m: Missing optional dependency 'tabulate'.  Use pip or conda to install tabulate."
     ]
    }
   ],
   "source": [
    "class BestConfig:\n",
    "    def __init__(self, config_dict):\n",
    "        for key, value in config_dict.items():\n",
    "            setattr(self, key, value)\n",
    "\n",
    "best_config_dict = {\n",
    "    \"batch_size\": 356,\n",
    "    \"beam_size\": 5,\n",
    "    \"cell_type\": \"GRU\",\n",
    "    \"decoder_layers\": 2,\n",
    "    \"dropout_rate\": 0.2,\n",
    "    \"early_stopping_patience\": 5,\n",
    "    \"encoder_layers\": 1,\n",
    "    \"epochs\": 50, \n",
    "    \"hidden_size\": 256,\n",
    "    \"input_embedding_size\": 64,\n",
    "    \"learning_rate\": 0.001,\n",
    "    \"optimizer\": \"nadam\"\n",
    "}\n",
    "best_config = BestConfig(best_config_dict)\n",
    "print(\"Using Best Configuration:\", best_config_dict)\n",
    "\n",
    "print(\"\\n--- Retraining model on full training data with best configuration ---\")\n",
    "keras.backend.clear_session()\n",
    "\n",
    "# Vectorizing\n",
    "encoder_input_train_full_vec, decoder_input_train_full_vec, decoder_target_train_full_vec = vectorize_data(\n",
    "    input_texts_train_full, target_texts_train_full\n",
    ")\n",
    "\n",
    "best_model = build_seq2seq_model(best_config)\n",
    "\n",
    "early_stopping_retrain = EarlyStopping(\n",
    "    monitor='val_loss', \n",
    "    patience=best_config.early_stopping_patience, \n",
    "    restore_best_weights=True,\n",
    "    verbose=1\n",
    ")\n",
    "\n",
    "history_retrain = best_model.fit(\n",
    "    [encoder_input_train_full_vec, decoder_input_train_full_vec],\n",
    "    decoder_target_train_full_vec,\n",
    "    batch_size=best_config.batch_size, \n",
    "    epochs=best_config.epochs, \n",
    "    validation_data=([encoder_input_val, decoder_input_val], decoder_target_val),\n",
    "    callbacks=[early_stopping_retrain],\n",
    "    verbose=1\n",
    ")\n",
    "print(\"Retraining complete.\")\n",
    "\n",
    "# --- 2. Preparing Test Data ---\n",
    "if not input_texts_test:\n",
    "    print(\"Test data not loaded. Please check Cell 3.\")\n",
    "else:\n",
    "    encoder_input_test_vec, _, _ = vectorize_data(input_texts_test, [\"\"]*len(input_texts_test)) # Dummy targets\n",
    "    print(f\"\\nTest samples: {len(input_texts_test)}\")\n",
    "    print(f\"Shape of encoder_input_test_vec: {encoder_input_test_vec.shape}\")\n",
    "\n",
    "\n",
    "    # --- 3. Building Inference Models ---\n",
    "    print(\"\\n--- Building inference models for test set evaluation ---\")\n",
    "    encoder_model_inf_test, decoder_model_inf_test = build_inference_models(best_model, best_config)\n",
    "\n",
    "    # --- 4. Making Predictions on Test Set ---\n",
    "    print(f\"\\n--- Predicting on test set using beam_size: {best_config.beam_size} ---\")\n",
    "    test_predictions = []\n",
    "    correct_test_predictions = 0\n",
    "    \n",
    "    # Creating directory for predictions\n",
    "    predictions_dir = \"predictions_vanilla\"\n",
    "    os.makedirs(predictions_dir, exist_ok=True)\n",
    "    prediction_file_path = os.path.join(predictions_dir, \"test_predictions_vanilla.tsv\")\n",
    "\n",
    "    with open(prediction_file_path, \"w\", encoding=\"utf-8\") as f_out:\n",
    "        f_out.write(\"Input (Roman)\\tActual (Devanagari)\\tPredicted (Devanagari)\\n\") # Header\n",
    "        \n",
    "        for i in tqdm(range(len(input_texts_test))):\n",
    "            input_seq_vectorized_test = encoder_input_test_vec[i:i+1] # Shape (1, max_encoder_seq_length)\n",
    "            \n",
    "            decoded_sentence_test = decode_sequence_beam_search(\n",
    "                input_seq_vectorized_test,\n",
    "                encoder_model_inf_test,\n",
    "                decoder_model_inf_test,\n",
    "                best_config.beam_size,\n",
    "                best_config # Passing the whole config\n",
    "            )\n",
    "            test_predictions.append(decoded_sentence_test)\n",
    "            \n",
    "            actual_target = target_texts_test[i]\n",
    "            f_out.write(f\"{input_texts_test[i]}\\t{actual_target}\\t{decoded_sentence_test}\\n\")\n",
    "\n",
    "            if decoded_sentence_test == actual_target:\n",
    "                correct_test_predictions += 1\n",
    "            \n",
    "            if (i+1) % 100 == 0: # Printing progress\n",
    "                 print(f\"Processed {i+1}/{len(input_texts_test)} test samples...\")\n",
    "\n",
    "\n",
    "    # --- (a) Reporting Accuracy on Test Set ---\n",
    "    test_accuracy = correct_test_predictions / len(input_texts_test) if len(input_texts_test) > 0 else 0.0\n",
    "    print(f\"\\n--- Test Set Evaluation (Best Model) ---\")\n",
    "    print(f\"Exact Match Accuracy on Test Set: {test_accuracy:.4f} ({correct_test_predictions}/{len(input_texts_test)})\")\n",
    "    \n",
    "    # --- (b) Providing Sample Inputs and Predictions ---\n",
    "    print(\"\\n--- Sample Predictions from Test Set ---\")\n",
    "    sample_indices = np.random.choice(len(input_texts_test), min(15, len(input_texts_test)), replace=False)\n",
    "    \n",
    "    results_data = []\n",
    "    for i in sample_indices:\n",
    "        input_word = input_texts_test[i]\n",
    "        true_translation = target_texts_test[i]\n",
    "        model_prediction = test_predictions[i]\n",
    "        is_correct = \"✅\" if model_prediction == true_translation else \"❌\"\n",
    "        results_data.append([input_word, true_translation, model_prediction, is_correct])\n",
    "        \n",
    "    results_df = pd.DataFrame(results_data, columns=[\"Input (Roman)\", \"Actual (Devanagari)\", \"Predicted (Devanagari)\", \"Correct?\"])\n",
    "    \n",
    "    from IPython.display import display, Markdown\n",
    "    display(Markdown(results_df.to_markdown(index=False)))\n",
    "\n",
    "    print(f\"\\nAll predictions saved to: {prediction_file_path}\")\n",
    "    print(\"Uploaded this file to my GitHub project in a folder named 'predictions_vanilla'.\")"
   ]
  },
  {
   "cell_type": "code",
   "execution_count": 10,
   "id": "8dade937-9740-4a8a-8251-6ca02d9477cd",
   "metadata": {},
   "outputs": [
    {
     "data": {
      "text/markdown": [
       "| Input (Roman)   | Actual (Devanagari)   | Predicted (Devanagari)   | Correct?   |\n",
       "|:----------------|:----------------------|:-------------------------|:-----------|\n",
       "| pahantaa        | पहनता                 | पहनता                    | ✅         |\n",
       "| moryon          | मौर्यों                 | मोर्यों                    | ❌         |\n",
       "| vidyaon         | विद्याओं                | विद्याओं                   | ✅         |\n",
       "| bahamaas        | बहामास                | बहमास                    | ❌         |\n",
       "| standhaari      | स्तनधारी               | स्तंधारी                   | ❌         |\n",
       "| mahanirdeshak   | महानिदेशक              | महानिर्देशों                | ❌         |\n",
       "| darul           | दारूल                  | दारुल                     | ❌         |\n",
       "| siswa           | सिसवा                 | सिस्व                     | ❌         |\n",
       "| anawashyak      | अनावश्यक               | अनवाश्यक                  | ❌         |\n",
       "| zuban           | ज़ुबान                  | जुबान                     | ❌         |\n",
       "| halt            | हाल्ट                  | हल्ट                      | ❌         |\n",
       "| maisore         | मैसोर                  | मैसोर                     | ✅         |\n",
       "| siyah           | सियाह                 | सियाह                    | ✅         |\n",
       "| nageene         | नगीने                  | नगीने                     | ✅         |\n",
       "| alind           | अलिंद                  | अलिंद                     | ✅         |"
      ],
      "text/plain": [
       "<IPython.core.display.Markdown object>"
      ]
     },
     "metadata": {},
     "output_type": "display_data"
    },
    {
     "name": "stdout",
     "output_type": "stream",
     "text": [
      "\n",
      "All predictions saved to: predictions_vanilla\\test_predictions_vanilla.tsv\n",
      "Please upload this file to your GitHub project in a folder named 'predictions_vanilla'.\n",
      "\n",
      "--- Comments on Errors (Qualitative Analysis based on samples) ---\n",
      "*   Average input length for sampled errors: 6.44\n",
      "*   Number of sampled errors on input sequences longer than 7 chars: 12 out of 50 sampled errors.\n",
      "\n",
      "*   **General Observations on Error Types (manual inspection needed for specifics):**\n",
      "    *   **Length Mismatches:** The model might produce outputs that are shorter or longer than the target.\n",
      "        - In 50 sampled errors, 32 had length mismatches between actual and predicted.\n",
      "    *   **Specific Character Confusions:** Look for patterns like one vowel being substituted for another, or similar-sounding consonants being mixed up (e.g., 'b' vs 'bh', 'd' vs 'dh'). This requires careful manual review of the `test_predictions_vanilla.tsv` file.\n",
      "    *   **Handling of Complex Conjuncts (Sanyuktakshar):** Hindi has many conjunct consonants. The model might simplify these or misrepresent them.\n",
      "    *   **Rare Characters or Sequences:** Characters or sequences that were infrequent in the training data might be predicted less accurately.\n",
      "    *   **Repetitions or Omissions:** The model might incorrectly repeat characters or omit necessary ones, especially in longer words.\n",
      "    *   **Influence of Romanization Ambiguity:** Some Romanizations can be ambiguous (e.g., 'a' can map to 'अ' or be part of a vowel sound like 'aa' for 'आ'). The model might struggle with these.\n",
      "\n",
      "    *   **Suggestion for Deeper Error Analysis:**\n",
      "        *   A character-level confusion matrix could be very insightful. It would show which target characters are most often confused with which predicted characters.\n",
      "        *   Categorize errors by linguistic phenomena (e.g., vowel errors, consonant errors, conjunct errors, errors involving modifiers like anusvara/chandrabindu).\n"
     ]
    }
   ],
   "source": []
  },
  {
   "cell_type": "code",
   "execution_count": null,
   "id": "07acd94b-fb4f-4e1e-b02c-a0b4034b9d54",
   "metadata": {},
   "outputs": [],
   "source": []
  }
 ],
 "metadata": {
  "kernelspec": {
   "display_name": "Python 3 (ipykernel)",
   "language": "python",
   "name": "python3"
  },
  "language_info": {
   "codemirror_mode": {
    "name": "ipython",
    "version": 3
   },
   "file_extension": ".py",
   "mimetype": "text/x-python",
   "name": "python",
   "nbconvert_exporter": "python",
   "pygments_lexer": "ipython3",
   "version": "3.9.20"
  }
 },
 "nbformat": 4,
 "nbformat_minor": 5
}
